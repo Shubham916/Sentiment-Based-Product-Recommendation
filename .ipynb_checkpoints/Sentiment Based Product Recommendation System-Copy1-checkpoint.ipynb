{
 "cells": [
  {
   "cell_type": "markdown",
   "metadata": {
    "id": "rt3A8ZvmQJUB"
   },
   "source": [
    "# Problem Statement"
   ]
  },
  {
   "cell_type": "markdown",
   "metadata": {
    "id": "wh2FKN78QULl"
   },
   "source": [
    "The e-commerce business is quite popular today. Here, you do not need to take orders by going to each customer. A company launches its website to sell the items to the end consumer, and customers can order the products that they require from the same website. Famous examples of such e-commerce companies are Amazon, Flipkart, Myntra, Paytm and Snapdeal.\n",
    "\n",
    " \n",
    "\n",
    "Suppose you are working as a Machine Learning Engineer in an e-commerce company named 'Ebuss'. Ebuss has captured a huge market share in many fields, and it sells the products in various categories such as household essentials, books, personal care products, medicines, cosmetic items, beauty products, electrical appliances, kitchen and dining products and health care products.\n",
    "\n",
    " \n",
    "\n",
    "With the advancement in technology, it is imperative for Ebuss to grow quickly in the e-commerce market to become a major leader in the market because it has to compete with the likes of Amazon, Flipkart, etc., which are already market leaders.\n",
    "\n",
    " \n",
    "\n",
    "As a senior ML Engineer, you are asked to build a model that will improve the recommendations given to the users given their past reviews and ratings.\n",
    "\n",
    "In order to do this, you planned to build a sentiment-based product recommendation system"
   ]
  },
  {
   "cell_type": "markdown",
   "metadata": {
    "id": "JJ4KONLLRjyu"
   },
   "source": [
    "# High level steps that need to be performed\n",
    "\n",
    "* Data sourcing and sentiment analysis\n",
    "* Building a recommendation system\n",
    "* Improving the recommendations using the sentiment analysis model\n",
    "* Deploying the end-to-end project with a user interface"
   ]
  },
  {
   "cell_type": "markdown",
   "metadata": {
    "id": "6SxXWYIUSco0"
   },
   "source": [
    "# Importing the necessary libraries"
   ]
  },
  {
   "cell_type": "code",
   "execution_count": 1,
   "metadata": {
    "ExecuteTime": {
     "end_time": "2022-04-06T05:46:26.577175Z",
     "start_time": "2022-04-06T05:46:26.564176Z"
    },
    "executionInfo": {
     "elapsed": 183,
     "status": "ok",
     "timestamp": 1649225022605,
     "user": {
      "displayName": "Venkatasubramanian S",
      "userId": "06029493893713790610"
     },
     "user_tz": 420
    },
    "id": "FCn_lboRcD6L"
   },
   "outputs": [],
   "source": [
    "# !pip install pyspellchecker"
   ]
  },
  {
   "cell_type": "code",
   "execution_count": 2,
   "metadata": {
    "ExecuteTime": {
     "end_time": "2022-04-06T05:46:38.293556Z",
     "start_time": "2022-04-06T05:46:26.580179Z"
    },
    "colab": {
     "base_uri": "https://localhost:8080/"
    },
    "executionInfo": {
     "elapsed": 799,
     "status": "ok",
     "timestamp": 1649225023964,
     "user": {
      "displayName": "Venkatasubramanian S",
      "userId": "06029493893713790610"
     },
     "user_tz": 420
    },
    "id": "NrDvGiY2SfB2",
    "outputId": "4bcc9e92-fbd4-4e9d-d69b-294a2f5ba079"
   },
   "outputs": [
    {
     "name": "stderr",
     "output_type": "stream",
     "text": [
      "[nltk_data] Downloading package punkt to\n",
      "[nltk_data]     C:\\Users\\Asus\\AppData\\Roaming\\nltk_data...\n",
      "[nltk_data]   Package punkt is already up-to-date!\n",
      "[nltk_data] Downloading package averaged_perceptron_tagger to\n",
      "[nltk_data]     C:\\Users\\Asus\\AppData\\Roaming\\nltk_data...\n",
      "[nltk_data]   Package averaged_perceptron_tagger is already up-to-\n",
      "[nltk_data]       date!\n"
     ]
    }
   ],
   "source": [
    "import json \n",
    "import numpy as np\n",
    "import pandas as pd\n",
    "#import re, nltk, spacy, string\n",
    "import re\n",
    "import nltk\n",
    "\n",
    "import spacy\n",
    "# Load the English language model and disable parser and NER\n",
    "nlp = spacy.load('en_core_web_sm', disable=[\"parser\", \"ner\"])\n",
    "\n",
    "#import spaCy\n",
    "#nlp = en_core_web_sm.load()\n",
    "#nlp = spaCy.load('en_core_web_sm',  disable=[\"parser\", \"ner\"])\n",
    "import seaborn as sns\n",
    "import matplotlib.pyplot as plt\n",
    "%matplotlib inline\n",
    "\n",
    "from plotly.offline import plot\n",
    "import plotly.graph_objects as go\n",
    "import plotly.express as px\n",
    "\n",
    "import nltk\n",
    "nltk.download('punkt')\n",
    "nltk.download('averaged_perceptron_tagger')\n",
    "\n",
    "from nltk.tokenize import word_tokenize\n",
    "from collections import Counter\n",
    "import string\n",
    "from nltk.stem.porter import PorterStemmer\n",
    "from nltk.stem import WordNetLemmatizer\n",
    "\n",
    "# import spellchecker\n",
    "# from spellchecker import SpellChecker\n",
    "\n",
    "from textblob import TextBlob\n",
    "from wordcloud import WordCloud, STOPWORDS, ImageColorGenerator\n",
    "from imblearn.over_sampling import SMOTE\n",
    "\n",
    "# Import pickle to save and load the model\n",
    "import pickle\n",
    "\n",
    "from sklearn.feature_extraction.text import CountVectorizer, TfidfVectorizer, TfidfTransformer\n",
    "from sklearn.metrics import accuracy_score\n",
    "from sklearn.model_selection import train_test_split, cross_val_score\n",
    "from sklearn.model_selection import RandomizedSearchCV, GridSearchCV\n",
    "from sklearn.metrics import confusion_matrix, classification_report, roc_auc_score\n",
    "from sklearn.metrics import precision_score, recall_score, f1_score\n",
    "\n",
    "\n",
    "####not imported yet error\n",
    "#from sklearn.metrics import plot_roc_curve\n",
    "\n",
    "# Importing LogisticRegression from sklearn\n",
    "from sklearn.linear_model import LogisticRegression\n",
    "\n",
    "# Importing Random Forest Classifier from sklearn\n",
    "from sklearn.ensemble import RandomForestClassifier\n",
    "\n",
    "# importing libraries for XGBoost classifier\n",
    "import xgboost as xgb\n",
    "from xgboost import XGBClassifier\n",
    "\n",
    "from sklearn.metrics.pairwise import pairwise_distances\n",
    "\n",
    "from pprint import pprint"
   ]
  },
  {
   "cell_type": "code",
   "execution_count": 3,
   "metadata": {
    "ExecuteTime": {
     "end_time": "2022-04-06T05:46:38.309571Z",
     "start_time": "2022-04-06T05:46:38.295417Z"
    },
    "executionInfo": {
     "elapsed": 6,
     "status": "ok",
     "timestamp": 1649225023965,
     "user": {
      "displayName": "Venkatasubramanian S",
      "userId": "06029493893713790610"
     },
     "user_tz": 420
    },
    "id": "hcxWvOPDSfyS"
   },
   "outputs": [],
   "source": [
    "# Setting max rows and columns\n",
    "#pd.set_option('max_columns', 50)\n",
    "#pd.set_option('max_rows', 50)\n",
    "#pd.set_option('display.max_colwidth', 300)\n",
    "#pd.set_option(\"display.precision\", 2)"
   ]
  },
  {
   "cell_type": "code",
   "execution_count": 4,
   "metadata": {
    "ExecuteTime": {
     "end_time": "2022-04-06T05:46:38.325455Z",
     "start_time": "2022-04-06T05:46:38.311417Z"
    },
    "executionInfo": {
     "elapsed": 5,
     "status": "ok",
     "timestamp": 1649225023965,
     "user": {
      "displayName": "Venkatasubramanian S",
      "userId": "06029493893713790610"
     },
     "user_tz": 420
    },
    "id": "VLRfq8IKQ0HZ"
   },
   "outputs": [],
   "source": [
    "# Ignore warnings\n",
    "import warnings\n",
    "warnings.filterwarnings(\"ignore\")"
   ]
  },
  {
   "cell_type": "markdown",
   "metadata": {
    "id": "4SuZIYzUTcP4"
   },
   "source": [
    "# Loading the data"
   ]
  },
  {
   "cell_type": "code",
   "execution_count": 5,
   "metadata": {
    "ExecuteTime": {
     "end_time": "2022-04-06T05:46:38.684461Z",
     "start_time": "2022-04-06T05:46:38.327458Z"
    },
    "executionInfo": {
     "elapsed": 249,
     "status": "ok",
     "timestamp": 1649225024210,
     "user": {
      "displayName": "Venkatasubramanian S",
      "userId": "06029493893713790610"
     },
     "user_tz": 420
    },
    "id": "VkGa267oTmCV"
   },
   "outputs": [],
   "source": [
    "df = pd.read_csv(\"sample30.csv\")"
   ]
  },
  {
   "cell_type": "markdown",
   "metadata": {
    "id": "QuQ2tIi_UkzE"
   },
   "source": [
    "# Exploratory Data Analysis"
   ]
  },
  {
   "cell_type": "code",
   "execution_count": 6,
   "metadata": {
    "ExecuteTime": {
     "end_time": "2022-04-06T05:46:38.700458Z",
     "start_time": "2022-04-06T05:46:38.686460Z"
    },
    "colab": {
     "base_uri": "https://localhost:8080/"
    },
    "executionInfo": {
     "elapsed": 10,
     "status": "ok",
     "timestamp": 1649225024210,
     "user": {
      "displayName": "Venkatasubramanian S",
      "userId": "06029493893713790610"
     },
     "user_tz": 420
    },
    "id": "JuVz_FdOU-rD",
    "outputId": "3e3222cf-de41-41b4-ff92-d49a88422ba3"
   },
   "outputs": [
    {
     "data": {
      "text/plain": [
       "(30000, 15)"
      ]
     },
     "execution_count": 6,
     "metadata": {},
     "output_type": "execute_result"
    }
   ],
   "source": [
    "df.shape"
   ]
  },
  {
   "cell_type": "markdown",
   "metadata": {
    "id": "OsNywMaaVIAN"
   },
   "source": [
    "We have 30,000 rows and 15 columns"
   ]
  },
  {
   "cell_type": "code",
   "execution_count": 7,
   "metadata": {
    "ExecuteTime": {
     "end_time": "2022-04-06T05:46:38.778460Z",
     "start_time": "2022-04-06T05:46:38.703458Z"
    },
    "colab": {
     "base_uri": "https://localhost:8080/"
    },
    "executionInfo": {
     "elapsed": 191,
     "status": "ok",
     "timestamp": 1649225024398,
     "user": {
      "displayName": "Venkatasubramanian S",
      "userId": "06029493893713790610"
     },
     "user_tz": 420
    },
    "id": "IAxEMrSiVLMr",
    "outputId": "c0a9191d-4fc9-4bd4-8c3d-8f4575950146"
   },
   "outputs": [
    {
     "name": "stdout",
     "output_type": "stream",
     "text": [
      "<class 'pandas.core.frame.DataFrame'>\n",
      "RangeIndex: 30000 entries, 0 to 29999\n",
      "Data columns (total 15 columns):\n",
      " #   Column                Non-Null Count  Dtype \n",
      "---  ------                --------------  ----- \n",
      " 0   id                    30000 non-null  object\n",
      " 1   brand                 30000 non-null  object\n",
      " 2   categories            30000 non-null  object\n",
      " 3   manufacturer          29859 non-null  object\n",
      " 4   name                  30000 non-null  object\n",
      " 5   reviews_date          29954 non-null  object\n",
      " 6   reviews_didPurchase   15932 non-null  object\n",
      " 7   reviews_doRecommend   27430 non-null  object\n",
      " 8   reviews_rating        30000 non-null  int64 \n",
      " 9   reviews_text          30000 non-null  object\n",
      " 10  reviews_title         29810 non-null  object\n",
      " 11  reviews_userCity      1929 non-null   object\n",
      " 12  reviews_userProvince  170 non-null    object\n",
      " 13  reviews_username      29937 non-null  object\n",
      " 14  user_sentiment        29999 non-null  object\n",
      "dtypes: int64(1), object(14)\n",
      "memory usage: 3.4+ MB\n"
     ]
    }
   ],
   "source": [
    "# Inspect the dataframe to understand the given data.\n",
    "df.info()"
   ]
  },
  {
   "cell_type": "markdown",
   "metadata": {
    "id": "X0KZkM5pVS1i"
   },
   "source": [
    "* There are many columns with NULL values. This will need to handled later on.\n",
    "* We may not require some of the columns as part of our analysis to create Sentiment and Recommender models. We will inspect and remove these later."
   ]
  },
  {
   "cell_type": "code",
   "execution_count": 8,
   "metadata": {
    "ExecuteTime": {
     "end_time": "2022-04-06T05:46:38.809509Z",
     "start_time": "2022-04-06T05:46:38.781464Z"
    },
    "colab": {
     "base_uri": "https://localhost:8080/",
     "height": 1000
    },
    "executionInfo": {
     "elapsed": 14,
     "status": "ok",
     "timestamp": 1649225024399,
     "user": {
      "displayName": "Venkatasubramanian S",
      "userId": "06029493893713790610"
     },
     "user_tz": 420
    },
    "id": "ea33r65sVsmL",
    "outputId": "de32df8b-2648-45d0-ddb7-b3b0f794370a"
   },
   "outputs": [
    {
     "data": {
      "text/html": [
       "<div>\n",
       "<style scoped>\n",
       "    .dataframe tbody tr th:only-of-type {\n",
       "        vertical-align: middle;\n",
       "    }\n",
       "\n",
       "    .dataframe tbody tr th {\n",
       "        vertical-align: top;\n",
       "    }\n",
       "\n",
       "    .dataframe thead th {\n",
       "        text-align: right;\n",
       "    }\n",
       "</style>\n",
       "<table border=\"1\" class=\"dataframe\">\n",
       "  <thead>\n",
       "    <tr style=\"text-align: right;\">\n",
       "      <th></th>\n",
       "      <th>id</th>\n",
       "      <th>brand</th>\n",
       "      <th>categories</th>\n",
       "      <th>manufacturer</th>\n",
       "      <th>name</th>\n",
       "      <th>reviews_date</th>\n",
       "      <th>reviews_didPurchase</th>\n",
       "      <th>reviews_doRecommend</th>\n",
       "      <th>reviews_rating</th>\n",
       "      <th>reviews_text</th>\n",
       "      <th>reviews_title</th>\n",
       "      <th>reviews_userCity</th>\n",
       "      <th>reviews_userProvince</th>\n",
       "      <th>reviews_username</th>\n",
       "      <th>user_sentiment</th>\n",
       "    </tr>\n",
       "  </thead>\n",
       "  <tbody>\n",
       "    <tr>\n",
       "      <th>0</th>\n",
       "      <td>AV13O1A8GV-KLJ3akUyj</td>\n",
       "      <td>Universal Music</td>\n",
       "      <td>Movies, Music &amp; Books,Music,R&amp;b,Movies &amp; TV,Mo...</td>\n",
       "      <td>Universal Music Group / Cash Money</td>\n",
       "      <td>Pink Friday: Roman Reloaded Re-Up (w/dvd)</td>\n",
       "      <td>2012-11-30T06:21:45.000Z</td>\n",
       "      <td>NaN</td>\n",
       "      <td>NaN</td>\n",
       "      <td>5</td>\n",
       "      <td>i love this album. it's very good. more to the...</td>\n",
       "      <td>Just Awesome</td>\n",
       "      <td>Los Angeles</td>\n",
       "      <td>NaN</td>\n",
       "      <td>joshua</td>\n",
       "      <td>Positive</td>\n",
       "    </tr>\n",
       "    <tr>\n",
       "      <th>1</th>\n",
       "      <td>AV14LG0R-jtxr-f38QfS</td>\n",
       "      <td>Lundberg</td>\n",
       "      <td>Food,Packaged Foods,Snacks,Crackers,Snacks, Co...</td>\n",
       "      <td>Lundberg</td>\n",
       "      <td>Lundberg Organic Cinnamon Toast Rice Cakes</td>\n",
       "      <td>2017-07-09T00:00:00.000Z</td>\n",
       "      <td>True</td>\n",
       "      <td>NaN</td>\n",
       "      <td>5</td>\n",
       "      <td>Good flavor. This review was collected as part...</td>\n",
       "      <td>Good</td>\n",
       "      <td>NaN</td>\n",
       "      <td>NaN</td>\n",
       "      <td>dorothy w</td>\n",
       "      <td>Positive</td>\n",
       "    </tr>\n",
       "    <tr>\n",
       "      <th>2</th>\n",
       "      <td>AV14LG0R-jtxr-f38QfS</td>\n",
       "      <td>Lundberg</td>\n",
       "      <td>Food,Packaged Foods,Snacks,Crackers,Snacks, Co...</td>\n",
       "      <td>Lundberg</td>\n",
       "      <td>Lundberg Organic Cinnamon Toast Rice Cakes</td>\n",
       "      <td>2017-07-09T00:00:00.000Z</td>\n",
       "      <td>True</td>\n",
       "      <td>NaN</td>\n",
       "      <td>5</td>\n",
       "      <td>Good flavor.</td>\n",
       "      <td>Good</td>\n",
       "      <td>NaN</td>\n",
       "      <td>NaN</td>\n",
       "      <td>dorothy w</td>\n",
       "      <td>Positive</td>\n",
       "    </tr>\n",
       "    <tr>\n",
       "      <th>3</th>\n",
       "      <td>AV16khLE-jtxr-f38VFn</td>\n",
       "      <td>K-Y</td>\n",
       "      <td>Personal Care,Medicine Cabinet,Lubricant/Sperm...</td>\n",
       "      <td>K-Y</td>\n",
       "      <td>K-Y Love Sensuality Pleasure Gel</td>\n",
       "      <td>2016-01-06T00:00:00.000Z</td>\n",
       "      <td>False</td>\n",
       "      <td>False</td>\n",
       "      <td>1</td>\n",
       "      <td>I read through the reviews on here before look...</td>\n",
       "      <td>Disappointed</td>\n",
       "      <td>NaN</td>\n",
       "      <td>NaN</td>\n",
       "      <td>rebecca</td>\n",
       "      <td>Negative</td>\n",
       "    </tr>\n",
       "    <tr>\n",
       "      <th>4</th>\n",
       "      <td>AV16khLE-jtxr-f38VFn</td>\n",
       "      <td>K-Y</td>\n",
       "      <td>Personal Care,Medicine Cabinet,Lubricant/Sperm...</td>\n",
       "      <td>K-Y</td>\n",
       "      <td>K-Y Love Sensuality Pleasure Gel</td>\n",
       "      <td>2016-12-21T00:00:00.000Z</td>\n",
       "      <td>False</td>\n",
       "      <td>False</td>\n",
       "      <td>1</td>\n",
       "      <td>My husband bought this gel for us. The gel cau...</td>\n",
       "      <td>Irritation</td>\n",
       "      <td>NaN</td>\n",
       "      <td>NaN</td>\n",
       "      <td>walker557</td>\n",
       "      <td>Negative</td>\n",
       "    </tr>\n",
       "  </tbody>\n",
       "</table>\n",
       "</div>"
      ],
      "text/plain": [
       "                     id            brand  \\\n",
       "0  AV13O1A8GV-KLJ3akUyj  Universal Music   \n",
       "1  AV14LG0R-jtxr-f38QfS         Lundberg   \n",
       "2  AV14LG0R-jtxr-f38QfS         Lundberg   \n",
       "3  AV16khLE-jtxr-f38VFn              K-Y   \n",
       "4  AV16khLE-jtxr-f38VFn              K-Y   \n",
       "\n",
       "                                          categories  \\\n",
       "0  Movies, Music & Books,Music,R&b,Movies & TV,Mo...   \n",
       "1  Food,Packaged Foods,Snacks,Crackers,Snacks, Co...   \n",
       "2  Food,Packaged Foods,Snacks,Crackers,Snacks, Co...   \n",
       "3  Personal Care,Medicine Cabinet,Lubricant/Sperm...   \n",
       "4  Personal Care,Medicine Cabinet,Lubricant/Sperm...   \n",
       "\n",
       "                         manufacturer  \\\n",
       "0  Universal Music Group / Cash Money   \n",
       "1                            Lundberg   \n",
       "2                            Lundberg   \n",
       "3                                 K-Y   \n",
       "4                                 K-Y   \n",
       "\n",
       "                                         name              reviews_date  \\\n",
       "0   Pink Friday: Roman Reloaded Re-Up (w/dvd)  2012-11-30T06:21:45.000Z   \n",
       "1  Lundberg Organic Cinnamon Toast Rice Cakes  2017-07-09T00:00:00.000Z   \n",
       "2  Lundberg Organic Cinnamon Toast Rice Cakes  2017-07-09T00:00:00.000Z   \n",
       "3            K-Y Love Sensuality Pleasure Gel  2016-01-06T00:00:00.000Z   \n",
       "4            K-Y Love Sensuality Pleasure Gel  2016-12-21T00:00:00.000Z   \n",
       "\n",
       "  reviews_didPurchase reviews_doRecommend  reviews_rating  \\\n",
       "0                 NaN                 NaN               5   \n",
       "1                True                 NaN               5   \n",
       "2                True                 NaN               5   \n",
       "3               False               False               1   \n",
       "4               False               False               1   \n",
       "\n",
       "                                        reviews_text reviews_title  \\\n",
       "0  i love this album. it's very good. more to the...  Just Awesome   \n",
       "1  Good flavor. This review was collected as part...          Good   \n",
       "2                                       Good flavor.          Good   \n",
       "3  I read through the reviews on here before look...  Disappointed   \n",
       "4  My husband bought this gel for us. The gel cau...    Irritation   \n",
       "\n",
       "  reviews_userCity reviews_userProvince reviews_username user_sentiment  \n",
       "0      Los Angeles                  NaN           joshua       Positive  \n",
       "1              NaN                  NaN        dorothy w       Positive  \n",
       "2              NaN                  NaN        dorothy w       Positive  \n",
       "3              NaN                  NaN          rebecca       Negative  \n",
       "4              NaN                  NaN        walker557       Negative  "
      ]
     },
     "execution_count": 8,
     "metadata": {},
     "output_type": "execute_result"
    }
   ],
   "source": [
    "# Print top 5 rows of the data\n",
    "df.head()"
   ]
  },
  {
   "cell_type": "markdown",
   "metadata": {
    "id": "H-C-PZ_7WUtg"
   },
   "source": [
    "Below is the data dictionary that provides information on the type of information contained in each attribute for reference"
   ]
  },
  {
   "cell_type": "markdown",
   "metadata": {
    "id": "YjB7-uRGWnM9"
   },
   "source": [
    "![image.png](data:image/png;base64,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)"
   ]
  },
  {
   "cell_type": "markdown",
   "metadata": {
    "id": "44utW9rtYiia"
   },
   "source": [
    "## Data Cleaning"
   ]
  },
  {
   "cell_type": "markdown",
   "metadata": {
    "id": "mFI8PLfMYlxf"
   },
   "source": [
    "### Handling NULL values"
   ]
  },
  {
   "cell_type": "code",
   "execution_count": 9,
   "metadata": {
    "ExecuteTime": {
     "end_time": "2022-04-06T05:46:38.932696Z",
     "start_time": "2022-04-06T05:46:38.810577Z"
    },
    "colab": {
     "base_uri": "https://localhost:8080/",
     "height": 332
    },
    "executionInfo": {
     "elapsed": 13,
     "status": "ok",
     "timestamp": 1649225024400,
     "user": {
      "displayName": "Venkatasubramanian S",
      "userId": "06029493893713790610"
     },
     "user_tz": 420
    },
    "id": "b-6Q6xT8YoOV",
    "outputId": "baa3d3ce-368c-4970-c177-1f5fca74939b"
   },
   "outputs": [
    {
     "data": {
      "text/html": [
       "<div>\n",
       "<style scoped>\n",
       "    .dataframe tbody tr th:only-of-type {\n",
       "        vertical-align: middle;\n",
       "    }\n",
       "\n",
       "    .dataframe tbody tr th {\n",
       "        vertical-align: top;\n",
       "    }\n",
       "\n",
       "    .dataframe thead th {\n",
       "        text-align: right;\n",
       "    }\n",
       "</style>\n",
       "<table border=\"1\" class=\"dataframe\">\n",
       "  <thead>\n",
       "    <tr style=\"text-align: right;\">\n",
       "      <th></th>\n",
       "      <th>Count</th>\n",
       "      <th>Percentage</th>\n",
       "    </tr>\n",
       "  </thead>\n",
       "  <tbody>\n",
       "    <tr>\n",
       "      <th>reviews_userProvince</th>\n",
       "      <td>29830</td>\n",
       "      <td>99.433333</td>\n",
       "    </tr>\n",
       "    <tr>\n",
       "      <th>reviews_userCity</th>\n",
       "      <td>28071</td>\n",
       "      <td>93.570000</td>\n",
       "    </tr>\n",
       "    <tr>\n",
       "      <th>reviews_didPurchase</th>\n",
       "      <td>14068</td>\n",
       "      <td>46.893333</td>\n",
       "    </tr>\n",
       "    <tr>\n",
       "      <th>reviews_doRecommend</th>\n",
       "      <td>2570</td>\n",
       "      <td>8.566667</td>\n",
       "    </tr>\n",
       "    <tr>\n",
       "      <th>reviews_title</th>\n",
       "      <td>190</td>\n",
       "      <td>0.633333</td>\n",
       "    </tr>\n",
       "    <tr>\n",
       "      <th>manufacturer</th>\n",
       "      <td>141</td>\n",
       "      <td>0.470000</td>\n",
       "    </tr>\n",
       "    <tr>\n",
       "      <th>reviews_username</th>\n",
       "      <td>63</td>\n",
       "      <td>0.210000</td>\n",
       "    </tr>\n",
       "    <tr>\n",
       "      <th>reviews_date</th>\n",
       "      <td>46</td>\n",
       "      <td>0.153333</td>\n",
       "    </tr>\n",
       "    <tr>\n",
       "      <th>user_sentiment</th>\n",
       "      <td>1</td>\n",
       "      <td>0.003333</td>\n",
       "    </tr>\n",
       "  </tbody>\n",
       "</table>\n",
       "</div>"
      ],
      "text/plain": [
       "                      Count  Percentage\n",
       "reviews_userProvince  29830   99.433333\n",
       "reviews_userCity      28071   93.570000\n",
       "reviews_didPurchase   14068   46.893333\n",
       "reviews_doRecommend    2570    8.566667\n",
       "reviews_title           190    0.633333\n",
       "manufacturer            141    0.470000\n",
       "reviews_username         63    0.210000\n",
       "reviews_date             46    0.153333\n",
       "user_sentiment            1    0.003333"
      ]
     },
     "execution_count": 9,
     "metadata": {},
     "output_type": "execute_result"
    }
   ],
   "source": [
    "# Getting total number of NULL values and percentage of the columns\n",
    "null_count = df[df.columns[df.isna().any()]].isna().sum().sort_values(ascending=False)\n",
    "null_perc = (df[df.columns[df.isna().any()]].isna().sum() * 100 / df.shape[0]).sort_values(ascending=False)\n",
    "null_data = pd.concat([null_count, null_perc], axis=1, keys=['Count', 'Percentage'])\n",
    "null_data"
   ]
  },
  {
   "cell_type": "markdown",
   "metadata": {
    "id": "7awVo2dHZifO"
   },
   "source": [
    "**Observations:**\n",
    "1. `reviews_userProvince` and `reviews_userCity` have over 93% NULL values and are not useful for analysis. We will remove them from the dataset.\n",
    "2. `reviews_didPurchase` column has over 46% NULL values. This field is not useful in building either Sentiment/Recommender system as well and will be removed.\n",
    "\n"
   ]
  },
  {
   "cell_type": "markdown",
   "metadata": {
    "id": "Ep1JFeOhcn7n"
   },
   "source": [
    "### Removing `reviews_userProvince`, `reviews_userCity` and `reviews_didPurchase` from the dataset"
   ]
  },
  {
   "cell_type": "code",
   "execution_count": 10,
   "metadata": {
    "ExecuteTime": {
     "end_time": "2022-04-06T05:46:38.948536Z",
     "start_time": "2022-04-06T05:46:38.934692Z"
    },
    "executionInfo": {
     "elapsed": 11,
     "status": "ok",
     "timestamp": 1649225024400,
     "user": {
      "displayName": "Venkatasubramanian S",
      "userId": "06029493893713790610"
     },
     "user_tz": 420
    },
    "id": "N6URFzWf3f8t"
   },
   "outputs": [],
   "source": [
    "df_clean = df.copy()"
   ]
  },
  {
   "cell_type": "code",
   "execution_count": 11,
   "metadata": {
    "ExecuteTime": {
     "end_time": "2022-04-06T05:46:38.964539Z",
     "start_time": "2022-04-06T05:46:38.950537Z"
    },
    "executionInfo": {
     "elapsed": 466,
     "status": "ok",
     "timestamp": 1649225024856,
     "user": {
      "displayName": "Venkatasubramanian S",
      "userId": "06029493893713790610"
     },
     "user_tz": 420
    },
    "id": "ONgkpRf2ved9"
   },
   "outputs": [],
   "source": [
    "df_clean.drop(columns=['reviews_userProvince','reviews_userCity','reviews_didPurchase'], inplace=True)"
   ]
  },
  {
   "cell_type": "code",
   "execution_count": 12,
   "metadata": {
    "ExecuteTime": {
     "end_time": "2022-04-06T05:46:38.980539Z",
     "start_time": "2022-04-06T05:46:38.966539Z"
    },
    "colab": {
     "base_uri": "https://localhost:8080/"
    },
    "executionInfo": {
     "elapsed": 183,
     "status": "ok",
     "timestamp": 1649225024857,
     "user": {
      "displayName": "Venkatasubramanian S",
      "userId": "06029493893713790610"
     },
     "user_tz": 420
    },
    "id": "WYaVj6gnYk61",
    "outputId": "fb34d952-8595-4483-a723-a5661ccb2a29"
   },
   "outputs": [
    {
     "data": {
      "text/plain": [
       "(30000, 12)"
      ]
     },
     "execution_count": 12,
     "metadata": {},
     "output_type": "execute_result"
    }
   ],
   "source": [
    "df_clean.shape"
   ]
  },
  {
   "cell_type": "code",
   "execution_count": 13,
   "metadata": {
    "ExecuteTime": {
     "end_time": "2022-04-06T05:46:39.088539Z",
     "start_time": "2022-04-06T05:46:38.982590Z"
    },
    "colab": {
     "base_uri": "https://localhost:8080/",
     "height": 238
    },
    "executionInfo": {
     "elapsed": 13,
     "status": "ok",
     "timestamp": 1649225024857,
     "user": {
      "displayName": "Venkatasubramanian S",
      "userId": "06029493893713790610"
     },
     "user_tz": 420
    },
    "id": "sWPKuG343p4B",
    "outputId": "0511a297-92c8-439e-b363-bdcf0b16cf68"
   },
   "outputs": [
    {
     "data": {
      "text/html": [
       "<div>\n",
       "<style scoped>\n",
       "    .dataframe tbody tr th:only-of-type {\n",
       "        vertical-align: middle;\n",
       "    }\n",
       "\n",
       "    .dataframe tbody tr th {\n",
       "        vertical-align: top;\n",
       "    }\n",
       "\n",
       "    .dataframe thead th {\n",
       "        text-align: right;\n",
       "    }\n",
       "</style>\n",
       "<table border=\"1\" class=\"dataframe\">\n",
       "  <thead>\n",
       "    <tr style=\"text-align: right;\">\n",
       "      <th></th>\n",
       "      <th>Count</th>\n",
       "      <th>Percentage</th>\n",
       "    </tr>\n",
       "  </thead>\n",
       "  <tbody>\n",
       "    <tr>\n",
       "      <th>reviews_doRecommend</th>\n",
       "      <td>2570</td>\n",
       "      <td>8.566667</td>\n",
       "    </tr>\n",
       "    <tr>\n",
       "      <th>reviews_title</th>\n",
       "      <td>190</td>\n",
       "      <td>0.633333</td>\n",
       "    </tr>\n",
       "    <tr>\n",
       "      <th>manufacturer</th>\n",
       "      <td>141</td>\n",
       "      <td>0.470000</td>\n",
       "    </tr>\n",
       "    <tr>\n",
       "      <th>reviews_username</th>\n",
       "      <td>63</td>\n",
       "      <td>0.210000</td>\n",
       "    </tr>\n",
       "    <tr>\n",
       "      <th>reviews_date</th>\n",
       "      <td>46</td>\n",
       "      <td>0.153333</td>\n",
       "    </tr>\n",
       "    <tr>\n",
       "      <th>user_sentiment</th>\n",
       "      <td>1</td>\n",
       "      <td>0.003333</td>\n",
       "    </tr>\n",
       "  </tbody>\n",
       "</table>\n",
       "</div>"
      ],
      "text/plain": [
       "                     Count  Percentage\n",
       "reviews_doRecommend   2570    8.566667\n",
       "reviews_title          190    0.633333\n",
       "manufacturer           141    0.470000\n",
       "reviews_username        63    0.210000\n",
       "reviews_date            46    0.153333\n",
       "user_sentiment           1    0.003333"
      ]
     },
     "execution_count": 13,
     "metadata": {},
     "output_type": "execute_result"
    }
   ],
   "source": [
    "# Checking NULLs again\n",
    "null_count = df_clean[df_clean.columns[df_clean.isna().any()]].isna().sum().sort_values(ascending=False)\n",
    "null_perc = (df_clean[df_clean.columns[df_clean.isna().any()]].isna().sum() * 100 / df_clean.shape[0]).sort_values(ascending=False)\n",
    "null_data = pd.concat([null_count, null_perc], axis=1, keys=['Count', 'Percentage'])\n",
    "null_data"
   ]
  },
  {
   "cell_type": "markdown",
   "metadata": {
    "id": "dToXnZV34iM4"
   },
   "source": [
    "### Checking `reviews_doRecommend` column\n"
   ]
  },
  {
   "cell_type": "code",
   "execution_count": 14,
   "metadata": {
    "ExecuteTime": {
     "end_time": "2022-04-06T05:46:39.120397Z",
     "start_time": "2022-04-06T05:46:39.091540Z"
    },
    "colab": {
     "base_uri": "https://localhost:8080/"
    },
    "executionInfo": {
     "elapsed": 12,
     "status": "ok",
     "timestamp": 1649225024858,
     "user": {
      "displayName": "Venkatasubramanian S",
      "userId": "06029493893713790610"
     },
     "user_tz": 420
    },
    "id": "lfMBDhR2JdSP",
    "outputId": "bf785188-f281-483f-9e3e-09a1a364f62d"
   },
   "outputs": [
    {
     "data": {
      "text/plain": [
       "reviews_doRecommend\n",
       "True     0.943493\n",
       "False    0.056507\n",
       "Name: proportion, dtype: float64"
      ]
     },
     "execution_count": 14,
     "metadata": {},
     "output_type": "execute_result"
    }
   ],
   "source": [
    "df_clean.reviews_doRecommend.value_counts(normalize=True)"
   ]
  },
  {
   "cell_type": "code",
   "execution_count": 15,
   "metadata": {
    "ExecuteTime": {
     "end_time": "2022-04-06T05:46:40.024569Z",
     "start_time": "2022-04-06T05:46:39.123735Z"
    },
    "colab": {
     "base_uri": "https://localhost:8080/",
     "height": 280
    },
    "executionInfo": {
     "elapsed": 321,
     "status": "ok",
     "timestamp": 1649225025173,
     "user": {
      "displayName": "Venkatasubramanian S",
      "userId": "06029493893713790610"
     },
     "user_tz": 420
    },
    "id": "r7qhs_EzJk3Y",
    "outputId": "05876d90-a68a-4309-8406-c0f57156acb4"
   },
   "outputs": [
    {
     "data": {
      "image/png": "[encoded data removed]",
      "text/plain": [
       "<Figure size 640x480 with 1 Axes>"
      ]
     },
     "metadata": {},
     "output_type": "display_data"
    },
    {
     "name": "stdout",
     "output_type": "stream",
     "text": [
      "reviews_doRecommend\n",
      "True     94.349253\n",
      "False     5.650747\n",
      "Name: proportion, dtype: float64\n"
     ]
    }
   ],
   "source": [
    "sns.countplot(x = 'reviews_doRecommend', data = df_clean)\n",
    "plt.show()\n",
    "counts = df_clean['reviews_doRecommend'].value_counts(normalize=True) * 100\n",
    "print(counts)"
   ]
  },
  {
   "cell_type": "markdown",
   "metadata": {
    "id": "qAqx9w5eKxgG"
   },
   "source": [
    "Looking at the distribution of `reviews_doRecommend` column, we can see that more than 94% of the data is having True value. Hence, the column does not provide any useful information for the model to learn. We will drop this field"
   ]
  },
  {
   "cell_type": "code",
   "execution_count": 16,
   "metadata": {
    "ExecuteTime": {
     "end_time": "2022-04-06T05:46:40.055567Z",
     "start_time": "2022-04-06T05:46:40.028572Z"
    },
    "executionInfo": {
     "elapsed": 61,
     "status": "ok",
     "timestamp": 1649225025175,
     "user": {
      "displayName": "Venkatasubramanian S",
      "userId": "06029493893713790610"
     },
     "user_tz": 420
    },
    "id": "g0k_H6T5LILn"
   },
   "outputs": [],
   "source": [
    "#droping column\n",
    "df_clean.drop(columns=['reviews_doRecommend'], inplace=True)"
   ]
  },
  {
   "cell_type": "code",
   "execution_count": 17,
   "metadata": {
    "ExecuteTime": {
     "end_time": "2022-04-06T05:46:40.182554Z",
     "start_time": "2022-04-06T05:46:40.059571Z"
    },
    "colab": {
     "base_uri": "https://localhost:8080/",
     "height": 206
    },
    "executionInfo": {
     "elapsed": 61,
     "status": "ok",
     "timestamp": 1649225025176,
     "user": {
      "displayName": "Venkatasubramanian S",
      "userId": "06029493893713790610"
     },
     "user_tz": 420
    },
    "id": "6udU9faJLOs5",
    "outputId": "73d33578-5bf7-4149-ba95-227e2b9e8e1a"
   },
   "outputs": [
    {
     "data": {
      "text/html": [
       "<div>\n",
       "<style scoped>\n",
       "    .dataframe tbody tr th:only-of-type {\n",
       "        vertical-align: middle;\n",
       "    }\n",
       "\n",
       "    .dataframe tbody tr th {\n",
       "        vertical-align: top;\n",
       "    }\n",
       "\n",
       "    .dataframe thead th {\n",
       "        text-align: right;\n",
       "    }\n",
       "</style>\n",
       "<table border=\"1\" class=\"dataframe\">\n",
       "  <thead>\n",
       "    <tr style=\"text-align: right;\">\n",
       "      <th></th>\n",
       "      <th>Count</th>\n",
       "      <th>Percentage</th>\n",
       "    </tr>\n",
       "  </thead>\n",
       "  <tbody>\n",
       "    <tr>\n",
       "      <th>reviews_title</th>\n",
       "      <td>190</td>\n",
       "      <td>0.633333</td>\n",
       "    </tr>\n",
       "    <tr>\n",
       "      <th>manufacturer</th>\n",
       "      <td>141</td>\n",
       "      <td>0.470000</td>\n",
       "    </tr>\n",
       "    <tr>\n",
       "      <th>reviews_username</th>\n",
       "      <td>63</td>\n",
       "      <td>0.210000</td>\n",
       "    </tr>\n",
       "    <tr>\n",
       "      <th>reviews_date</th>\n",
       "      <td>46</td>\n",
       "      <td>0.153333</td>\n",
       "    </tr>\n",
       "    <tr>\n",
       "      <th>user_sentiment</th>\n",
       "      <td>1</td>\n",
       "      <td>0.003333</td>\n",
       "    </tr>\n",
       "  </tbody>\n",
       "</table>\n",
       "</div>"
      ],
      "text/plain": [
       "                  Count  Percentage\n",
       "reviews_title       190    0.633333\n",
       "manufacturer        141    0.470000\n",
       "reviews_username     63    0.210000\n",
       "reviews_date         46    0.153333\n",
       "user_sentiment        1    0.003333"
      ]
     },
     "execution_count": 17,
     "metadata": {},
     "output_type": "execute_result"
    }
   ],
   "source": [
    "# Checking NULLs again\n",
    "null_count = df_clean[df_clean.columns[df_clean.isna().any()]].isna().sum().sort_values(ascending=False)\n",
    "null_perc = (df_clean[df_clean.columns[df_clean.isna().any()]].isna().sum() * 100 / df_clean.shape[0]).sort_values(ascending=False)\n",
    "null_data = pd.concat([null_count, null_perc], axis=1, keys=['Count', 'Percentage'])\n",
    "null_data"
   ]
  },
  {
   "cell_type": "markdown",
   "metadata": {
    "id": "GgXgb2bxNuwk"
   },
   "source": [
    "### Handling NULL values in `reviews_title`"
   ]
  },
  {
   "cell_type": "markdown",
   "metadata": {
    "id": "nTBPvMVNNyYb"
   },
   "source": [
    "This column is an important component for our analysis as it contains the title of the review given by the user to a particular product. Since the NULL percentage is only 0.633%, we will remove these rows from the dataset."
   ]
  },
  {
   "cell_type": "code",
   "execution_count": 18,
   "metadata": {
    "ExecuteTime": {
     "end_time": "2022-04-06T05:46:40.197571Z",
     "start_time": "2022-04-06T05:46:40.186478Z"
    },
    "colab": {
     "base_uri": "https://localhost:8080/"
    },
    "executionInfo": {
     "elapsed": 59,
     "status": "ok",
     "timestamp": 1649225025176,
     "user": {
      "displayName": "Venkatasubramanian S",
      "userId": "06029493893713790610"
     },
     "user_tz": 420
    },
    "id": "cjBmOq84OfGF",
    "outputId": "9324a9b0-1f1b-4549-fe70-ff049c828c72"
   },
   "outputs": [
    {
     "data": {
      "text/plain": [
       "(30000, 11)"
      ]
     },
     "execution_count": 18,
     "metadata": {},
     "output_type": "execute_result"
    }
   ],
   "source": [
    "# Checking row count before deletion\n",
    "df_clean.shape"
   ]
  },
  {
   "cell_type": "code",
   "execution_count": 19,
   "metadata": {
    "ExecuteTime": {
     "end_time": "2022-04-06T05:46:40.229110Z",
     "start_time": "2022-04-06T05:46:40.201571Z"
    },
    "executionInfo": {
     "elapsed": 48,
     "status": "ok",
     "timestamp": 1649225025177,
     "user": {
      "displayName": "Venkatasubramanian S",
      "userId": "06029493893713790610"
     },
     "user_tz": 420
    },
    "id": "rJZWuKSYOHCc"
   },
   "outputs": [],
   "source": [
    "df_clean = df_clean[~ df_clean.reviews_title.isna() ]"
   ]
  },
  {
   "cell_type": "code",
   "execution_count": 20,
   "metadata": {
    "ExecuteTime": {
     "end_time": "2022-04-06T05:46:40.244113Z",
     "start_time": "2022-04-06T05:46:40.233178Z"
    },
    "colab": {
     "base_uri": "https://localhost:8080/"
    },
    "executionInfo": {
     "elapsed": 47,
     "status": "ok",
     "timestamp": 1649225025177,
     "user": {
      "displayName": "Venkatasubramanian S",
      "userId": "06029493893713790610"
     },
     "user_tz": 420
    },
    "id": "E6BL-5JMNvfB",
    "outputId": "4d806853-8dc8-496c-d220-f15f9b6eaef1"
   },
   "outputs": [
    {
     "data": {
      "text/plain": [
       "(29810, 11)"
      ]
     },
     "execution_count": 20,
     "metadata": {},
     "output_type": "execute_result"
    }
   ],
   "source": [
    "# Checking rowcount post deletion\n",
    "df_clean.shape"
   ]
  },
  {
   "cell_type": "code",
   "execution_count": 21,
   "metadata": {
    "ExecuteTime": {
     "end_time": "2022-04-06T05:46:40.370246Z",
     "start_time": "2022-04-06T05:46:40.248112Z"
    },
    "colab": {
     "base_uri": "https://localhost:8080/",
     "height": 175
    },
    "executionInfo": {
     "elapsed": 42,
     "status": "ok",
     "timestamp": 1649225025178,
     "user": {
      "displayName": "Venkatasubramanian S",
      "userId": "06029493893713790610"
     },
     "user_tz": 420
    },
    "id": "juEm1Pb7Nvhb",
    "outputId": "c5d99441-5404-463d-8593-9f23bae7621a"
   },
   "outputs": [
    {
     "data": {
      "text/html": [
       "<div>\n",
       "<style scoped>\n",
       "    .dataframe tbody tr th:only-of-type {\n",
       "        vertical-align: middle;\n",
       "    }\n",
       "\n",
       "    .dataframe tbody tr th {\n",
       "        vertical-align: top;\n",
       "    }\n",
       "\n",
       "    .dataframe thead th {\n",
       "        text-align: right;\n",
       "    }\n",
       "</style>\n",
       "<table border=\"1\" class=\"dataframe\">\n",
       "  <thead>\n",
       "    <tr style=\"text-align: right;\">\n",
       "      <th></th>\n",
       "      <th>Count</th>\n",
       "      <th>Percentage</th>\n",
       "    </tr>\n",
       "  </thead>\n",
       "  <tbody>\n",
       "    <tr>\n",
       "      <th>manufacturer</th>\n",
       "      <td>141</td>\n",
       "      <td>0.472996</td>\n",
       "    </tr>\n",
       "    <tr>\n",
       "      <th>reviews_username</th>\n",
       "      <td>62</td>\n",
       "      <td>0.207984</td>\n",
       "    </tr>\n",
       "    <tr>\n",
       "      <th>reviews_date</th>\n",
       "      <td>46</td>\n",
       "      <td>0.154311</td>\n",
       "    </tr>\n",
       "    <tr>\n",
       "      <th>user_sentiment</th>\n",
       "      <td>1</td>\n",
       "      <td>0.003355</td>\n",
       "    </tr>\n",
       "  </tbody>\n",
       "</table>\n",
       "</div>"
      ],
      "text/plain": [
       "                  Count  Percentage\n",
       "manufacturer        141    0.472996\n",
       "reviews_username     62    0.207984\n",
       "reviews_date         46    0.154311\n",
       "user_sentiment        1    0.003355"
      ]
     },
     "execution_count": 21,
     "metadata": {},
     "output_type": "execute_result"
    }
   ],
   "source": [
    "# Checking NULLs again\n",
    "null_count = df_clean[df_clean.columns[df_clean.isna().any()]].isna().sum().sort_values(ascending=False)\n",
    "null_perc = (df_clean[df_clean.columns[df_clean.isna().any()]].isna().sum() * 100 / df_clean.shape[0]).sort_values(ascending=False)\n",
    "null_data = pd.concat([null_count, null_perc], axis=1, keys=['Count', 'Percentage'])\n",
    "null_data"
   ]
  },
  {
   "cell_type": "markdown",
   "metadata": {
    "id": "Mwbt5_kDUTst"
   },
   "source": [
    "### Handling NULL values in `reviews_username`"
   ]
  },
  {
   "cell_type": "markdown",
   "metadata": {
    "id": "KW-qcJCOUTtI"
   },
   "source": [
    "This column is an important component for our analysis as it contains the unique identification for individual user in the dataset. Since the NULL percentage is only 0.20%, we will remove these rows from the dataset."
   ]
  },
  {
   "cell_type": "code",
   "execution_count": 22,
   "metadata": {
    "ExecuteTime": {
     "end_time": "2022-04-06T05:46:40.401112Z",
     "start_time": "2022-04-06T05:46:40.381978Z"
    },
    "colab": {
     "base_uri": "https://localhost:8080/"
    },
    "executionInfo": {
     "elapsed": 41,
     "status": "ok",
     "timestamp": 1649225025178,
     "user": {
      "displayName": "Venkatasubramanian S",
      "userId": "06029493893713790610"
     },
     "user_tz": 420
    },
    "id": "1ZKZF6byUTtJ",
    "outputId": "a8b05665-19b2-4215-ea7b-76c646e35db4"
   },
   "outputs": [
    {
     "data": {
      "text/plain": [
       "(29810, 11)"
      ]
     },
     "execution_count": 22,
     "metadata": {},
     "output_type": "execute_result"
    }
   ],
   "source": [
    "# Checking rowcount before deletion\n",
    "df_clean.shape"
   ]
  },
  {
   "cell_type": "code",
   "execution_count": 23,
   "metadata": {
    "ExecuteTime": {
     "end_time": "2022-04-06T05:46:40.432436Z",
     "start_time": "2022-04-06T05:46:40.408113Z"
    },
    "executionInfo": {
     "elapsed": 36,
     "status": "ok",
     "timestamp": 1649225025179,
     "user": {
      "displayName": "Venkatasubramanian S",
      "userId": "06029493893713790610"
     },
     "user_tz": 420
    },
    "id": "I6WFlH-vUTtM"
   },
   "outputs": [],
   "source": [
    "df_clean = df_clean[~ df_clean.reviews_username.isna() ]"
   ]
  },
  {
   "cell_type": "code",
   "execution_count": 24,
   "metadata": {
    "ExecuteTime": {
     "end_time": "2022-04-06T05:46:40.449438Z",
     "start_time": "2022-04-06T05:46:40.436438Z"
    },
    "colab": {
     "base_uri": "https://localhost:8080/"
    },
    "executionInfo": {
     "elapsed": 36,
     "status": "ok",
     "timestamp": 1649225025179,
     "user": {
      "displayName": "Venkatasubramanian S",
      "userId": "06029493893713790610"
     },
     "user_tz": 420
    },
    "id": "LYRMdoUQUTtM",
    "outputId": "3237ecc0-9965-4620-aeed-28b538918e06"
   },
   "outputs": [
    {
     "data": {
      "text/plain": [
       "(29748, 11)"
      ]
     },
     "execution_count": 24,
     "metadata": {},
     "output_type": "execute_result"
    }
   ],
   "source": [
    "# Checking row count post deletion\n",
    "df_clean.shape"
   ]
  },
  {
   "cell_type": "code",
   "execution_count": 25,
   "metadata": {
    "ExecuteTime": {
     "end_time": "2022-04-06T05:46:40.573436Z",
     "start_time": "2022-04-06T05:46:40.454232Z"
    },
    "colab": {
     "base_uri": "https://localhost:8080/",
     "height": 143
    },
    "executionInfo": {
     "elapsed": 31,
     "status": "ok",
     "timestamp": 1649225025180,
     "user": {
      "displayName": "Venkatasubramanian S",
      "userId": "06029493893713790610"
     },
     "user_tz": 420
    },
    "id": "H01rGivRUTtN",
    "outputId": "9937ad3c-4dde-4023-f3b9-2f653ec5fd7d"
   },
   "outputs": [
    {
     "data": {
      "text/html": [
       "<div>\n",
       "<style scoped>\n",
       "    .dataframe tbody tr th:only-of-type {\n",
       "        vertical-align: middle;\n",
       "    }\n",
       "\n",
       "    .dataframe tbody tr th {\n",
       "        vertical-align: top;\n",
       "    }\n",
       "\n",
       "    .dataframe thead th {\n",
       "        text-align: right;\n",
       "    }\n",
       "</style>\n",
       "<table border=\"1\" class=\"dataframe\">\n",
       "  <thead>\n",
       "    <tr style=\"text-align: right;\">\n",
       "      <th></th>\n",
       "      <th>Count</th>\n",
       "      <th>Percentage</th>\n",
       "    </tr>\n",
       "  </thead>\n",
       "  <tbody>\n",
       "    <tr>\n",
       "      <th>manufacturer</th>\n",
       "      <td>141</td>\n",
       "      <td>0.473981</td>\n",
       "    </tr>\n",
       "    <tr>\n",
       "      <th>reviews_date</th>\n",
       "      <td>40</td>\n",
       "      <td>0.134463</td>\n",
       "    </tr>\n",
       "    <tr>\n",
       "      <th>user_sentiment</th>\n",
       "      <td>1</td>\n",
       "      <td>0.003362</td>\n",
       "    </tr>\n",
       "  </tbody>\n",
       "</table>\n",
       "</div>"
      ],
      "text/plain": [
       "                Count  Percentage\n",
       "manufacturer      141    0.473981\n",
       "reviews_date       40    0.134463\n",
       "user_sentiment      1    0.003362"
      ]
     },
     "execution_count": 25,
     "metadata": {},
     "output_type": "execute_result"
    }
   ],
   "source": [
    "# Checking NULLs again\n",
    "null_count = df_clean[df_clean.columns[df_clean.isna().any()]].isna().sum().sort_values(ascending=False)\n",
    "null_perc = (df_clean[df_clean.columns[df_clean.isna().any()]].isna().sum() * 100 / df_clean.shape[0]).sort_values(ascending=False)\n",
    "null_data = pd.concat([null_count, null_perc], axis=1, keys=['Count', 'Percentage'])\n",
    "null_data"
   ]
  },
  {
   "cell_type": "markdown",
   "metadata": {
    "id": "_Be6AWenVPvK"
   },
   "source": [
    "### Handling NULL values in `user_sentiment`"
   ]
  },
  {
   "cell_type": "code",
   "execution_count": 26,
   "metadata": {
    "ExecuteTime": {
     "end_time": "2022-04-06T05:46:40.604436Z",
     "start_time": "2022-04-06T05:46:40.576436Z"
    },
    "colab": {
     "base_uri": "https://localhost:8080/"
    },
    "executionInfo": {
     "elapsed": 29,
     "status": "ok",
     "timestamp": 1649225025180,
     "user": {
      "displayName": "Venkatasubramanian S",
      "userId": "06029493893713790610"
     },
     "user_tz": 420
    },
    "id": "sECk8UjPV41Y",
    "outputId": "cf6fd0c8-643f-4dff-a28b-20bb61d22d31"
   },
   "outputs": [
    {
     "data": {
      "text/plain": [
       "user_sentiment\n",
       "Positive    26412\n",
       "Negative     3335\n",
       "Name: count, dtype: int64"
      ]
     },
     "execution_count": 26,
     "metadata": {},
     "output_type": "execute_result"
    }
   ],
   "source": [
    "df_clean.user_sentiment.value_counts()"
   ]
  },
  {
   "cell_type": "code",
   "execution_count": 27,
   "metadata": {
    "ExecuteTime": {
     "end_time": "2022-04-06T05:46:40.652026Z",
     "start_time": "2022-04-06T05:46:40.608437Z"
    },
    "colab": {
     "base_uri": "https://localhost:8080/",
     "height": 316
    },
    "executionInfo": {
     "elapsed": 842,
     "status": "ok",
     "timestamp": 1649225025999,
     "user": {
      "displayName": "Venkatasubramanian S",
      "userId": "06029493893713790610"
     },
     "user_tz": 420
    },
    "id": "9u2uofIyVTxO",
    "outputId": "465d81db-0652-4ade-abcb-2671b0e55fd9"
   },
   "outputs": [
    {
     "data": {
      "text/html": [
       "<div>\n",
       "<style scoped>\n",
       "    .dataframe tbody tr th:only-of-type {\n",
       "        vertical-align: middle;\n",
       "    }\n",
       "\n",
       "    .dataframe tbody tr th {\n",
       "        vertical-align: top;\n",
       "    }\n",
       "\n",
       "    .dataframe thead th {\n",
       "        text-align: right;\n",
       "    }\n",
       "</style>\n",
       "<table border=\"1\" class=\"dataframe\">\n",
       "  <thead>\n",
       "    <tr style=\"text-align: right;\">\n",
       "      <th></th>\n",
       "      <th>id</th>\n",
       "      <th>brand</th>\n",
       "      <th>categories</th>\n",
       "      <th>manufacturer</th>\n",
       "      <th>name</th>\n",
       "      <th>reviews_date</th>\n",
       "      <th>reviews_rating</th>\n",
       "      <th>reviews_text</th>\n",
       "      <th>reviews_title</th>\n",
       "      <th>reviews_username</th>\n",
       "      <th>user_sentiment</th>\n",
       "    </tr>\n",
       "  </thead>\n",
       "  <tbody>\n",
       "    <tr>\n",
       "      <th>28354</th>\n",
       "      <td>AVpfRTh1ilAPnD_xYic2</td>\n",
       "      <td>Disney</td>\n",
       "      <td>Movies, Music &amp; Books,Movies,Kids' &amp; Family,Wa...</td>\n",
       "      <td>Walt Disney</td>\n",
       "      <td>Planes: Fire Rescue (2 Discs) (includes Digita...</td>\n",
       "      <td>2014-11-07T00:00:00.000Z</td>\n",
       "      <td>5</td>\n",
       "      <td>my kids absolutely loved this film so much tha...</td>\n",
       "      <td>a super hit with my children. they loved it!!??</td>\n",
       "      <td>7.87E+11</td>\n",
       "      <td>NaN</td>\n",
       "    </tr>\n",
       "  </tbody>\n",
       "</table>\n",
       "</div>"
      ],
      "text/plain": [
       "                         id   brand  \\\n",
       "28354  AVpfRTh1ilAPnD_xYic2  Disney   \n",
       "\n",
       "                                              categories manufacturer  \\\n",
       "28354  Movies, Music & Books,Movies,Kids' & Family,Wa...  Walt Disney   \n",
       "\n",
       "                                                    name  \\\n",
       "28354  Planes: Fire Rescue (2 Discs) (includes Digita...   \n",
       "\n",
       "                   reviews_date  reviews_rating  \\\n",
       "28354  2014-11-07T00:00:00.000Z               5   \n",
       "\n",
       "                                            reviews_text  \\\n",
       "28354  my kids absolutely loved this film so much tha...   \n",
       "\n",
       "                                         reviews_title reviews_username  \\\n",
       "28354  a super hit with my children. they loved it!!??         7.87E+11   \n",
       "\n",
       "      user_sentiment  \n",
       "28354            NaN  "
      ]
     },
     "execution_count": 27,
     "metadata": {},
     "output_type": "execute_result"
    }
   ],
   "source": [
    "#updating the NA value by positive in record\n",
    "df_clean[ df_clean.user_sentiment.isna() ]"
   ]
  },
  {
   "cell_type": "markdown",
   "metadata": {
    "id": "qPNTb0CYXLut"
   },
   "source": [
    "- As there is only one record with missing data for `user_sentiment`, we will read the record manually and update the value.\n",
    "- From reading the review title and rating, we can see that the overall sentiment is positive. So, we will update the value as `Positive` for this particular record with NaN."
   ]
  },
  {
   "cell_type": "code",
   "execution_count": 28,
   "metadata": {
    "ExecuteTime": {
     "end_time": "2022-04-06T05:46:40.683027Z",
     "start_time": "2022-04-06T05:46:40.658440Z"
    },
    "colab": {
     "base_uri": "https://localhost:8080/"
    },
    "executionInfo": {
     "elapsed": 70,
     "status": "ok",
     "timestamp": 1649225026000,
     "user": {
      "displayName": "Venkatasubramanian S",
      "userId": "06029493893713790610"
     },
     "user_tz": 420
    },
    "id": "AUsGDctgVXc-",
    "outputId": "6e179d75-204a-4754-ab4e-53dd1c9e9a09"
   },
   "outputs": [
    {
     "data": {
      "text/plain": [
       "28354    NaN\n",
       "Name: user_sentiment, dtype: object"
      ]
     },
     "execution_count": 28,
     "metadata": {},
     "output_type": "execute_result"
    }
   ],
   "source": [
    "df_clean[ df_clean.user_sentiment.isna() ].user_sentiment"
   ]
  },
  {
   "cell_type": "code",
   "execution_count": 29,
   "metadata": {
    "ExecuteTime": {
     "end_time": "2022-04-06T05:46:40.699028Z",
     "start_time": "2022-04-06T05:46:40.687028Z"
    },
    "executionInfo": {
     "elapsed": 65,
     "status": "ok",
     "timestamp": 1649225026001,
     "user": {
      "displayName": "Venkatasubramanian S",
      "userId": "06029493893713790610"
     },
     "user_tz": 420
    },
    "id": "u1Hd1pwOX1e7"
   },
   "outputs": [],
   "source": [
    "df_clean.user_sentiment.fillna('Positive', inplace=True)"
   ]
  },
  {
   "cell_type": "code",
   "execution_count": 30,
   "metadata": {
    "ExecuteTime": {
     "end_time": "2022-04-06T05:46:40.839573Z",
     "start_time": "2022-04-06T05:46:40.703028Z"
    },
    "colab": {
     "base_uri": "https://localhost:8080/",
     "height": 112
    },
    "executionInfo": {
     "elapsed": 66,
     "status": "ok",
     "timestamp": 1649225026002,
     "user": {
      "displayName": "Venkatasubramanian S",
      "userId": "06029493893713790610"
     },
     "user_tz": 420
    },
    "id": "DZAvL7d6Yg3m",
    "outputId": "904f01bd-9293-4d29-af5a-9caf2bf17dc6"
   },
   "outputs": [
    {
     "data": {
      "text/html": [
       "<div>\n",
       "<style scoped>\n",
       "    .dataframe tbody tr th:only-of-type {\n",
       "        vertical-align: middle;\n",
       "    }\n",
       "\n",
       "    .dataframe tbody tr th {\n",
       "        vertical-align: top;\n",
       "    }\n",
       "\n",
       "    .dataframe thead th {\n",
       "        text-align: right;\n",
       "    }\n",
       "</style>\n",
       "<table border=\"1\" class=\"dataframe\">\n",
       "  <thead>\n",
       "    <tr style=\"text-align: right;\">\n",
       "      <th></th>\n",
       "      <th>Count</th>\n",
       "      <th>Percentage</th>\n",
       "    </tr>\n",
       "  </thead>\n",
       "  <tbody>\n",
       "    <tr>\n",
       "      <th>manufacturer</th>\n",
       "      <td>141</td>\n",
       "      <td>0.473981</td>\n",
       "    </tr>\n",
       "    <tr>\n",
       "      <th>reviews_date</th>\n",
       "      <td>40</td>\n",
       "      <td>0.134463</td>\n",
       "    </tr>\n",
       "  </tbody>\n",
       "</table>\n",
       "</div>"
      ],
      "text/plain": [
       "              Count  Percentage\n",
       "manufacturer    141    0.473981\n",
       "reviews_date     40    0.134463"
      ]
     },
     "execution_count": 30,
     "metadata": {},
     "output_type": "execute_result"
    }
   ],
   "source": [
    "# Checking NULLs again\n",
    "null_count = df_clean[df_clean.columns[df_clean.isna().any()]].isna().sum().sort_values(ascending=False)\n",
    "null_perc = (df_clean[df_clean.columns[df_clean.isna().any()]].isna().sum() * 100 / df_clean.shape[0]).sort_values(ascending=False)\n",
    "null_data = pd.concat([null_count, null_perc], axis=1, keys=['Count', 'Percentage'])\n",
    "null_data"
   ]
  },
  {
   "cell_type": "markdown",
   "metadata": {
    "id": "Qtihg1AgYsP_"
   },
   "source": [
    "As the columns `manufacturer` and `reviews_date` are not needed for both Sentiment and Recommender models we don't need to handle the NULL values for them."
   ]
  },
  {
   "cell_type": "code",
   "execution_count": 31,
   "metadata": {
    "ExecuteTime": {
     "end_time": "2022-04-06T05:46:40.886690Z",
     "start_time": "2022-04-06T05:46:40.843725Z"
    },
    "colab": {
     "base_uri": "https://localhost:8080/",
     "height": 858
    },
    "executionInfo": {
     "elapsed": 64,
     "status": "ok",
     "timestamp": 1649225026002,
     "user": {
      "displayName": "Venkatasubramanian S",
      "userId": "06029493893713790610"
     },
     "user_tz": 420
    },
    "id": "YpZOnN-XY1G6",
    "outputId": "a1686519-6478-4be7-862d-abca83554cda"
   },
   "outputs": [
    {
     "data": {
      "text/html": [
       "<div>\n",
       "<style scoped>\n",
       "    .dataframe tbody tr th:only-of-type {\n",
       "        vertical-align: middle;\n",
       "    }\n",
       "\n",
       "    .dataframe tbody tr th {\n",
       "        vertical-align: top;\n",
       "    }\n",
       "\n",
       "    .dataframe thead th {\n",
       "        text-align: right;\n",
       "    }\n",
       "</style>\n",
       "<table border=\"1\" class=\"dataframe\">\n",
       "  <thead>\n",
       "    <tr style=\"text-align: right;\">\n",
       "      <th></th>\n",
       "      <th>id</th>\n",
       "      <th>brand</th>\n",
       "      <th>categories</th>\n",
       "      <th>manufacturer</th>\n",
       "      <th>name</th>\n",
       "      <th>reviews_date</th>\n",
       "      <th>reviews_rating</th>\n",
       "      <th>reviews_text</th>\n",
       "      <th>reviews_title</th>\n",
       "      <th>reviews_username</th>\n",
       "      <th>user_sentiment</th>\n",
       "    </tr>\n",
       "  </thead>\n",
       "  <tbody>\n",
       "    <tr>\n",
       "      <th>0</th>\n",
       "      <td>AV13O1A8GV-KLJ3akUyj</td>\n",
       "      <td>Universal Music</td>\n",
       "      <td>Movies, Music &amp; Books,Music,R&amp;b,Movies &amp; TV,Mo...</td>\n",
       "      <td>Universal Music Group / Cash Money</td>\n",
       "      <td>Pink Friday: Roman Reloaded Re-Up (w/dvd)</td>\n",
       "      <td>2012-11-30T06:21:45.000Z</td>\n",
       "      <td>5</td>\n",
       "      <td>i love this album. it's very good. more to the...</td>\n",
       "      <td>Just Awesome</td>\n",
       "      <td>joshua</td>\n",
       "      <td>Positive</td>\n",
       "    </tr>\n",
       "    <tr>\n",
       "      <th>1</th>\n",
       "      <td>AV14LG0R-jtxr-f38QfS</td>\n",
       "      <td>Lundberg</td>\n",
       "      <td>Food,Packaged Foods,Snacks,Crackers,Snacks, Co...</td>\n",
       "      <td>Lundberg</td>\n",
       "      <td>Lundberg Organic Cinnamon Toast Rice Cakes</td>\n",
       "      <td>2017-07-09T00:00:00.000Z</td>\n",
       "      <td>5</td>\n",
       "      <td>Good flavor. This review was collected as part...</td>\n",
       "      <td>Good</td>\n",
       "      <td>dorothy w</td>\n",
       "      <td>Positive</td>\n",
       "    </tr>\n",
       "    <tr>\n",
       "      <th>2</th>\n",
       "      <td>AV14LG0R-jtxr-f38QfS</td>\n",
       "      <td>Lundberg</td>\n",
       "      <td>Food,Packaged Foods,Snacks,Crackers,Snacks, Co...</td>\n",
       "      <td>Lundberg</td>\n",
       "      <td>Lundberg Organic Cinnamon Toast Rice Cakes</td>\n",
       "      <td>2017-07-09T00:00:00.000Z</td>\n",
       "      <td>5</td>\n",
       "      <td>Good flavor.</td>\n",
       "      <td>Good</td>\n",
       "      <td>dorothy w</td>\n",
       "      <td>Positive</td>\n",
       "    </tr>\n",
       "    <tr>\n",
       "      <th>3</th>\n",
       "      <td>AV16khLE-jtxr-f38VFn</td>\n",
       "      <td>K-Y</td>\n",
       "      <td>Personal Care,Medicine Cabinet,Lubricant/Sperm...</td>\n",
       "      <td>K-Y</td>\n",
       "      <td>K-Y Love Sensuality Pleasure Gel</td>\n",
       "      <td>2016-01-06T00:00:00.000Z</td>\n",
       "      <td>1</td>\n",
       "      <td>I read through the reviews on here before look...</td>\n",
       "      <td>Disappointed</td>\n",
       "      <td>rebecca</td>\n",
       "      <td>Negative</td>\n",
       "    </tr>\n",
       "    <tr>\n",
       "      <th>4</th>\n",
       "      <td>AV16khLE-jtxr-f38VFn</td>\n",
       "      <td>K-Y</td>\n",
       "      <td>Personal Care,Medicine Cabinet,Lubricant/Sperm...</td>\n",
       "      <td>K-Y</td>\n",
       "      <td>K-Y Love Sensuality Pleasure Gel</td>\n",
       "      <td>2016-12-21T00:00:00.000Z</td>\n",
       "      <td>1</td>\n",
       "      <td>My husband bought this gel for us. The gel cau...</td>\n",
       "      <td>Irritation</td>\n",
       "      <td>walker557</td>\n",
       "      <td>Negative</td>\n",
       "    </tr>\n",
       "  </tbody>\n",
       "</table>\n",
       "</div>"
      ],
      "text/plain": [
       "                     id            brand  \\\n",
       "0  AV13O1A8GV-KLJ3akUyj  Universal Music   \n",
       "1  AV14LG0R-jtxr-f38QfS         Lundberg   \n",
       "2  AV14LG0R-jtxr-f38QfS         Lundberg   \n",
       "3  AV16khLE-jtxr-f38VFn              K-Y   \n",
       "4  AV16khLE-jtxr-f38VFn              K-Y   \n",
       "\n",
       "                                          categories  \\\n",
       "0  Movies, Music & Books,Music,R&b,Movies & TV,Mo...   \n",
       "1  Food,Packaged Foods,Snacks,Crackers,Snacks, Co...   \n",
       "2  Food,Packaged Foods,Snacks,Crackers,Snacks, Co...   \n",
       "3  Personal Care,Medicine Cabinet,Lubricant/Sperm...   \n",
       "4  Personal Care,Medicine Cabinet,Lubricant/Sperm...   \n",
       "\n",
       "                         manufacturer  \\\n",
       "0  Universal Music Group / Cash Money   \n",
       "1                            Lundberg   \n",
       "2                            Lundberg   \n",
       "3                                 K-Y   \n",
       "4                                 K-Y   \n",
       "\n",
       "                                         name              reviews_date  \\\n",
       "0   Pink Friday: Roman Reloaded Re-Up (w/dvd)  2012-11-30T06:21:45.000Z   \n",
       "1  Lundberg Organic Cinnamon Toast Rice Cakes  2017-07-09T00:00:00.000Z   \n",
       "2  Lundberg Organic Cinnamon Toast Rice Cakes  2017-07-09T00:00:00.000Z   \n",
       "3            K-Y Love Sensuality Pleasure Gel  2016-01-06T00:00:00.000Z   \n",
       "4            K-Y Love Sensuality Pleasure Gel  2016-12-21T00:00:00.000Z   \n",
       "\n",
       "   reviews_rating                                       reviews_text  \\\n",
       "0               5  i love this album. it's very good. more to the...   \n",
       "1               5  Good flavor. This review was collected as part...   \n",
       "2               5                                       Good flavor.   \n",
       "3               1  I read through the reviews on here before look...   \n",
       "4               1  My husband bought this gel for us. The gel cau...   \n",
       "\n",
       "  reviews_title reviews_username user_sentiment  \n",
       "0  Just Awesome           joshua       Positive  \n",
       "1          Good        dorothy w       Positive  \n",
       "2          Good        dorothy w       Positive  \n",
       "3  Disappointed          rebecca       Negative  \n",
       "4    Irritation        walker557       Negative  "
      ]
     },
     "execution_count": 31,
     "metadata": {},
     "output_type": "execute_result"
    }
   ],
   "source": [
    "# Check the data for top 5 rows\n",
    "df_clean.head()"
   ]
  },
  {
   "cell_type": "markdown",
   "metadata": {
    "id": "2TNL6SliZ8W_"
   },
   "source": [
    "## Analysis"
   ]
  },
  {
   "cell_type": "markdown",
   "metadata": {
    "id": "m3uuvNmaaJDm"
   },
   "source": [
    "### Checking Distribution of `reviews_rating` column from dataset"
   ]
  },
  {
   "cell_type": "code",
   "execution_count": 32,
   "metadata": {
    "ExecuteTime": {
     "end_time": "2022-04-06T05:46:41.446829Z",
     "start_time": "2022-04-06T05:46:40.890578Z"
    },
    "colab": {
     "base_uri": "https://localhost:8080/",
     "height": 295
    },
    "executionInfo": {
     "elapsed": 24,
     "status": "ok",
     "timestamp": 1649225026003,
     "user": {
      "displayName": "Venkatasubramanian S",
      "userId": "06029493893713790610"
     },
     "user_tz": 420
    },
    "id": "Z8WbRCinaP5A",
    "outputId": "ad609232-9f43-45f3-aa56-5122b2269c46"
   },
   "outputs": [
    {
     "data": {
      "image/png": "[encoded data removed]",
      "text/plain": [
       "<Figure size 640x480 with 1 Axes>"
      ]
     },
     "metadata": {},
     "output_type": "display_data"
    }
   ],
   "source": [
    "sns.countplot(x = 'reviews_rating', data = df_clean).set(title=\"Distribution of reviews rating by count\", xlabel=\"reviews rating\", ylabel=\"reviews count\")\n",
    "plt.show()"
   ]
  },
  {
   "cell_type": "code",
   "execution_count": 33,
   "metadata": {},
   "outputs": [
    {
     "data": {
      "image/png": "[encoded data removed]",
      "text/plain": [
       "<Figure size 640x480 with 1 Axes>"
      ]
     },
     "metadata": {},
     "output_type": "display_data"
    }
   ],
   "source": [
    "# Create the count plot\n",
    "ax = sns.countplot(x='reviews_rating', data=df_clean)\n",
    "ax.set(title=\"Distribution of reviews rating by count\", xlabel=\"reviews rating\", ylabel=\"reviews count\")\n",
    "\n",
    "# Annotate the bars with percentage values\n",
    "total = len(df_clean)\n",
    "for p in ax.patches:\n",
    "    percentage = f'{p.get_height() / total * 100:.1f}%'\n",
    "    ax.annotate(percentage, (p.get_x() + p.get_width() / 2., p.get_height()), ha='center', va='bottom')\n",
    "\n",
    "plt.show()\n"
   ]
  },
  {
   "cell_type": "markdown",
   "metadata": {
    "id": "q2siGWEsaqz9"
   },
   "source": [
    "Most of the ratings from the users have been on the higher side. Most of the review ratings have been 5. This would surely cause a data imbalance as user_sentiment should be in alignment with the ratings. We will check and handle it later on."
   ]
  },
  {
   "cell_type": "markdown",
   "metadata": {
    "id": "vW63rn5jbpCi"
   },
   "source": [
    "### Checking Top 5 Brands with negative reviews"
   ]
  },
  {
   "cell_type": "code",
   "execution_count": 34,
   "metadata": {
    "ExecuteTime": {
     "end_time": "2022-04-06T05:46:41.834180Z",
     "start_time": "2022-04-06T05:46:41.449764Z"
    },
    "colab": {
     "base_uri": "https://localhost:8080/",
     "height": 385
    },
    "executionInfo": {
     "elapsed": 460,
     "status": "ok",
     "timestamp": 1649225026441,
     "user": {
      "displayName": "Venkatasubramanian S",
      "userId": "06029493893713790610"
     },
     "user_tz": 420
    },
    "id": "czO2LVuHbtGx",
    "outputId": "73399c77-8e96-4a5e-c4e0-c4954ccdb5c9"
   },
   "outputs": [
    {
     "data": {
      "image/png": "[encoded data removed]",
      "text/plain": [
       "<Figure size 640x480 with 1 Axes>"
      ]
     },
     "metadata": {},
     "output_type": "display_data"
    }
   ],
   "source": [
    "df_clean[ df_clean.user_sentiment == 'Negative' ].brand.value_counts(normalize=True, ascending=False).head(5).plot(kind='bar')\n",
    "plt.title(\"Top 5 Brands with negative reviews\")\n",
    "plt.xlabel(\"Brands\")\n",
    "plt.ylabel(\"Percentage of negative reviews\")\n",
    "plt.show()"
   ]
  },
  {
   "cell_type": "markdown",
   "metadata": {
    "id": "3jMAkdb6cvnF"
   },
   "source": [
    "`Clorox` is the product that is rated the most negative and nearly 30% of the negative reviews have been towards `Clorox`."
   ]
  },
  {
   "cell_type": "markdown",
   "metadata": {
    "id": "0vKK5rTfulcU"
   },
   "source": [
    "### Checking Top 5 Brands with positive reviews"
   ]
  },
  {
   "cell_type": "code",
   "execution_count": 35,
   "metadata": {
    "ExecuteTime": {
     "end_time": "2022-04-06T05:46:42.100697Z",
     "start_time": "2022-04-06T05:46:41.836915Z"
    },
    "colab": {
     "base_uri": "https://localhost:8080/",
     "height": 385
    },
    "executionInfo": {
     "elapsed": 34,
     "status": "ok",
     "timestamp": 1649225026442,
     "user": {
      "displayName": "Venkatasubramanian S",
      "userId": "06029493893713790610"
     },
     "user_tz": 420
    },
    "id": "IHEWg-tZulcY",
    "outputId": "cf654715-30bf-4d53-d264-0807a1f168d9"
   },
   "outputs": [
    {
     "data": {
      "image/png": "[encoded data removed]",
      "text/plain": [
       "<Figure size 640x480 with 1 Axes>"
      ]
     },
     "metadata": {},
     "output_type": "display_data"
    }
   ],
   "source": [
    "df_clean[ df_clean.user_sentiment == 'Positive' ].brand.value_counts(normalize=True, ascending=False).head(5).plot(kind='bar')\n",
    "plt.title(\"Top 5 Brands with positive reviews\")\n",
    "plt.xlabel(\"Brands\")\n",
    "plt.ylabel(\"Percentage of positive reviews\")\n",
    "plt.show()"
   ]
  },
  {
   "cell_type": "code",
   "execution_count": 36,
   "metadata": {
    "ExecuteTime": {
     "end_time": "2022-04-06T05:46:42.132511Z",
     "start_time": "2022-04-06T05:46:42.104923Z"
    },
    "colab": {
     "base_uri": "https://localhost:8080/"
    },
    "executionInfo": {
     "elapsed": 32,
     "status": "ok",
     "timestamp": 1649225026442,
     "user": {
      "displayName": "Venkatasubramanian S",
      "userId": "06029493893713790610"
     },
     "user_tz": 420
    },
    "id": "nNuzcIdZbEL6",
    "outputId": "2ea83216-2be8-4adb-e40b-601fbd9e3358"
   },
   "outputs": [
    {
     "data": {
      "text/plain": [
       "brand\n",
       "Clorox               0.355116\n",
       "Warner Home Video    0.111739\n",
       "Disney               0.040238\n",
       "L'oreal Paris        0.039868\n",
       "FOX                  0.029817\n",
       "Name: proportion, dtype: float64"
      ]
     },
     "execution_count": 36,
     "metadata": {},
     "output_type": "execute_result"
    }
   ],
   "source": [
    "df_clean.brand.value_counts(normalize=True).head(5)"
   ]
  },
  {
   "cell_type": "markdown",
   "metadata": {
    "id": "Gnrx3j__ulcZ"
   },
   "source": [
    "* Surprisingly `Clorox` is the product that is rated the most positive as well and more than 35% of the positive reviews have been towards `Clorox`.\n",
    "* Checking the data, we realize that 35% of the brands for which we have the data is actually `Clorox` which is why it has the most reviews."
   ]
  },
  {
   "cell_type": "markdown",
   "metadata": {
    "id": "Zhfchk3zvhY1"
   },
   "source": [
    "### Checking review counts based on the review year"
   ]
  },
  {
   "cell_type": "code",
   "execution_count": 37,
   "metadata": {
    "ExecuteTime": {
     "end_time": "2022-04-06T05:46:42.148471Z",
     "start_time": "2022-04-06T05:46:42.136470Z"
    },
    "colab": {
     "base_uri": "https://localhost:8080/"
    },
    "executionInfo": {
     "elapsed": 28,
     "status": "ok",
     "timestamp": 1649225026443,
     "user": {
      "displayName": "Venkatasubramanian S",
      "userId": "06029493893713790610"
     },
     "user_tz": 420
    },
    "id": "uAUVULJFvmyV",
    "outputId": "aa38c7f7-b87c-4754-c6c9-203b06370962"
   },
   "outputs": [
    {
     "data": {
      "text/plain": [
       "dtype('O')"
      ]
     },
     "execution_count": 37,
     "metadata": {},
     "output_type": "execute_result"
    }
   ],
   "source": [
    "# Before type conversion\n",
    "df_clean.reviews_date.dtype"
   ]
  },
  {
   "cell_type": "markdown",
   "metadata": {
    "id": "fRGa_lZ8v_82"
   },
   "source": [
    "- We will first convert `reviews_date` to date type.\n",
    "- Then we will get the year component from the date."
   ]
  },
  {
   "cell_type": "code",
   "execution_count": 38,
   "metadata": {
    "ExecuteTime": {
     "end_time": "2022-04-06T05:46:42.195601Z",
     "start_time": "2022-04-06T05:46:42.151472Z"
    },
    "executionInfo": {
     "elapsed": 21,
     "status": "ok",
     "timestamp": 1649225026443,
     "user": {
      "displayName": "Venkatasubramanian S",
      "userId": "06029493893713790610"
     },
     "user_tz": 420
    },
    "id": "YJN7VlWHaf1R"
   },
   "outputs": [],
   "source": [
    "df_clean['reviews_date'] = pd.to_datetime(df_clean['reviews_date'], errors='coerce')"
   ]
  },
  {
   "cell_type": "code",
   "execution_count": 39,
   "metadata": {
    "ExecuteTime": {
     "end_time": "2022-04-06T05:46:42.210818Z",
     "start_time": "2022-04-06T05:46:42.198476Z"
    },
    "colab": {
     "base_uri": "https://localhost:8080/"
    },
    "executionInfo": {
     "elapsed": 22,
     "status": "ok",
     "timestamp": 1649225026444,
     "user": {
      "displayName": "Venkatasubramanian S",
      "userId": "06029493893713790610"
     },
     "user_tz": 420
    },
    "id": "LjLydNFrwoHy",
    "outputId": "ceebf8fd-946c-4f36-f2d9-c01427d20d47"
   },
   "outputs": [
    {
     "data": {
      "text/plain": [
       "datetime64[ns, UTC]"
      ]
     },
     "execution_count": 39,
     "metadata": {},
     "output_type": "execute_result"
    }
   ],
   "source": [
    "# After type conversion\n",
    "df_clean.reviews_date.dtype"
   ]
  },
  {
   "cell_type": "code",
   "execution_count": 40,
   "metadata": {
    "ExecuteTime": {
     "end_time": "2022-04-06T05:46:42.242674Z",
     "start_time": "2022-04-06T05:46:42.213476Z"
    },
    "colab": {
     "base_uri": "https://localhost:8080/"
    },
    "executionInfo": {
     "elapsed": 16,
     "status": "ok",
     "timestamp": 1649225026444,
     "user": {
      "displayName": "Venkatasubramanian S",
      "userId": "06029493893713790610"
     },
     "user_tz": 420
    },
    "id": "uImchCtLwvU4",
    "outputId": "008dfb94-9169-4a94-e33a-e0f8a03b7c5b"
   },
   "outputs": [
    {
     "data": {
      "text/plain": [
       "0        2012.0\n",
       "1        2017.0\n",
       "2        2017.0\n",
       "3        2016.0\n",
       "4        2016.0\n",
       "          ...  \n",
       "29995    2017.0\n",
       "29996    2017.0\n",
       "29997    2017.0\n",
       "29998    2017.0\n",
       "29999    2017.0\n",
       "Name: reviews_date, Length: 29748, dtype: float64"
      ]
     },
     "execution_count": 40,
     "metadata": {},
     "output_type": "execute_result"
    }
   ],
   "source": [
    "# Getting year component from date\n",
    "df_clean.reviews_date.dt.year"
   ]
  },
  {
   "cell_type": "code",
   "execution_count": 41,
   "metadata": {
    "ExecuteTime": {
     "end_time": "2022-04-06T05:46:43.047559Z",
     "start_time": "2022-04-06T05:46:42.245477Z"
    },
    "colab": {
     "base_uri": "https://localhost:8080/",
     "height": 384
    },
    "executionInfo": {
     "elapsed": 242,
     "status": "ok",
     "timestamp": 1649225026675,
     "user": {
      "displayName": "Venkatasubramanian S",
      "userId": "06029493893713790610"
     },
     "user_tz": 420
    },
    "id": "2UoiTZpPwp2s",
    "outputId": "a10cf9e3-7597-4e6f-ce13-6c1c056fa1fe"
   },
   "outputs": [
    {
     "data": {
      "image/png": "[encoded data removed]",
      "text/plain": [
       "<Figure size 500x500 with 1 Axes>"
      ]
     },
     "metadata": {},
     "output_type": "display_data"
    }
   ],
   "source": [
    "# Creating a distribution plot based on reviews year \n",
    "sns.displot(data=df_clean, x=df_clean.reviews_date.dt.year).set(title=\"Distribution of reviews by year\", xlabel=\"reviews year\", ylabel=\"reviews count\")\n",
    "plt.show()"
   ]
  },
  {
   "cell_type": "markdown",
   "metadata": {
    "id": "6lHl3R81zna9"
   },
   "source": [
    "### Checking Movie categories by Rating"
   ]
  },
  {
   "cell_type": "code",
   "execution_count": 42,
   "metadata": {
    "ExecuteTime": {
     "end_time": "2022-04-06T05:46:43.343700Z",
     "start_time": "2022-04-06T05:46:43.050820Z"
    },
    "colab": {
     "base_uri": "https://localhost:8080/",
     "height": 383
    },
    "executionInfo": {
     "elapsed": 24,
     "status": "ok",
     "timestamp": 1649225026676,
     "user": {
      "displayName": "Venkatasubramanian S",
      "userId": "06029493893713790610"
     },
     "user_tz": 420
    },
    "id": "AJkQE6HC0XCQ",
    "outputId": "eb0ce37f-cd4e-481e-cea1-1ac35e72cdd2"
   },
   "outputs": [
    {
     "data": {
      "text/plain": [
       "\"plt.figure(figsize = [10,6])\\n\\nsns.boxplot(data=df_clean, x='user_sentiment', y='reviews_rating', color='green')\\nplt.xticks(rotation = 45)\\n\\nplt.tight_layout(pad = 4)\\nplt.show()\""
      ]
     },
     "execution_count": 42,
     "metadata": {},
     "output_type": "execute_result"
    }
   ],
   "source": [
    "'''plt.figure(figsize = [10,6])\n",
    "\n",
    "sns.boxplot(data=df_clean, x='user_sentiment', y='reviews_rating', color='green')\n",
    "plt.xticks(rotation = 45)\n",
    "\n",
    "plt.tight_layout(pad = 4)\n",
    "plt.show()'''"
   ]
  },
  {
   "cell_type": "code",
   "execution_count": 43,
   "metadata": {
    "ExecuteTime": {
     "end_time": "2022-04-06T05:46:43.374616Z",
     "start_time": "2022-04-06T05:46:43.345620Z"
    },
    "colab": {
     "base_uri": "https://localhost:8080/"
    },
    "executionInfo": {
     "elapsed": 23,
     "status": "ok",
     "timestamp": 1649225026676,
     "user": {
      "displayName": "Venkatasubramanian S",
      "userId": "06029493893713790610"
     },
     "user_tz": 420
    },
    "id": "s1kfX1jZ1ueD",
    "outputId": "5cbf1333-2bc8-48ff-ff93-be9373230a7a"
   },
   "outputs": [
    {
     "data": {
      "text/plain": [
       "reviews_rating\n",
       "4     548\n",
       "5    1848\n",
       "Name: user_sentiment, dtype: int64"
      ]
     },
     "execution_count": 43,
     "metadata": {},
     "output_type": "execute_result"
    }
   ],
   "source": [
    "df_clean[ (df_clean.user_sentiment == 'Negative') & (df_clean.reviews_rating >= 4) ].groupby(['reviews_rating']).count().user_sentiment"
   ]
  },
  {
   "cell_type": "markdown",
   "metadata": {
    "id": "8_eCPZWr3EZ1"
   },
   "source": [
    "* It's surprising to note that there are brands which have Negative sentiments but much higher review ratings (4 or 5). There are 2396 such records.\n",
    "* It might be a data anomaly or there might be a data lag between when the rating was provided and user sentiment given later after use.\n",
    "* For the purpose of this specific business problem, we will treat this specific analysis as out of scope and move further with the pre-processing steps."
   ]
  },
  {
   "cell_type": "markdown",
   "metadata": {
    "id": "Q-IiwQ1vDHTe"
   },
   "source": [
    "## Type Conversion"
   ]
  },
  {
   "cell_type": "markdown",
   "metadata": {
    "id": "xdOYmkDEDLqJ"
   },
   "source": [
    "Before we start the pre-processing steps, we need to make sure that all the text columns are converted to string type for future text operations."
   ]
  },
  {
   "cell_type": "code",
   "execution_count": 44,
   "metadata": {
    "ExecuteTime": {
     "end_time": "2022-04-06T05:46:43.405802Z",
     "start_time": "2022-04-06T05:46:43.377622Z"
    },
    "executionInfo": {
     "elapsed": 16,
     "status": "ok",
     "timestamp": 1649225026677,
     "user": {
      "displayName": "Venkatasubramanian S",
      "userId": "06029493893713790610"
     },
     "user_tz": 420
    },
    "id": "KJfdEtVHDYtr"
   },
   "outputs": [],
   "source": [
    "# Convert all the text columns to string for performing text operations\n",
    "df_clean['brand'] = df_clean['brand'].astype(str)\n",
    "df_clean['categories'] = df_clean['categories'].astype(str)\n",
    "df_clean['manufacturer'] = df_clean['manufacturer'].astype(str)\n",
    "df_clean['name'] = df_clean['name'].astype(str)\n",
    "df_clean['reviews_text'] = df_clean['reviews_text'].astype(str)\n",
    "df_clean['reviews_title'] = df_clean['reviews_title'].astype(str)\n",
    "df_clean['reviews_username'] = df_clean['reviews_username'].astype(str)"
   ]
  },
  {
   "cell_type": "markdown",
   "metadata": {
    "id": "tKMBm4MKAYD7"
   },
   "source": [
    "# Pre-Processing"
   ]
  },
  {
   "cell_type": "code",
   "execution_count": 45,
   "metadata": {
    "ExecuteTime": {
     "end_time": "2022-04-06T05:46:43.421819Z",
     "start_time": "2022-04-06T05:46:43.407619Z"
    },
    "executionInfo": {
     "elapsed": 15,
     "status": "ok",
     "timestamp": 1649225026677,
     "user": {
      "displayName": "Venkatasubramanian S",
      "userId": "06029493893713790610"
     },
     "user_tz": 420
    },
    "id": "gqm9l4Hp4G48"
   },
   "outputs": [],
   "source": [
    "# Getting a copy of dataframe for pre-processing\n",
    "df_prep = df_clean.copy()"
   ]
  },
  {
   "cell_type": "markdown",
   "metadata": {
    "id": "CRrGA0btzBvC"
   },
   "source": [
    "## Combining reviews_text and reviews_title columns into reviews_combined and dropping the initial fields"
   ]
  },
  {
   "cell_type": "code",
   "execution_count": 46,
   "metadata": {
    "ExecuteTime": {
     "end_time": "2022-04-06T05:46:43.483726Z",
     "start_time": "2022-04-06T05:46:43.424619Z"
    },
    "executionInfo": {
     "elapsed": 16,
     "status": "ok",
     "timestamp": 1649225026678,
     "user": {
      "displayName": "Venkatasubramanian S",
      "userId": "06029493893713790610"
     },
     "user_tz": 420
    },
    "id": "W7-jNp5JyCNn"
   },
   "outputs": [],
   "source": [
    "df_prep['reviews_combined'] = df_prep['reviews_text'] + \" \" + df_prep['reviews_title']\n",
    "df_prep.drop(columns=['reviews_text', 'reviews_title'], inplace=True)"
   ]
  },
  {
   "cell_type": "code",
   "execution_count": 47,
   "metadata": {
    "ExecuteTime": {
     "end_time": "2022-04-06T05:46:43.499613Z",
     "start_time": "2022-04-06T05:46:43.485613Z"
    },
    "colab": {
     "base_uri": "https://localhost:8080/"
    },
    "executionInfo": {
     "elapsed": 15,
     "status": "ok",
     "timestamp": 1649225026678,
     "user": {
      "displayName": "Venkatasubramanian S",
      "userId": "06029493893713790610"
     },
     "user_tz": 420
    },
    "id": "DwyArWsIyp3X",
    "outputId": "4d768fa3-d090-42bf-d240-2ac6644c35fd"
   },
   "outputs": [
    {
     "data": {
      "text/plain": [
       "(29748, 10)"
      ]
     },
     "execution_count": 47,
     "metadata": {},
     "output_type": "execute_result"
    }
   ],
   "source": [
    "df_prep.shape"
   ]
  },
  {
   "cell_type": "code",
   "execution_count": 48,
   "metadata": {
    "ExecuteTime": {
     "end_time": "2022-04-06T05:46:43.531269Z",
     "start_time": "2022-04-06T05:46:43.501612Z"
    },
    "colab": {
     "base_uri": "https://localhost:8080/",
     "height": 212
    },
    "executionInfo": {
     "elapsed": 396,
     "status": "ok",
     "timestamp": 1649225027064,
     "user": {
      "displayName": "Venkatasubramanian S",
      "userId": "06029493893713790610"
     },
     "user_tz": 420
    },
    "id": "vc0f2WOhyrWL",
    "outputId": "09f28f56-2743-4450-f8d4-be49b984e4a1"
   },
   "outputs": [
    {
     "data": {
      "text/html": [
       "<div>\n",
       "<style scoped>\n",
       "    .dataframe tbody tr th:only-of-type {\n",
       "        vertical-align: middle;\n",
       "    }\n",
       "\n",
       "    .dataframe tbody tr th {\n",
       "        vertical-align: top;\n",
       "    }\n",
       "\n",
       "    .dataframe thead th {\n",
       "        text-align: right;\n",
       "    }\n",
       "</style>\n",
       "<table border=\"1\" class=\"dataframe\">\n",
       "  <thead>\n",
       "    <tr style=\"text-align: right;\">\n",
       "      <th></th>\n",
       "      <th>id</th>\n",
       "      <th>brand</th>\n",
       "      <th>categories</th>\n",
       "      <th>manufacturer</th>\n",
       "      <th>name</th>\n",
       "      <th>reviews_date</th>\n",
       "      <th>reviews_rating</th>\n",
       "      <th>reviews_username</th>\n",
       "      <th>user_sentiment</th>\n",
       "      <th>reviews_combined</th>\n",
       "    </tr>\n",
       "  </thead>\n",
       "  <tbody>\n",
       "    <tr>\n",
       "      <th>0</th>\n",
       "      <td>AV13O1A8GV-KLJ3akUyj</td>\n",
       "      <td>Universal Music</td>\n",
       "      <td>Movies, Music &amp; Books,Music,R&amp;b,Movies &amp; TV,Mo...</td>\n",
       "      <td>Universal Music Group / Cash Money</td>\n",
       "      <td>Pink Friday: Roman Reloaded Re-Up (w/dvd)</td>\n",
       "      <td>2012-11-30 06:21:45+00:00</td>\n",
       "      <td>5</td>\n",
       "      <td>joshua</td>\n",
       "      <td>Positive</td>\n",
       "      <td>i love this album. it's very good. more to the...</td>\n",
       "    </tr>\n",
       "  </tbody>\n",
       "</table>\n",
       "</div>"
      ],
      "text/plain": [
       "                     id            brand  \\\n",
       "0  AV13O1A8GV-KLJ3akUyj  Universal Music   \n",
       "\n",
       "                                          categories  \\\n",
       "0  Movies, Music & Books,Music,R&b,Movies & TV,Mo...   \n",
       "\n",
       "                         manufacturer  \\\n",
       "0  Universal Music Group / Cash Money   \n",
       "\n",
       "                                        name              reviews_date  \\\n",
       "0  Pink Friday: Roman Reloaded Re-Up (w/dvd) 2012-11-30 06:21:45+00:00   \n",
       "\n",
       "   reviews_rating reviews_username user_sentiment  \\\n",
       "0               5           joshua       Positive   \n",
       "\n",
       "                                    reviews_combined  \n",
       "0  i love this album. it's very good. more to the...  "
      ]
     },
     "execution_count": 48,
     "metadata": {},
     "output_type": "execute_result"
    }
   ],
   "source": [
    "df_prep.head(1)"
   ]
  },
  {
   "cell_type": "markdown",
   "metadata": {
    "id": "PkgXrNMi05kt"
   },
   "source": [
    "## Removing columns unneeded for analysis"
   ]
  },
  {
   "cell_type": "code",
   "execution_count": 49,
   "metadata": {},
   "outputs": [
    {
     "name": "stdout",
     "output_type": "stream",
     "text": [
      "Index(['id', 'brand', 'categories', 'manufacturer', 'name', 'reviews_date',\n",
      "       'reviews_rating', 'reviews_username', 'user_sentiment',\n",
      "       'reviews_combined'],\n",
      "      dtype='object')\n"
     ]
    }
   ],
   "source": [
    "print(df_prep.columns)"
   ]
  },
  {
   "cell_type": "code",
   "execution_count": 50,
   "metadata": {
    "ExecuteTime": {
     "end_time": "2022-04-06T05:46:43.547224Z",
     "start_time": "2022-04-06T05:46:43.533150Z"
    },
    "executionInfo": {
     "elapsed": 29,
     "status": "ok",
     "timestamp": 1649225027065,
     "user": {
      "displayName": "Venkatasubramanian S",
      "userId": "06029493893713790610"
     },
     "user_tz": 420
    },
    "id": "cT2tloq308SM"
   },
   "outputs": [],
   "source": [
    "# Drop specified columns from the DataFrame\n",
    "df_prep.drop(columns=['categories', 'manufacturer', 'reviews_date'], inplace=True)\n"
   ]
  },
  {
   "cell_type": "code",
   "execution_count": 51,
   "metadata": {
    "ExecuteTime": {
     "end_time": "2022-04-06T05:46:43.563293Z",
     "start_time": "2022-04-06T05:46:43.549145Z"
    },
    "colab": {
     "base_uri": "https://localhost:8080/",
     "height": 142
    },
    "executionInfo": {
     "elapsed": 29,
     "status": "ok",
     "timestamp": 1649225027066,
     "user": {
      "displayName": "Venkatasubramanian S",
      "userId": "06029493893713790610"
     },
     "user_tz": 420
    },
    "id": "eP-ug3DV12rA",
    "outputId": "1f1b2035-5dbb-4c7e-ab1a-668b52227776"
   },
   "outputs": [
    {
     "data": {
      "text/html": [
       "<div>\n",
       "<style scoped>\n",
       "    .dataframe tbody tr th:only-of-type {\n",
       "        vertical-align: middle;\n",
       "    }\n",
       "\n",
       "    .dataframe tbody tr th {\n",
       "        vertical-align: top;\n",
       "    }\n",
       "\n",
       "    .dataframe thead th {\n",
       "        text-align: right;\n",
       "    }\n",
       "</style>\n",
       "<table border=\"1\" class=\"dataframe\">\n",
       "  <thead>\n",
       "    <tr style=\"text-align: right;\">\n",
       "      <th></th>\n",
       "      <th>id</th>\n",
       "      <th>brand</th>\n",
       "      <th>name</th>\n",
       "      <th>reviews_rating</th>\n",
       "      <th>reviews_username</th>\n",
       "      <th>user_sentiment</th>\n",
       "      <th>reviews_combined</th>\n",
       "    </tr>\n",
       "  </thead>\n",
       "  <tbody>\n",
       "    <tr>\n",
       "      <th>0</th>\n",
       "      <td>AV13O1A8GV-KLJ3akUyj</td>\n",
       "      <td>Universal Music</td>\n",
       "      <td>Pink Friday: Roman Reloaded Re-Up (w/dvd)</td>\n",
       "      <td>5</td>\n",
       "      <td>joshua</td>\n",
       "      <td>Positive</td>\n",
       "      <td>i love this album. it's very good. more to the...</td>\n",
       "    </tr>\n",
       "  </tbody>\n",
       "</table>\n",
       "</div>"
      ],
      "text/plain": [
       "                     id            brand  \\\n",
       "0  AV13O1A8GV-KLJ3akUyj  Universal Music   \n",
       "\n",
       "                                        name  reviews_rating reviews_username  \\\n",
       "0  Pink Friday: Roman Reloaded Re-Up (w/dvd)               5           joshua   \n",
       "\n",
       "  user_sentiment                                   reviews_combined  \n",
       "0       Positive  i love this album. it's very good. more to the...  "
      ]
     },
     "execution_count": 51,
     "metadata": {},
     "output_type": "execute_result"
    }
   ],
   "source": [
    "df_prep.head(1)"
   ]
  },
  {
   "cell_type": "markdown",
   "metadata": {
    "id": "0IYPACgF2jDd"
   },
   "source": [
    "## Creating dataframe for Sentiment analysis with only the required columns"
   ]
  },
  {
   "cell_type": "code",
   "execution_count": null,
   "metadata": {},
   "outputs": [],
   "source": []
  },
  {
   "cell_type": "code",
   "execution_count": 52,
   "metadata": {
    "ExecuteTime": {
     "end_time": "2022-04-06T05:46:43.578554Z",
     "start_time": "2022-04-06T05:46:43.565146Z"
    },
    "executionInfo": {
     "elapsed": 26,
     "status": "ok",
     "timestamp": 1649225027066,
     "user": {
      "displayName": "Venkatasubramanian S",
      "userId": "06029493893713790610"
     },
     "user_tz": 420
    },
    "id": "1_8anHWH2pJP"
   },
   "outputs": [],
   "source": [
    "df_sent = df_prep[['id','name','reviews_combined', 'user_sentiment']]"
   ]
  },
  {
   "cell_type": "code",
   "execution_count": 53,
   "metadata": {
    "ExecuteTime": {
     "end_time": "2022-04-06T05:46:43.594144Z",
     "start_time": "2022-04-06T05:46:43.581316Z"
    },
    "colab": {
     "base_uri": "https://localhost:8080/"
    },
    "executionInfo": {
     "elapsed": 27,
     "status": "ok",
     "timestamp": 1649225027067,
     "user": {
      "displayName": "Venkatasubramanian S",
      "userId": "06029493893713790610"
     },
     "user_tz": 420
    },
    "id": "VEm73zoe3Gse",
    "outputId": "b0804425-8ea4-458a-86ad-632b77610e5f"
   },
   "outputs": [
    {
     "data": {
      "text/plain": [
       "(29748, 4)"
      ]
     },
     "execution_count": 53,
     "metadata": {},
     "output_type": "execute_result"
    }
   ],
   "source": [
    "df_sent.shape"
   ]
  },
  {
   "cell_type": "code",
   "execution_count": 54,
   "metadata": {
    "ExecuteTime": {
     "end_time": "2022-04-06T05:46:43.610147Z",
     "start_time": "2022-04-06T05:46:43.596143Z"
    },
    "colab": {
     "base_uri": "https://localhost:8080/",
     "height": 191
    },
    "executionInfo": {
     "elapsed": 13,
     "status": "ok",
     "timestamp": 1649225027067,
     "user": {
      "displayName": "Venkatasubramanian S",
      "userId": "06029493893713790610"
     },
     "user_tz": 420
    },
    "id": "zduhD3Rl3Hs2",
    "outputId": "b7f15a8c-45ec-4b88-b25b-36cdd352fc93"
   },
   "outputs": [
    {
     "data": {
      "text/html": [
       "<div>\n",
       "<style scoped>\n",
       "    .dataframe tbody tr th:only-of-type {\n",
       "        vertical-align: middle;\n",
       "    }\n",
       "\n",
       "    .dataframe tbody tr th {\n",
       "        vertical-align: top;\n",
       "    }\n",
       "\n",
       "    .dataframe thead th {\n",
       "        text-align: right;\n",
       "    }\n",
       "</style>\n",
       "<table border=\"1\" class=\"dataframe\">\n",
       "  <thead>\n",
       "    <tr style=\"text-align: right;\">\n",
       "      <th></th>\n",
       "      <th>id</th>\n",
       "      <th>name</th>\n",
       "      <th>reviews_combined</th>\n",
       "      <th>user_sentiment</th>\n",
       "    </tr>\n",
       "  </thead>\n",
       "  <tbody>\n",
       "    <tr>\n",
       "      <th>0</th>\n",
       "      <td>AV13O1A8GV-KLJ3akUyj</td>\n",
       "      <td>Pink Friday: Roman Reloaded Re-Up (w/dvd)</td>\n",
       "      <td>i love this album. it's very good. more to the...</td>\n",
       "      <td>Positive</td>\n",
       "    </tr>\n",
       "    <tr>\n",
       "      <th>1</th>\n",
       "      <td>AV14LG0R-jtxr-f38QfS</td>\n",
       "      <td>Lundberg Organic Cinnamon Toast Rice Cakes</td>\n",
       "      <td>Good flavor. This review was collected as part...</td>\n",
       "      <td>Positive</td>\n",
       "    </tr>\n",
       "  </tbody>\n",
       "</table>\n",
       "</div>"
      ],
      "text/plain": [
       "                     id                                        name  \\\n",
       "0  AV13O1A8GV-KLJ3akUyj   Pink Friday: Roman Reloaded Re-Up (w/dvd)   \n",
       "1  AV14LG0R-jtxr-f38QfS  Lundberg Organic Cinnamon Toast Rice Cakes   \n",
       "\n",
       "                                    reviews_combined user_sentiment  \n",
       "0  i love this album. it's very good. more to the...       Positive  \n",
       "1  Good flavor. This review was collected as part...       Positive  "
      ]
     },
     "execution_count": 54,
     "metadata": {},
     "output_type": "execute_result"
    }
   ],
   "source": [
    "df_sent.head(2)"
   ]
  },
  {
   "cell_type": "markdown",
   "metadata": {
    "id": "2KaZT7rmzh2z"
   },
   "source": [
    "## Handling punctuations"
   ]
  },
  {
   "cell_type": "code",
   "execution_count": 55,
   "metadata": {
    "ExecuteTime": {
     "end_time": "2022-04-06T05:46:43.625659Z",
     "start_time": "2022-04-06T05:46:43.613149Z"
    },
    "executionInfo": {
     "elapsed": 13,
     "status": "ok",
     "timestamp": 1649225027068,
     "user": {
      "displayName": "Venkatasubramanian S",
      "userId": "06029493893713790610"
     },
     "user_tz": 420
    },
    "id": "s3_qF6qhrZjw"
   },
   "outputs": [],
   "source": [
    "# Function to clean the text and remove all the unnecessary elements.\n",
    "\n",
    "#re module (regular expressions)\n",
    "\n",
    "def clean_punctuation(sent):\n",
    "    sent = sent.lower() # Text to lowercase\n",
    "    pattern = '[^\\w\\s]' # Removing punctuation\n",
    "    sent = re.sub(pattern, '', sent)\n",
    "    return sent"
   ]
  },
  {
   "cell_type": "code",
   "execution_count": 56,
   "metadata": {
    "ExecuteTime": {
     "end_time": "2022-04-06T05:46:43.843785Z",
     "start_time": "2022-04-06T05:46:43.627648Z"
    },
    "executionInfo": {
     "elapsed": 300,
     "status": "ok",
     "timestamp": 1649225027356,
     "user": {
      "displayName": "Venkatasubramanian S",
      "userId": "06029493893713790610"
     },
     "user_tz": 420
    },
    "id": "pxtF_fBCzmY0"
   },
   "outputs": [],
   "source": [
    "df_sent['reviews_cleaned'] = df_sent['reviews_combined'].apply(clean_punctuation)"
   ]
  },
  {
   "cell_type": "code",
   "execution_count": 57,
   "metadata": {
    "ExecuteTime": {
     "end_time": "2022-04-06T05:46:43.859645Z",
     "start_time": "2022-04-06T05:46:43.845647Z"
    },
    "colab": {
     "base_uri": "https://localhost:8080/",
     "height": 226
    },
    "executionInfo": {
     "elapsed": 43,
     "status": "ok",
     "timestamp": 1649225027358,
     "user": {
      "displayName": "Venkatasubramanian S",
      "userId": "06029493893713790610"
     },
     "user_tz": 420
    },
    "id": "q36B82gn3b7i",
    "outputId": "819577ce-c90a-4afd-8192-30eb9a85563b"
   },
   "outputs": [
    {
     "data": {
      "text/html": [
       "<div>\n",
       "<style scoped>\n",
       "    .dataframe tbody tr th:only-of-type {\n",
       "        vertical-align: middle;\n",
       "    }\n",
       "\n",
       "    .dataframe tbody tr th {\n",
       "        vertical-align: top;\n",
       "    }\n",
       "\n",
       "    .dataframe thead th {\n",
       "        text-align: right;\n",
       "    }\n",
       "</style>\n",
       "<table border=\"1\" class=\"dataframe\">\n",
       "  <thead>\n",
       "    <tr style=\"text-align: right;\">\n",
       "      <th></th>\n",
       "      <th>id</th>\n",
       "      <th>name</th>\n",
       "      <th>reviews_combined</th>\n",
       "      <th>user_sentiment</th>\n",
       "      <th>reviews_cleaned</th>\n",
       "    </tr>\n",
       "  </thead>\n",
       "  <tbody>\n",
       "    <tr>\n",
       "      <th>0</th>\n",
       "      <td>AV13O1A8GV-KLJ3akUyj</td>\n",
       "      <td>Pink Friday: Roman Reloaded Re-Up (w/dvd)</td>\n",
       "      <td>i love this album. it's very good. more to the...</td>\n",
       "      <td>Positive</td>\n",
       "      <td>i love this album its very good more to the hi...</td>\n",
       "    </tr>\n",
       "    <tr>\n",
       "      <th>1</th>\n",
       "      <td>AV14LG0R-jtxr-f38QfS</td>\n",
       "      <td>Lundberg Organic Cinnamon Toast Rice Cakes</td>\n",
       "      <td>Good flavor. This review was collected as part...</td>\n",
       "      <td>Positive</td>\n",
       "      <td>good flavor this review was collected as part ...</td>\n",
       "    </tr>\n",
       "  </tbody>\n",
       "</table>\n",
       "</div>"
      ],
      "text/plain": [
       "                     id                                        name  \\\n",
       "0  AV13O1A8GV-KLJ3akUyj   Pink Friday: Roman Reloaded Re-Up (w/dvd)   \n",
       "1  AV14LG0R-jtxr-f38QfS  Lundberg Organic Cinnamon Toast Rice Cakes   \n",
       "\n",
       "                                    reviews_combined user_sentiment  \\\n",
       "0  i love this album. it's very good. more to the...       Positive   \n",
       "1  Good flavor. This review was collected as part...       Positive   \n",
       "\n",
       "                                     reviews_cleaned  \n",
       "0  i love this album its very good more to the hi...  \n",
       "1  good flavor this review was collected as part ...  "
      ]
     },
     "execution_count": 57,
     "metadata": {},
     "output_type": "execute_result"
    }
   ],
   "source": [
    "df_sent.head(2)"
   ]
  },
  {
   "cell_type": "markdown",
   "metadata": {
    "id": "zky4fIxa3khS"
   },
   "source": [
    "## Handling stopwords"
   ]
  },
  {
   "cell_type": "code",
   "execution_count": 58,
   "metadata": {
    "ExecuteTime": {
     "end_time": "2022-04-06T05:46:43.890648Z",
     "start_time": "2022-04-06T05:46:43.861648Z"
    },
    "colab": {
     "base_uri": "https://localhost:8080/"
    },
    "executionInfo": {
     "elapsed": 41,
     "status": "ok",
     "timestamp": 1649225027358,
     "user": {
      "displayName": "Venkatasubramanian S",
      "userId": "06029493893713790610"
     },
     "user_tz": 420
    },
    "id": "Czi5fXv748pC",
    "outputId": "5c66c71c-066c-41f8-ad9a-d8c82b4b9329"
   },
   "outputs": [
    {
     "name": "stderr",
     "output_type": "stream",
     "text": [
      "[nltk_data] Downloading package stopwords to\n",
      "[nltk_data]     C:\\Users\\Asus\\AppData\\Roaming\\nltk_data...\n",
      "[nltk_data]   Package stopwords is already up-to-date!\n"
     ]
    },
    {
     "data": {
      "text/plain": [
       "True"
      ]
     },
     "execution_count": 58,
     "metadata": {},
     "output_type": "execute_result"
    }
   ],
   "source": [
    "nltk.download('stopwords')"
   ]
  },
  {
   "cell_type": "code",
   "execution_count": 59,
   "metadata": {
    "ExecuteTime": {
     "end_time": "2022-04-06T05:46:43.921577Z",
     "start_time": "2022-04-06T05:46:43.892648Z"
    },
    "colab": {
     "base_uri": "https://localhost:8080/"
    },
    "executionInfo": {
     "elapsed": 29,
     "status": "ok",
     "timestamp": 1649225027359,
     "user": {
      "displayName": "Venkatasubramanian S",
      "userId": "06029493893713790610"
     },
     "user_tz": 420
    },
    "id": "yazWXbIE86Dr",
    "outputId": "bb34d5aa-2d54-4824-d3c1-6cd44e7da9e3"
   },
   "outputs": [
    {
     "name": "stdout",
     "output_type": "stream",
     "text": [
      "{'and', 'won', 'both', 'have', 'who', 'ours', 'because', 'be', 'am', 're', 'same', 'mustn', 'only', 'too', 'her', 'mightn', \"weren't\", 'are', 'i', 'other', 'my', 'ain', 'herself', 'whom', 'why', 'didn', \"doesn't\", 'by', 'or', 'to', 'can', 'hasn', 'will', 'but', 'he', 'up', 'm', 'few', 'while', 'at', 'aren', \"wasn't\", \"you'll\", 'was', \"couldn't\", 'wasn', 'they', 'of', 'where', 'having', 'off', 'the', 'do', 'such', 'its', 'over', 'isn', \"hadn't\", 'shan', 'd', 'wouldn', 'did', 'once', 'itself', 've', 'own', 'his', 'is', 'needn', \"hasn't\", 'with', 'not', 'most', \"isn't\", 'myself', 'than', 'had', 'him', 'being', 'your', 'no', \"you've\", 'shouldn', 'below', 'that', 'from', 't', 'has', 'their', 'haven', 'how', 'yours', \"didn't\", 'what', 'yourselves', 'for', 'against', 'we', 'when', \"won't\", 'out', 'it', 'doing', 'after', 'as', 'were', 'then', \"haven't\", 'ourselves', 'ma', 'an', \"shan't\", 'you', 'about', 'down', 'those', 'above', 'very', 'hadn', 'again', 'weren', 'on', 'before', 'does', 'me', 'now', 'themselves', 'under', 'some', 's', 'theirs', 'them', 'couldn', 'if', 'in', 'so', 'doesn', 'into', \"mustn't\", 'here', 'don', 'between', 'y', 'further', \"you're\", 'during', 'any', 'just', 'been', 'hers', 'more', \"don't\", 'll', 'there', 'yourself', \"shouldn't\", \"that'll\", 'these', \"wouldn't\", 'himself', 'each', 'which', 'she', 'until', \"mightn't\", \"she's\", 'should', 'this', 'our', 'through', 'nor', \"it's\", \"should've\", 'all', \"needn't\", \"you'd\", 'a', 'o', \"aren't\"}\n"
     ]
    }
   ],
   "source": [
    "from nltk.corpus import stopwords\n",
    "stopwords_set = set(stopwords.words(\"english\"))\n",
    "print(stopwords_set)"
   ]
  },
  {
   "cell_type": "code",
   "execution_count": 60,
   "metadata": {
    "ExecuteTime": {
     "end_time": "2022-04-06T05:46:43.936727Z",
     "start_time": "2022-04-06T05:46:43.924542Z"
    },
    "executionInfo": {
     "elapsed": 18,
     "status": "ok",
     "timestamp": 1649225027360,
     "user": {
      "displayName": "Venkatasubramanian S",
      "userId": "06029493893713790610"
     },
     "user_tz": 420
    },
    "id": "xi71OmOn3Du4"
   },
   "outputs": [],
   "source": [
    "# Function to remove the stopwords\n",
    "def clean_stopwords(sent):\n",
    "    sent = sent.lower() # Text to lowercase\n",
    "    words = word_tokenize(sent) # Split sentences into words\n",
    "    text_nostopwords = \" \".join( [each_word for each_word in words if each_word not in stopwords_set] )\n",
    "    return sent"
   ]
  },
  {
   "cell_type": "code",
   "execution_count": 61,
   "metadata": {
    "ExecuteTime": {
     "end_time": "2022-04-06T05:46:49.950881Z",
     "start_time": "2022-04-06T05:46:43.939542Z"
    },
    "executionInfo": {
     "elapsed": 5707,
     "status": "ok",
     "timestamp": 1649225033050,
     "user": {
      "displayName": "Venkatasubramanian S",
      "userId": "06029493893713790610"
     },
     "user_tz": 420
    },
    "id": "Q42aqBTw9wtw"
   },
   "outputs": [],
   "source": [
    "df_sent['reviews_cleaned'] = df_sent['reviews_cleaned'].apply(clean_stopwords)"
   ]
  },
  {
   "cell_type": "code",
   "execution_count": 62,
   "metadata": {
    "ExecuteTime": {
     "end_time": "2022-04-06T05:46:49.966413Z",
     "start_time": "2022-04-06T05:46:49.952880Z"
    },
    "colab": {
     "base_uri": "https://localhost:8080/",
     "height": 226
    },
    "executionInfo": {
     "elapsed": 15,
     "status": "ok",
     "timestamp": 1649225033051,
     "user": {
      "displayName": "Venkatasubramanian S",
      "userId": "06029493893713790610"
     },
     "user_tz": 420
    },
    "id": "mOJuQ4ka95Y-",
    "outputId": "60108ae2-793c-47d6-aeaa-5a3a6ee50981"
   },
   "outputs": [
    {
     "data": {
      "text/html": [
       "<div>\n",
       "<style scoped>\n",
       "    .dataframe tbody tr th:only-of-type {\n",
       "        vertical-align: middle;\n",
       "    }\n",
       "\n",
       "    .dataframe tbody tr th {\n",
       "        vertical-align: top;\n",
       "    }\n",
       "\n",
       "    .dataframe thead th {\n",
       "        text-align: right;\n",
       "    }\n",
       "</style>\n",
       "<table border=\"1\" class=\"dataframe\">\n",
       "  <thead>\n",
       "    <tr style=\"text-align: right;\">\n",
       "      <th></th>\n",
       "      <th>id</th>\n",
       "      <th>name</th>\n",
       "      <th>reviews_combined</th>\n",
       "      <th>user_sentiment</th>\n",
       "      <th>reviews_cleaned</th>\n",
       "    </tr>\n",
       "  </thead>\n",
       "  <tbody>\n",
       "    <tr>\n",
       "      <th>0</th>\n",
       "      <td>AV13O1A8GV-KLJ3akUyj</td>\n",
       "      <td>Pink Friday: Roman Reloaded Re-Up (w/dvd)</td>\n",
       "      <td>i love this album. it's very good. more to the...</td>\n",
       "      <td>Positive</td>\n",
       "      <td>i love this album its very good more to the hi...</td>\n",
       "    </tr>\n",
       "    <tr>\n",
       "      <th>1</th>\n",
       "      <td>AV14LG0R-jtxr-f38QfS</td>\n",
       "      <td>Lundberg Organic Cinnamon Toast Rice Cakes</td>\n",
       "      <td>Good flavor. This review was collected as part...</td>\n",
       "      <td>Positive</td>\n",
       "      <td>good flavor this review was collected as part ...</td>\n",
       "    </tr>\n",
       "  </tbody>\n",
       "</table>\n",
       "</div>"
      ],
      "text/plain": [
       "                     id                                        name  \\\n",
       "0  AV13O1A8GV-KLJ3akUyj   Pink Friday: Roman Reloaded Re-Up (w/dvd)   \n",
       "1  AV14LG0R-jtxr-f38QfS  Lundberg Organic Cinnamon Toast Rice Cakes   \n",
       "\n",
       "                                    reviews_combined user_sentiment  \\\n",
       "0  i love this album. it's very good. more to the...       Positive   \n",
       "1  Good flavor. This review was collected as part...       Positive   \n",
       "\n",
       "                                     reviews_cleaned  \n",
       "0  i love this album its very good more to the hi...  \n",
       "1  good flavor this review was collected as part ...  "
      ]
     },
     "execution_count": 62,
     "metadata": {},
     "output_type": "execute_result"
    }
   ],
   "source": [
    "df_sent.head(2)"
   ]
  },
  {
   "cell_type": "markdown",
   "metadata": {
    "id": "V9qdgjNHUXi9"
   },
   "source": [
    "## Handling lemmatization"
   ]
  },
  {
   "cell_type": "code",
   "execution_count": 63,
   "metadata": {
    "ExecuteTime": {
     "end_time": "2022-04-06T05:46:49.982027Z",
     "start_time": "2022-04-06T05:46:49.968411Z"
    },
    "executionInfo": {
     "elapsed": 12,
     "status": "ok",
     "timestamp": 1649225033052,
     "user": {
      "displayName": "Venkatasubramanian S",
      "userId": "06029493893713790610"
     },
     "user_tz": 420
    },
    "id": "G3N_b4BFUZZu"
   },
   "outputs": [],
   "source": [
    "#Function to lemmatize the text\n",
    "def clean_lemma(text):\n",
    "    sent = []\n",
    "    doc = nlp(text)\n",
    "    for token in doc:\n",
    "        sent.append(token.lemma_)\n",
    "    return \" \".join(sent)"
   ]
  },
  {
   "cell_type": "code",
   "execution_count": 64,
   "metadata": {
    "ExecuteTime": {
     "end_time": "2022-04-06T05:49:43.459373Z",
     "start_time": "2022-04-06T05:46:49.982950Z"
    },
    "executionInfo": {
     "elapsed": 115677,
     "status": "ok",
     "timestamp": 1649225148718,
     "user": {
      "displayName": "Venkatasubramanian S",
      "userId": "06029493893713790610"
     },
     "user_tz": 420
    },
    "id": "pMZ94G-mUl-g"
   },
   "outputs": [],
   "source": [
    "df_sent['reviews_lemmatized'] = df_sent['reviews_cleaned'].apply(clean_lemma)"
   ]
  },
  {
   "cell_type": "code",
   "execution_count": 65,
   "metadata": {
    "ExecuteTime": {
     "end_time": "2022-04-06T05:49:43.475470Z",
     "start_time": "2022-04-06T05:49:43.461370Z"
    },
    "colab": {
     "base_uri": "https://localhost:8080/",
     "height": 260
    },
    "executionInfo": {
     "elapsed": 55,
     "status": "ok",
     "timestamp": 1649225148719,
     "user": {
      "displayName": "Venkatasubramanian S",
      "userId": "06029493893713790610"
     },
     "user_tz": 420
    },
    "id": "oo6xHZFrU0Ax",
    "outputId": "8608c607-4fc7-498b-f870-78dbf4857d44"
   },
   "outputs": [
    {
     "data": {
      "text/html": [
       "<div>\n",
       "<style scoped>\n",
       "    .dataframe tbody tr th:only-of-type {\n",
       "        vertical-align: middle;\n",
       "    }\n",
       "\n",
       "    .dataframe tbody tr th {\n",
       "        vertical-align: top;\n",
       "    }\n",
       "\n",
       "    .dataframe thead th {\n",
       "        text-align: right;\n",
       "    }\n",
       "</style>\n",
       "<table border=\"1\" class=\"dataframe\">\n",
       "  <thead>\n",
       "    <tr style=\"text-align: right;\">\n",
       "      <th></th>\n",
       "      <th>id</th>\n",
       "      <th>name</th>\n",
       "      <th>reviews_combined</th>\n",
       "      <th>user_sentiment</th>\n",
       "      <th>reviews_cleaned</th>\n",
       "      <th>reviews_lemmatized</th>\n",
       "    </tr>\n",
       "  </thead>\n",
       "  <tbody>\n",
       "    <tr>\n",
       "      <th>0</th>\n",
       "      <td>AV13O1A8GV-KLJ3akUyj</td>\n",
       "      <td>Pink Friday: Roman Reloaded Re-Up (w/dvd)</td>\n",
       "      <td>i love this album. it's very good. more to the...</td>\n",
       "      <td>Positive</td>\n",
       "      <td>i love this album its very good more to the hi...</td>\n",
       "      <td>I love this album its very good more to the hi...</td>\n",
       "    </tr>\n",
       "    <tr>\n",
       "      <th>1</th>\n",
       "      <td>AV14LG0R-jtxr-f38QfS</td>\n",
       "      <td>Lundberg Organic Cinnamon Toast Rice Cakes</td>\n",
       "      <td>Good flavor. This review was collected as part...</td>\n",
       "      <td>Positive</td>\n",
       "      <td>good flavor this review was collected as part ...</td>\n",
       "      <td>good flavor this review be collect as part of ...</td>\n",
       "    </tr>\n",
       "  </tbody>\n",
       "</table>\n",
       "</div>"
      ],
      "text/plain": [
       "                     id                                        name  \\\n",
       "0  AV13O1A8GV-KLJ3akUyj   Pink Friday: Roman Reloaded Re-Up (w/dvd)   \n",
       "1  AV14LG0R-jtxr-f38QfS  Lundberg Organic Cinnamon Toast Rice Cakes   \n",
       "\n",
       "                                    reviews_combined user_sentiment  \\\n",
       "0  i love this album. it's very good. more to the...       Positive   \n",
       "1  Good flavor. This review was collected as part...       Positive   \n",
       "\n",
       "                                     reviews_cleaned  \\\n",
       "0  i love this album its very good more to the hi...   \n",
       "1  good flavor this review was collected as part ...   \n",
       "\n",
       "                                  reviews_lemmatized  \n",
       "0  I love this album its very good more to the hi...  \n",
       "1  good flavor this review be collect as part of ...  "
      ]
     },
     "execution_count": 65,
     "metadata": {},
     "output_type": "execute_result"
    }
   ],
   "source": [
    "df_sent.head(2)"
   ]
  },
  {
   "cell_type": "code",
   "execution_count": 66,
   "metadata": {
    "ExecuteTime": {
     "end_time": "2022-04-06T05:49:43.507587Z",
     "start_time": "2022-04-06T05:49:43.478369Z"
    },
    "executionInfo": {
     "elapsed": 38,
     "status": "ok",
     "timestamp": 1649225148720,
     "user": {
      "displayName": "Venkatasubramanian S",
      "userId": "06029493893713790610"
     },
     "user_tz": 420
    },
    "id": "WRuMgc4Vye_P"
   },
   "outputs": [],
   "source": [
    "df_sent = df_sent[['id','name','reviews_lemmatized', 'user_sentiment']]"
   ]
  },
  {
   "cell_type": "code",
   "execution_count": 67,
   "metadata": {
    "ExecuteTime": {
     "end_time": "2022-04-06T05:49:43.522371Z",
     "start_time": "2022-04-06T05:49:43.510940Z"
    },
    "colab": {
     "base_uri": "https://localhost:8080/",
     "height": 191
    },
    "executionInfo": {
     "elapsed": 38,
     "status": "ok",
     "timestamp": 1649225148720,
     "user": {
      "displayName": "Venkatasubramanian S",
      "userId": "06029493893713790610"
     },
     "user_tz": 420
    },
    "id": "SpoqtWcgylcV",
    "outputId": "6c7d3223-74fb-4a1e-f6c2-963421b7f20e"
   },
   "outputs": [
    {
     "data": {
      "text/html": [
       "<div>\n",
       "<style scoped>\n",
       "    .dataframe tbody tr th:only-of-type {\n",
       "        vertical-align: middle;\n",
       "    }\n",
       "\n",
       "    .dataframe tbody tr th {\n",
       "        vertical-align: top;\n",
       "    }\n",
       "\n",
       "    .dataframe thead th {\n",
       "        text-align: right;\n",
       "    }\n",
       "</style>\n",
       "<table border=\"1\" class=\"dataframe\">\n",
       "  <thead>\n",
       "    <tr style=\"text-align: right;\">\n",
       "      <th></th>\n",
       "      <th>id</th>\n",
       "      <th>name</th>\n",
       "      <th>reviews_lemmatized</th>\n",
       "      <th>user_sentiment</th>\n",
       "    </tr>\n",
       "  </thead>\n",
       "  <tbody>\n",
       "    <tr>\n",
       "      <th>0</th>\n",
       "      <td>AV13O1A8GV-KLJ3akUyj</td>\n",
       "      <td>Pink Friday: Roman Reloaded Re-Up (w/dvd)</td>\n",
       "      <td>I love this album its very good more to the hi...</td>\n",
       "      <td>Positive</td>\n",
       "    </tr>\n",
       "    <tr>\n",
       "      <th>1</th>\n",
       "      <td>AV14LG0R-jtxr-f38QfS</td>\n",
       "      <td>Lundberg Organic Cinnamon Toast Rice Cakes</td>\n",
       "      <td>good flavor this review be collect as part of ...</td>\n",
       "      <td>Positive</td>\n",
       "    </tr>\n",
       "  </tbody>\n",
       "</table>\n",
       "</div>"
      ],
      "text/plain": [
       "                     id                                        name  \\\n",
       "0  AV13O1A8GV-KLJ3akUyj   Pink Friday: Roman Reloaded Re-Up (w/dvd)   \n",
       "1  AV14LG0R-jtxr-f38QfS  Lundberg Organic Cinnamon Toast Rice Cakes   \n",
       "\n",
       "                                  reviews_lemmatized user_sentiment  \n",
       "0  I love this album its very good more to the hi...       Positive  \n",
       "1  good flavor this review be collect as part of ...       Positive  "
      ]
     },
     "execution_count": 67,
     "metadata": {},
     "output_type": "execute_result"
    }
   ],
   "source": [
    "df_sent.head(2)"
   ]
  },
  {
   "cell_type": "code",
   "execution_count": 68,
   "metadata": {
    "ExecuteTime": {
     "end_time": "2022-04-06T05:49:43.537565Z",
     "start_time": "2022-04-06T05:49:43.526371Z"
    },
    "colab": {
     "base_uri": "https://localhost:8080/"
    },
    "executionInfo": {
     "elapsed": 37,
     "status": "ok",
     "timestamp": 1649225148721,
     "user": {
      "displayName": "Venkatasubramanian S",
      "userId": "06029493893713790610"
     },
     "user_tz": 420
    },
    "id": "XjFhSLjAypZj",
    "outputId": "9f204cb4-b3ee-4c80-f480-8a41b8ae089e"
   },
   "outputs": [
    {
     "data": {
      "text/plain": [
       "(29748, 4)"
      ]
     },
     "execution_count": 68,
     "metadata": {},
     "output_type": "execute_result"
    }
   ],
   "source": [
    "df_sent.shape"
   ]
  },
  {
   "cell_type": "code",
   "execution_count": 69,
   "metadata": {
    "ExecuteTime": {
     "end_time": "2022-04-06T05:49:43.553370Z",
     "start_time": "2022-04-06T05:49:43.551366Z"
    },
    "executionInfo": {
     "elapsed": 25,
     "status": "ok",
     "timestamp": 1649225148721,
     "user": {
      "displayName": "Venkatasubramanian S",
      "userId": "06029493893713790610"
     },
     "user_tz": 420
    },
    "id": "Yuai4JBVe5Rz"
   },
   "outputs": [],
   "source": [
    "# spell = SpellChecker()"
   ]
  },
  {
   "cell_type": "code",
   "execution_count": 70,
   "metadata": {
    "ExecuteTime": {
     "end_time": "2022-04-06T05:49:43.569410Z",
     "start_time": "2022-04-06T05:49:43.560366Z"
    },
    "executionInfo": {
     "elapsed": 366,
     "status": "ok",
     "timestamp": 1649225149063,
     "user": {
      "displayName": "Venkatasubramanian S",
      "userId": "06029493893713790610"
     },
     "user_tz": 420
    },
    "id": "Tn70HNuCQowb"
   },
   "outputs": [],
   "source": [
    "# def correct_spelling(text):\n",
    "#   spell_correctedlist = []\n",
    "#   words = word_tokenize(text) # Split sentences into words\n",
    "#   misspelled_words = spell.unknown(words)\n",
    "#   for each_word in words:\n",
    "#     # Ignore words which are greater than 13 characters\n",
    "#     if len(each_word) > 13:\n",
    "#       continue\n",
    "#     elif each_word in misspelled_words :\n",
    "#       # Spell correction \n",
    "#       corrected_word = spell.correction(each_word)\n",
    "#       spell_correctedlist.append(corrected_word)\n",
    "#     else:\n",
    "#       # If word is not part of misspelled words, then no alteration is required\n",
    "#       spell_correctedlist.append(each_word)\n",
    "#   return \" \".join(spell_correctedlist)"
   ]
  },
  {
   "cell_type": "code",
   "execution_count": 71,
   "metadata": {
    "ExecuteTime": {
     "end_time": "2022-04-06T05:49:43.585410Z",
     "start_time": "2022-04-06T05:49:43.571375Z"
    },
    "executionInfo": {
     "elapsed": 7,
     "status": "ok",
     "timestamp": 1649225149064,
     "user": {
      "displayName": "Venkatasubramanian S",
      "userId": "06029493893713790610"
     },
     "user_tz": 420
    },
    "id": "OAknpwA8gAw_"
   },
   "outputs": [],
   "source": [
    "# df_sent['reviews_corrected'] = df_sent['reviews_lemmatized'].apply(correct_spelling)"
   ]
  },
  {
   "cell_type": "markdown",
   "metadata": {
    "id": "O15QB-aKx4NT"
   },
   "source": [
    "* The spell correction functionality ran for a very long time and did not produce results.\n",
    "* Even when optimized to correct words less than 13 characters, it is still taking longer.\n",
    "* For the purpose of this specific assignment, we will ignore the spell correction exercise."
   ]
  },
  {
   "cell_type": "markdown",
   "metadata": {
    "id": "Mc2NB22O4oJr"
   },
   "source": [
    "## Saving the cleaned dataframe"
   ]
  },
  {
   "cell_type": "code",
   "execution_count": 72,
   "metadata": {
    "ExecuteTime": {
     "end_time": "2022-04-06T05:49:43.679509Z",
     "start_time": "2022-04-06T05:49:43.586373Z"
    },
    "executionInfo": {
     "elapsed": 4,
     "status": "ok",
     "timestamp": 1649225149064,
     "user": {
      "displayName": "Venkatasubramanian S",
      "userId": "06029493893713790610"
     },
     "user_tz": 420
    },
    "id": "sGYxcPDu40bZ"
   },
   "outputs": [],
   "source": [
    "# Saving the the cleaned dataframe\n",
    "pickle.dump(df_sent, open(\"./models/clean_data.pkl\",\"wb\"))"
   ]
  },
  {
   "cell_type": "code",
   "execution_count": 73,
   "metadata": {
    "ExecuteTime": {
     "end_time": "2022-04-06T05:49:44.276922Z",
     "start_time": "2022-04-06T05:49:43.682965Z"
    },
    "colab": {
     "base_uri": "https://localhost:8080/",
     "height": 399
    },
    "executionInfo": {
     "elapsed": 197,
     "status": "ok",
     "timestamp": 1649225149257,
     "user": {
      "displayName": "Venkatasubramanian S",
      "userId": "06029493893713790610"
     },
     "user_tz": 420
    },
    "id": "SF8p6QspgU-H",
    "outputId": "7206affa-500a-4314-ba2c-afb764bc74cd"
   },
   "outputs": [
    {
     "data": {
      "image/png": "[encoded data removed]",
      "text/plain": [
       "<Figure size 500x500 with 1 Axes>"
      ]
     },
     "metadata": {},
     "output_type": "display_data"
    }
   ],
   "source": [
    "# Visualizing 'reviews_lemmatized' character length\n",
    "character_length = [len(each_sent) for each_sent in df_sent['reviews_lemmatized']]\n",
    "\n",
    "sns.displot(character_length, kind='hist', bins=60)\n",
    "plt.xlabel(\"Reviews character length\")\n",
    "plt.ylabel(\"Total number of Reviews\")\n",
    "plt.title(\"Distribution of Reviews character length\")\n",
    "plt.show()"
   ]
  },
  {
   "cell_type": "markdown",
   "metadata": {
    "id": "jujF3x3D6gtZ"
   },
   "source": [
    "The distribution is a bit skewed to the right but it is a normal distribution."
   ]
  },
  {
   "cell_type": "code",
   "execution_count": 74,
   "metadata": {
    "ExecuteTime": {
     "end_time": "2022-04-06T05:49:44.620734Z",
     "start_time": "2022-04-06T05:49:44.278771Z"
    },
    "colab": {
     "base_uri": "https://localhost:8080/",
     "height": 310
    },
    "executionInfo": {
     "elapsed": 368,
     "status": "ok",
     "timestamp": 1649225149621,
     "user": {
      "displayName": "Venkatasubramanian S",
      "userId": "06029493893713790610"
     },
     "user_tz": 420
    },
    "id": "zmdDEQAK6jnE",
    "outputId": "619ac878-56bf-4edb-d3dc-2ccf276b7dbf"
   },
   "outputs": [
    {
     "data": {
      "image/png": "[encoded data removed]",
      "text/plain": [
       "<Figure size 1000x1000 with 1 Axes>"
      ]
     },
     "metadata": {},
     "output_type": "display_data"
    }
   ],
   "source": [
    "#Using a word cloud visualize the top 30 words in review by frequency\n",
    "stopwords_wordcloud = set(STOPWORDS)\n",
    "wordcloud = WordCloud(max_font_size=60, max_words=30, \n",
    "                      background_color=\"white\", random_state=42, \n",
    "                      stopwords=stopwords_wordcloud).generate(str(df_sent['reviews_lemmatized']))\n",
    "plt.figure(figsize=[10,10])\n",
    "plt.imshow(wordcloud, interpolation=\"bilinear\")\n",
    "plt.axis(\"off\")\n",
    "plt.show()"
   ]
  },
  {
   "cell_type": "markdown",
   "metadata": {
    "id": "Zc8gfSq2zLkb"
   },
   "source": [
    "# Feature Extraction"
   ]
  },
  {
   "cell_type": "markdown",
   "metadata": {
    "id": "w2huxiPk0MaS"
   },
   "source": [
    "In this part, we will be performing\n",
    "1. Feature Extraction using TF-IDF\n",
    "2. Check for and handle Class imbalance\n",
    "3. Perform train, test split"
   ]
  },
  {
   "cell_type": "markdown",
   "metadata": {
    "id": "WssVBTux3-Xv"
   },
   "source": [
    "## TF-IDF Feature Extraction"
   ]
  },
  {
   "cell_type": "markdown",
   "metadata": {
    "id": "uquFG_jh0_Eg"
   },
   "source": [
    "**Feature Extraction using TF-IDF**\n",
    "Convert the raw texts to a matrix of TF-IDF features\n",
    "\n",
    "**max_df** is used for removing terms that appear too frequently, also known as \"corpus-specific stop words\"\n",
    "max_df = 0.95 means \"ignore terms that appear in more than 95% of the complaints\"\n",
    "\n",
    "**min_df** is used for removing terms that appear too infrequently\n",
    "min_df = 5 means \"ignore terms that appear in less than 5 complaints\""
   ]
  },
  {
   "cell_type": "code",
   "execution_count": 75,
   "metadata": {
    "ExecuteTime": {
     "end_time": "2022-04-06T05:49:44.636843Z",
     "start_time": "2022-04-06T05:49:44.622733Z"
    },
    "executionInfo": {
     "elapsed": 7,
     "status": "ok",
     "timestamp": 1649225149622,
     "user": {
      "displayName": "Venkatasubramanian S",
      "userId": "06029493893713790610"
     },
     "user_tz": 420
    },
    "id": "xcCRfOJ00ejP"
   },
   "outputs": [],
   "source": [
    "# Initialize the TfidfVectorizer \n",
    "tfidf = TfidfVectorizer(min_df=5, max_df=0.95, stop_words='english', ngram_range=(1,2))"
   ]
  },
  {
   "cell_type": "code",
   "execution_count": 76,
   "metadata": {
    "ExecuteTime": {
     "end_time": "2022-04-06T05:49:47.560376Z",
     "start_time": "2022-04-06T05:49:44.638732Z"
    },
    "executionInfo": {
     "elapsed": 1766,
     "status": "ok",
     "timestamp": 1649225151381,
     "user": {
      "displayName": "Venkatasubramanian S",
      "userId": "06029493893713790610"
     },
     "user_tz": 420
    },
    "id": "74AiC-261aOI"
   },
   "outputs": [],
   "source": [
    "X = tfidf.fit_transform(df_sent['reviews_lemmatized'])\n",
    "\n",
    "y= df_sent['user_sentiment']"
   ]
  },
  {
   "cell_type": "code",
   "execution_count": 77,
   "metadata": {
    "ExecuteTime": {
     "end_time": "2022-04-06T05:49:47.701256Z",
     "start_time": "2022-04-06T05:49:47.563116Z"
    },
    "executionInfo": {
     "elapsed": 43,
     "status": "ok",
     "timestamp": 1649225151382,
     "user": {
      "displayName": "Venkatasubramanian S",
      "userId": "06029493893713790610"
     },
     "user_tz": 420
    },
    "id": "NZKB7akB2bPu"
   },
   "outputs": [],
   "source": [
    "# Saving the the tfidf vectorizer model\n",
    "pickle.dump(tfidf, open(\"./models/tfidf.pkl\",\"wb\"))"
   ]
  },
  {
   "cell_type": "markdown",
   "metadata": {
    "id": "t0vlaZ5l4BMi"
   },
   "source": [
    "## Train, test split"
   ]
  },
  {
   "cell_type": "code",
   "execution_count": 78,
   "metadata": {
    "ExecuteTime": {
     "end_time": "2022-04-06T05:49:47.731994Z",
     "start_time": "2022-04-06T05:49:47.703228Z"
    },
    "executionInfo": {
     "elapsed": 41,
     "status": "ok",
     "timestamp": 1649225151383,
     "user": {
      "displayName": "Venkatasubramanian S",
      "userId": "06029493893713790610"
     },
     "user_tz": 420
    },
    "id": "euq3KXRO4E3y"
   },
   "outputs": [],
   "source": [
    "X_train, X_test, y_train, y_test = train_test_split(X, y, random_state=42, test_size=0.25)"
   ]
  },
  {
   "cell_type": "code",
   "execution_count": 79,
   "metadata": {
    "ExecuteTime": {
     "end_time": "2022-04-06T05:49:47.747225Z",
     "start_time": "2022-04-06T05:49:47.734224Z"
    },
    "colab": {
     "base_uri": "https://localhost:8080/"
    },
    "executionInfo": {
     "elapsed": 40,
     "status": "ok",
     "timestamp": 1649225151384,
     "user": {
      "displayName": "Venkatasubramanian S",
      "userId": "06029493893713790610"
     },
     "user_tz": 420
    },
    "id": "8kUprVIP5usN",
    "outputId": "4719b7c2-cbfc-44de-e8c0-74a7ee98b6f8"
   },
   "outputs": [
    {
     "name": "stdout",
     "output_type": "stream",
     "text": [
      "Train shapes: (22311, 16036) (22311,)\n",
      "Test shapes: (7437, 16036) (7437,)\n"
     ]
    }
   ],
   "source": [
    "print(\"Train shapes:\", X_train.shape, y_train.shape)\n",
    "print(\"Test shapes:\", X_test.shape, y_test.shape)"
   ]
  },
  {
   "cell_type": "markdown",
   "metadata": {
    "id": "HPxiuySG4Msp"
   },
   "source": [
    "## Class Imbalance"
   ]
  },
  {
   "cell_type": "code",
   "execution_count": 80,
   "metadata": {
    "ExecuteTime": {
     "end_time": "2022-04-06T05:49:47.763325Z",
     "start_time": "2022-04-06T05:49:47.749226Z"
    },
    "colab": {
     "base_uri": "https://localhost:8080/"
    },
    "executionInfo": {
     "elapsed": 24,
     "status": "ok",
     "timestamp": 1649225151385,
     "user": {
      "displayName": "Venkatasubramanian S",
      "userId": "06029493893713790610"
     },
     "user_tz": 420
    },
    "id": "HUWYWbXW4OD1",
    "outputId": "6091b061-3f62-4ecf-b79f-e67fea986eca"
   },
   "outputs": [
    {
     "data": {
      "text/plain": [
       "user_sentiment\n",
       "Positive    0.887892\n",
       "Negative    0.112108\n",
       "Name: proportion, dtype: float64"
      ]
     },
     "execution_count": 80,
     "metadata": {},
     "output_type": "execute_result"
    }
   ],
   "source": [
    "# Check the data to see if there is a class imbalance in the data\n",
    "df_sent['user_sentiment'].value_counts(normalize=True)"
   ]
  },
  {
   "cell_type": "code",
   "execution_count": 81,
   "metadata": {
    "ExecuteTime": {
     "end_time": "2022-04-06T05:49:47.779224Z",
     "start_time": "2022-04-06T05:49:47.765226Z"
    },
    "colab": {
     "base_uri": "https://localhost:8080/",
     "height": 191
    },
    "executionInfo": {
     "elapsed": 17,
     "status": "ok",
     "timestamp": 1649225151386,
     "user": {
      "displayName": "Venkatasubramanian S",
      "userId": "06029493893713790610"
     },
     "user_tz": 420
    },
    "id": "7Avv8wyFvTBH",
    "outputId": "d155e927-665a-44b7-c5ac-d97660825021"
   },
   "outputs": [
    {
     "data": {
      "text/html": [
       "<div>\n",
       "<style scoped>\n",
       "    .dataframe tbody tr th:only-of-type {\n",
       "        vertical-align: middle;\n",
       "    }\n",
       "\n",
       "    .dataframe tbody tr th {\n",
       "        vertical-align: top;\n",
       "    }\n",
       "\n",
       "    .dataframe thead th {\n",
       "        text-align: right;\n",
       "    }\n",
       "</style>\n",
       "<table border=\"1\" class=\"dataframe\">\n",
       "  <thead>\n",
       "    <tr style=\"text-align: right;\">\n",
       "      <th></th>\n",
       "      <th>id</th>\n",
       "      <th>name</th>\n",
       "      <th>reviews_lemmatized</th>\n",
       "      <th>user_sentiment</th>\n",
       "    </tr>\n",
       "  </thead>\n",
       "  <tbody>\n",
       "    <tr>\n",
       "      <th>0</th>\n",
       "      <td>AV13O1A8GV-KLJ3akUyj</td>\n",
       "      <td>Pink Friday: Roman Reloaded Re-Up (w/dvd)</td>\n",
       "      <td>I love this album its very good more to the hi...</td>\n",
       "      <td>Positive</td>\n",
       "    </tr>\n",
       "    <tr>\n",
       "      <th>1</th>\n",
       "      <td>AV14LG0R-jtxr-f38QfS</td>\n",
       "      <td>Lundberg Organic Cinnamon Toast Rice Cakes</td>\n",
       "      <td>good flavor this review be collect as part of ...</td>\n",
       "      <td>Positive</td>\n",
       "    </tr>\n",
       "  </tbody>\n",
       "</table>\n",
       "</div>"
      ],
      "text/plain": [
       "                     id                                        name  \\\n",
       "0  AV13O1A8GV-KLJ3akUyj   Pink Friday: Roman Reloaded Re-Up (w/dvd)   \n",
       "1  AV14LG0R-jtxr-f38QfS  Lundberg Organic Cinnamon Toast Rice Cakes   \n",
       "\n",
       "                                  reviews_lemmatized user_sentiment  \n",
       "0  I love this album its very good more to the hi...       Positive  \n",
       "1  good flavor this review be collect as part of ...       Positive  "
      ]
     },
     "execution_count": 81,
     "metadata": {},
     "output_type": "execute_result"
    }
   ],
   "source": [
    "df_sent.head(2)"
   ]
  },
  {
   "cell_type": "markdown",
   "metadata": {
    "id": "t5d8UDRe411g"
   },
   "source": [
    "From the results above, we can concluded that there is a heavy class imbalance prevalent in the data.\n",
    "> Positive sentiments make up *89%* of the data and Negative sentiments make up only *11%*\n",
    "\n",
    "* We are going to handle the imbalance using a technique called SMOTE (Synthetic Minority Oversampling Technique)\n",
    "* This is an oversampling method that generates synthetic samples for the minority class"
   ]
  },
  {
   "cell_type": "code",
   "execution_count": 82,
   "metadata": {
    "ExecuteTime": {
     "end_time": "2022-04-06T05:49:48.982106Z",
     "start_time": "2022-04-06T05:49:47.781221Z"
    },
    "colab": {
     "base_uri": "https://localhost:8080/"
    },
    "executionInfo": {
     "elapsed": 591,
     "status": "ok",
     "timestamp": 1649225151964,
     "user": {
      "displayName": "Venkatasubramanian S",
      "userId": "06029493893713790610"
     },
     "user_tz": 420
    },
    "id": "xm_gEMbX5lC4",
    "outputId": "175a119e-be42-4892-c3b5-c121a46ba72e"
   },
   "outputs": [
    {
     "name": "stdout",
     "output_type": "stream",
     "text": [
      "Before handling imbalance Counter({'Positive': 19786, 'Negative': 2525})\n",
      "After handling imbalance Counter({'Positive': 19786, 'Negative': 19786})\n"
     ]
    }
   ],
   "source": [
    "counter = Counter(y_train)\n",
    "print(\"Before handling imbalance\", counter)\n",
    "\n",
    "#oversampling using SMOTE\n",
    "smote = SMOTE(random_state=42)\n",
    "X_train_sm, y_train_sm = smote.fit_resample(X_train,y_train)\n",
    "\n",
    "counter = Counter(y_train_sm)\n",
    "print(\"After handling imbalance\", counter)"
   ]
  },
  {
   "cell_type": "markdown",
   "metadata": {
    "id": "jM-G-mQa7qME"
   },
   "source": [
    "Looking at the record count we can see that both Positive and Negative sentiments now have equal number of rows."
   ]
  },
  {
   "cell_type": "markdown",
   "metadata": {
    "id": "bVJzQVJ58QJP"
   },
   "source": [
    "# Model Building"
   ]
  },
  {
   "cell_type": "markdown",
   "metadata": {
    "id": "0SwZ6umZFMyh"
   },
   "source": [
    "We will be creating the following three ML models based on performance for predicting the sentiments based on the text and title of the reviews:\n",
    "1. Logistic Regression\n",
    "2. Random Forest\n",
    "3. XGBoost\n",
    "4. KNN\n",
    "5. SVM not added yet\n",
    "\n"
   ]
  },
  {
   "cell_type": "code",
   "execution_count": 83,
   "metadata": {
    "ExecuteTime": {
     "end_time": "2022-04-06T05:49:48.985056Z",
     "start_time": "2022-04-06T05:46:27.117Z"
    },
    "executionInfo": {
     "elapsed": 6,
     "status": "ok",
     "timestamp": 1649225151965,
     "user": {
      "displayName": "Venkatasubramanian S",
      "userId": "06029493893713790610"
     },
     "user_tz": 420
    },
    "id": "wSiyk89p8RaD"
   },
   "outputs": [],
   "source": [
    "import matplotlib.pyplot as plt\n",
    "import seaborn as sns\n",
    "from sklearn.metrics import confusion_matrix, accuracy_score\n",
    "from matplotlib.colors import ListedColormap\n",
    "\n",
    "def evaluation_scores(classifier, X_test, y_test):\n",
    "    \"\"\"\n",
    "    Evaluate the classifier model and display evaluation metrics.\n",
    "    \n",
    "    Parameters:\n",
    "        classifier: trained classifier model\n",
    "        X_test: test features\n",
    "        y_test: true labels for the test set\n",
    "    \n",
    "    Returns:\n",
    "        evaluation_metrics: a dictionary containing evaluation metrics\n",
    "    \"\"\"\n",
    "    \n",
    "    # Predictions\n",
    "    y_pred = classifier.predict(X_test)\n",
    "\n",
    "    # Confusion matrix\n",
    "    conf_matrix = confusion_matrix(y_test, y_pred)\n",
    "\n",
    "    # Define custom colormap\n",
    "    colors = ['#ff9999', '#66b3ff', '#99ff99', '#ffcc99']  # Custom colors\n",
    "    cmap_custom = ListedColormap(colors)\n",
    "\n",
    "    # Visualize confusion matrix with heatmap using custom colormap\n",
    "    plt.figure(figsize=(8, 6))\n",
    "    sns.heatmap(conf_matrix, annot=True, fmt=\"d\", cmap=cmap_custom, cbar=False)\n",
    "    plt.xlabel('Predicted labels')\n",
    "    plt.ylabel('True labels')\n",
    "    plt.title('Confusion Matrix')\n",
    "    plt.show()\n",
    "\n",
    "    # Evaluation metrics\n",
    "    accuracy = accuracy_score(y_test, y_pred)\n",
    "    sensitivity = conf_matrix[1, 1] / (conf_matrix[1, 1] + conf_matrix[1, 0])\n",
    "    specificity = conf_matrix[0, 0] / (conf_matrix[0, 0] + conf_matrix[0, 1])\n",
    "    precision = conf_matrix[1, 1] / (conf_matrix[1, 1] + conf_matrix[0, 1])\n",
    "    f1_score = 2 * (precision * sensitivity) / (precision + sensitivity)\n",
    "\n",
    "    # Display evaluation metrics\n",
    "    print(\"Evaluation Metrics:\")\n",
    "    print(\"-\" * 20)\n",
    "    print(f\"Accuracy: {accuracy:.2f}\")\n",
    "    print(f\"Sensitivity/Recall: {sensitivity:.2f}\")\n",
    "    print(f\"Specificity: {specificity:.2f}\")\n",
    "    print(f\"Precision: {precision:.2f}\")\n",
    "    print(f\"F1 Score: {f1_score:.2f}\")\n",
    "\n",
    "    # Return evaluation metrics\n",
    "    evaluation_metrics = {\n",
    "        'Accuracy': accuracy,\n",
    "        'Sensitivity/Recall': sensitivity,\n",
    "        'Specificity': specificity,\n",
    "        'Precision': precision,\n",
    "        'F1 Score': f1_score\n",
    "    }\n",
    "    \n",
    "    return evaluation_scores\n",
    "\n",
    "\n"
   ]
  },
  {
   "cell_type": "markdown",
   "metadata": {
    "id": "Cc8g7X-5Ft5n"
   },
   "source": [
    "## Logistic Regression"
   ]
  },
  {
   "cell_type": "markdown",
   "metadata": {
    "id": "dQkPETj9PHCF"
   },
   "source": [
    "### Base Model"
   ]
  },
  {
   "cell_type": "code",
   "execution_count": 84,
   "metadata": {
    "ExecuteTime": {
     "end_time": "2022-04-06T05:49:48.985835Z",
     "start_time": "2022-04-06T05:46:27.126Z"
    },
    "executionInfo": {
     "elapsed": 692,
     "status": "ok",
     "timestamp": 1649225152653,
     "user": {
      "displayName": "Venkatasubramanian S",
      "userId": "06029493893713790610"
     },
     "user_tz": 420
    },
    "id": "e5ipGWBVFv4v"
   },
   "outputs": [],
   "source": [
    "logreg = LogisticRegression(random_state=42, solver='liblinear').fit(X_train_sm, y_train_sm)"
   ]
  },
  {
   "cell_type": "code",
   "execution_count": 85,
   "metadata": {
    "ExecuteTime": {
     "end_time": "2022-04-06T05:49:48.986836Z",
     "start_time": "2022-04-06T05:46:27.132Z"
    },
    "colab": {
     "base_uri": "https://localhost:8080/",
     "height": 805
    },
    "executionInfo": {
     "elapsed": 339,
     "status": "ok",
     "timestamp": 1649225152988,
     "user": {
      "displayName": "Venkatasubramanian S",
      "userId": "06029493893713790610"
     },
     "user_tz": 420
    },
    "id": "ZPKOknlzHKvs",
    "outputId": "cae3c789-3f73-4ee1-8723-bd2b30b6f6bc"
   },
   "outputs": [
    {
     "data": {
      "image/png": "[encoded data removed]",
      "text/plain": [
       "<Figure size 800x600 with 1 Axes>"
      ]
     },
     "metadata": {},
     "output_type": "display_data"
    },
    {
     "name": "stdout",
     "output_type": "stream",
     "text": [
      "Evaluation Metrics:\n",
      "--------------------\n",
      "Accuracy: 0.87\n",
      "Sensitivity/Recall: 0.89\n",
      "Specificity: 0.73\n",
      "Precision: 0.96\n",
      "F1 Score: 0.93\n"
     ]
    }
   ],
   "source": [
    "# Getting the score of the base model\n",
    "lr_metrics = evaluation_scores(logreg, X_test, y_test)"
   ]
  },
  {
   "cell_type": "code",
   "execution_count": 86,
   "metadata": {
    "ExecuteTime": {
     "end_time": "2022-04-06T05:49:48.986836Z",
     "start_time": "2022-04-06T05:46:27.139Z"
    },
    "colab": {
     "base_uri": "https://localhost:8080/",
     "height": 206
    },
    "executionInfo": {
     "elapsed": 15,
     "status": "ok",
     "timestamp": 1649225152989,
     "user": {
      "displayName": "Venkatasubramanian S",
      "userId": "06029493893713790610"
     },
     "user_tz": 420
    },
    "id": "WbLv2wsfFH0g",
    "outputId": "33fb0c03-79fc-44ee-ef38-2f9318a7a9b9"
   },
   "outputs": [
    {
     "name": "stdout",
     "output_type": "stream",
     "text": [
      "              Metrics                     Logistic Regression Base Model\n",
      "0            Accuracy  <function evaluation_scores at 0x000002825D446...\n",
      "1  Sensitivity/Recall  <function evaluation_scores at 0x000002825D446...\n",
      "2         Specificity  <function evaluation_scores at 0x000002825D446...\n",
      "3           Precision  <function evaluation_scores at 0x000002825D446...\n",
      "4            F1 Score  <function evaluation_scores at 0x000002825D446...\n"
     ]
    }
   ],
   "source": [
    "import pandas as pd\n",
    "\n",
    "# Printing the scores of the base model as reference\n",
    "df_lrb_metrics = pd.DataFrame({\n",
    "    'Metrics': ['Accuracy', 'Sensitivity/Recall', 'Specificity', 'Precision', 'F1 Score'],\n",
    "    'Logistic Regression Base Model': lr_metrics\n",
    "})\n",
    "\n",
    "print(df_lrb_metrics)"
   ]
  },
  {
   "cell_type": "code",
   "execution_count": null,
   "metadata": {},
   "outputs": [],
   "source": []
  },
  {
   "cell_type": "markdown",
   "metadata": {
    "id": "n2wS6th5Oo_w"
   },
   "source": [
    "### HyperParameter Tuning"
   ]
  },
  {
   "cell_type": "code",
   "execution_count": 87,
   "metadata": {
    "ExecuteTime": {
     "end_time": "2022-04-06T05:49:48.988841Z",
     "start_time": "2022-04-06T05:46:27.146Z"
    },
    "executionInfo": {
     "elapsed": 11,
     "status": "ok",
     "timestamp": 1649225152989,
     "user": {
      "displayName": "Venkatasubramanian S",
      "userId": "06029493893713790610"
     },
     "user_tz": 420
    },
    "id": "1DgG_23OOqz7"
   },
   "outputs": [],
   "source": [
    "logreg_grid = {\"C\": [100, 10, 5, 4, 3, 2, 1, 1.0, 0.1, 0.01],\n",
    "                \"solver\": [\"liblinear\"]}"
   ]
  },
  {
   "cell_type": "code",
   "execution_count": 88,
   "metadata": {
    "ExecuteTime": {
     "end_time": "2022-04-06T05:49:48.989838Z",
     "start_time": "2022-04-06T05:46:27.153Z"
    },
    "colab": {
     "base_uri": "https://localhost:8080/"
    },
    "executionInfo": {
     "elapsed": 42621,
     "status": "ok",
     "timestamp": 1649225195600,
     "user": {
      "displayName": "Venkatasubramanian S",
      "userId": "06029493893713790610"
     },
     "user_tz": 420
    },
    "id": "qQuNrpxYO1QE",
    "outputId": "6b65bc2e-4afd-42b2-d67b-0568e6c1bbaa"
   },
   "outputs": [
    {
     "name": "stdout",
     "output_type": "stream",
     "text": [
      "Fitting 5 folds for each of 10 candidates, totalling 50 fits\n"
     ]
    }
   ],
   "source": [
    "# Setup grid hyperparameter search for LogisticRegression\n",
    "logreg_hpt = GridSearchCV(LogisticRegression(random_state=42),\n",
    "                                param_grid=logreg_grid,\n",
    "                                cv=5,\n",
    "                                verbose=True,\n",
    "                                n_jobs=-1,\n",
    "                                scoring='f1')\n",
    "\n",
    "# Fit random hyperparameter search model\n",
    "logreg_hpt.fit(X_train_sm, y_train_sm);"
   ]
  },
  {
   "cell_type": "code",
   "execution_count": 89,
   "metadata": {
    "ExecuteTime": {
     "end_time": "2022-04-06T05:49:48.990835Z",
     "start_time": "2022-04-06T05:46:27.159Z"
    },
    "colab": {
     "base_uri": "https://localhost:8080/"
    },
    "executionInfo": {
     "elapsed": 21,
     "status": "ok",
     "timestamp": 1649225195601,
     "user": {
      "displayName": "Venkatasubramanian S",
      "userId": "06029493893713790610"
     },
     "user_tz": 420
    },
    "id": "UhXEo0JxO4o3",
    "outputId": "107acfea-ab23-44ec-eadc-64db0c54e08a"
   },
   "outputs": [
    {
     "data": {
      "text/plain": [
       "{'C': 100, 'solver': 'liblinear'}"
      ]
     },
     "execution_count": 89,
     "metadata": {},
     "output_type": "execute_result"
    }
   ],
   "source": [
    "# Checking the best parameters\n",
    "logreg_hpt.best_params_"
   ]
  },
  {
   "cell_type": "markdown",
   "metadata": {
    "id": "5GPWSGrnPMhp"
   },
   "source": [
    "### HyperParameter Tuned Model"
   ]
  },
  {
   "cell_type": "code",
   "execution_count": 90,
   "metadata": {
    "ExecuteTime": {
     "end_time": "2022-04-06T05:49:48.991837Z",
     "start_time": "2022-04-06T05:46:27.168Z"
    },
    "colab": {
     "base_uri": "https://localhost:8080/",
     "height": 805
    },
    "executionInfo": {
     "elapsed": 17,
     "status": "ok",
     "timestamp": 1649225195602,
     "user": {
      "displayName": "Venkatasubramanian S",
      "userId": "06029493893713790610"
     },
     "user_tz": 420
    },
    "id": "4wNek8yjPQKu",
    "outputId": "33114337-4f98-4d2d-d978-09992dd29172"
   },
   "outputs": [
    {
     "data": {
      "image/png": "[encoded data removed]",
      "text/plain": [
       "<Figure size 800x600 with 1 Axes>"
      ]
     },
     "metadata": {},
     "output_type": "display_data"
    },
    {
     "name": "stdout",
     "output_type": "stream",
     "text": [
      "Evaluation Metrics:\n",
      "--------------------\n",
      "Accuracy: 0.89\n",
      "Sensitivity/Recall: 0.92\n",
      "Specificity: 0.57\n",
      "Precision: 0.95\n",
      "F1 Score: 0.93\n"
     ]
    }
   ],
   "source": [
    "# Getting the scores of the tuned model\n",
    "lr_tuned_metrics = evaluation_scores(logreg_hpt, X_test, y_test)"
   ]
  },
  {
   "cell_type": "code",
   "execution_count": null,
   "metadata": {
    "ExecuteTime": {
     "end_time": "2022-04-06T05:49:48.992837Z",
     "start_time": "2022-04-06T05:46:27.175Z"
    },
    "colab": {
     "base_uri": "https://localhost:8080/",
     "height": 206
    },
    "executionInfo": {
     "elapsed": 10,
     "status": "ok",
     "timestamp": 1649225195602,
     "user": {
      "displayName": "Venkatasubramanian S",
      "userId": "06029493893713790610"
     },
     "user_tz": 420
    },
    "id": "xenL6Cs2PdI4",
    "outputId": "3d2479d6-1fd9-4152-d827-f15443546709"
   },
   "outputs": [],
   "source": []
  },
  {
   "cell_type": "markdown",
   "metadata": {
    "id": "pwrBcfTLl34_"
   },
   "source": [
    "### Saving the base and tuned models"
   ]
  },
  {
   "cell_type": "code",
   "execution_count": 91,
   "metadata": {
    "ExecuteTime": {
     "end_time": "2022-04-06T05:49:48.993839Z",
     "start_time": "2022-04-06T05:46:27.184Z"
    },
    "executionInfo": {
     "elapsed": 10,
     "status": "ok",
     "timestamp": 1649225195603,
     "user": {
      "displayName": "Venkatasubramanian S",
      "userId": "06029493893713790610"
     },
     "user_tz": 420
    },
    "id": "0putV75ylvgA"
   },
   "outputs": [],
   "source": [
    "lr_base_model = pickle.dump(logreg, open('./pickle/lr_base_model.pkl', 'wb'))"
   ]
  },
  {
   "cell_type": "code",
   "execution_count": 92,
   "metadata": {
    "ExecuteTime": {
     "end_time": "2022-04-06T05:49:48.994838Z",
     "start_time": "2022-04-06T05:46:27.192Z"
    },
    "executionInfo": {
     "elapsed": 11,
     "status": "ok",
     "timestamp": 1649225195604,
     "user": {
      "displayName": "Venkatasubramanian S",
      "userId": "06029493893713790610"
     },
     "user_tz": 420
    },
    "id": "pDZNGwDpluth"
   },
   "outputs": [],
   "source": [
    "lr_tuned_model = pickle.dump(logreg_hpt, open('./pickle/lr_tuned_model.pkl', 'wb'))"
   ]
  },
  {
   "cell_type": "code",
   "execution_count": null,
   "metadata": {},
   "outputs": [],
   "source": []
  },
  {
   "cell_type": "markdown",
   "metadata": {
    "id": "pdxaRx_GS2qD"
   },
   "source": [
    "***Conclusion:***\n",
    "* For Logistic Regression, Base Model is performing better than the tuned model.\n",
    "* We will consider the Base Model for evaluation purpose when we are doing model comparison."
   ]
  },
  {
   "cell_type": "code",
   "execution_count": null,
   "metadata": {
    "scrolled": true
   },
   "outputs": [],
   "source": []
  },
  {
   "cell_type": "code",
   "execution_count": null,
   "metadata": {},
   "outputs": [],
   "source": []
  },
  {
   "cell_type": "code",
   "execution_count": null,
   "metadata": {},
   "outputs": [],
   "source": []
  },
  {
   "cell_type": "code",
   "execution_count": null,
   "metadata": {},
   "outputs": [],
   "source": []
  },
  {
   "cell_type": "markdown",
   "metadata": {
    "id": "8hQNXRZGTfYg"
   },
   "source": [
    "## Random Forest Classifier"
   ]
  },
  {
   "cell_type": "code",
   "execution_count": 93,
   "metadata": {
    "ExecuteTime": {
     "end_time": "2022-04-06T05:49:48.995836Z",
     "start_time": "2022-04-06T05:46:27.204Z"
    },
    "executionInfo": {
     "elapsed": 39450,
     "status": "ok",
     "timestamp": 1649225235043,
     "user": {
      "displayName": "Venkatasubramanian S",
      "userId": "06029493893713790610"
     },
     "user_tz": 420
    },
    "id": "c8-CGg_ETiYM"
   },
   "outputs": [],
   "source": [
    "from sklearn.ensemble import RandomForestClassifier\n",
    "rf = RandomForestClassifier(random_state=42).fit(X_train_sm, y_train_sm)"
   ]
  },
  {
   "cell_type": "markdown",
   "metadata": {
    "id": "tpbWakz5lGWP"
   },
   "source": [
    "### Base Model"
   ]
  },
  {
   "cell_type": "code",
   "execution_count": 94,
   "metadata": {
    "ExecuteTime": {
     "end_time": "2022-04-06T05:49:48.996837Z",
     "start_time": "2022-04-06T05:46:27.214Z"
    },
    "colab": {
     "base_uri": "https://localhost:8080/",
     "height": 805
    },
    "executionInfo": {
     "elapsed": 648,
     "status": "ok",
     "timestamp": 1649225235663,
     "user": {
      "displayName": "Venkatasubramanian S",
      "userId": "06029493893713790610"
     },
     "user_tz": 420
    },
    "id": "RBA5mzsYlHko",
    "outputId": "383e6030-d901-4eaa-af72-3c6d51493b4f"
   },
   "outputs": [
    {
     "data": {
      "image/png": "[encoded data removed]",
      "text/plain": [
       "<Figure size 800x600 with 1 Axes>"
      ]
     },
     "metadata": {},
     "output_type": "display_data"
    },
    {
     "name": "stdout",
     "output_type": "stream",
     "text": [
      "Evaluation Metrics:\n",
      "--------------------\n",
      "Accuracy: 0.91\n",
      "Sensitivity/Recall: 0.97\n",
      "Specificity: 0.43\n",
      "Precision: 0.93\n",
      "F1 Score: 0.95\n"
     ]
    }
   ],
   "source": [
    "# Getting the score of the base model\n",
    "rf_metrics = evaluation_scores(rf, X_test, y_test)"
   ]
  },
  {
   "cell_type": "code",
   "execution_count": 95,
   "metadata": {
    "ExecuteTime": {
     "end_time": "2022-04-06T05:49:48.997840Z",
     "start_time": "2022-04-06T05:46:27.222Z"
    },
    "colab": {
     "base_uri": "https://localhost:8080/",
     "height": 206
    },
    "executionInfo": {
     "elapsed": 14,
     "status": "ok",
     "timestamp": 1649225235664,
     "user": {
      "displayName": "Venkatasubramanian S",
      "userId": "06029493893713790610"
     },
     "user_tz": 420
    },
    "id": "G-5_-lI8lNCP",
    "outputId": "04157439-84fa-41dd-ab9f-cc97b21664fc"
   },
   "outputs": [
    {
     "data": {
      "text/html": [
       "<div>\n",
       "<style scoped>\n",
       "    .dataframe tbody tr th:only-of-type {\n",
       "        vertical-align: middle;\n",
       "    }\n",
       "\n",
       "    .dataframe tbody tr th {\n",
       "        vertical-align: top;\n",
       "    }\n",
       "\n",
       "    .dataframe thead th {\n",
       "        text-align: right;\n",
       "    }\n",
       "</style>\n",
       "<table border=\"1\" class=\"dataframe\">\n",
       "  <thead>\n",
       "    <tr style=\"text-align: right;\">\n",
       "      <th></th>\n",
       "      <th>Metrics</th>\n",
       "      <th>RF Base Model</th>\n",
       "    </tr>\n",
       "  </thead>\n",
       "  <tbody>\n",
       "    <tr>\n",
       "      <th>0</th>\n",
       "      <td>Accuracy</td>\n",
       "      <td>&lt;function evaluation_scores at 0x000002825D446...</td>\n",
       "    </tr>\n",
       "    <tr>\n",
       "      <th>1</th>\n",
       "      <td>Sensitivity/Recall</td>\n",
       "      <td>&lt;function evaluation_scores at 0x000002825D446...</td>\n",
       "    </tr>\n",
       "    <tr>\n",
       "      <th>2</th>\n",
       "      <td>Specificity</td>\n",
       "      <td>&lt;function evaluation_scores at 0x000002825D446...</td>\n",
       "    </tr>\n",
       "    <tr>\n",
       "      <th>3</th>\n",
       "      <td>Precision</td>\n",
       "      <td>&lt;function evaluation_scores at 0x000002825D446...</td>\n",
       "    </tr>\n",
       "    <tr>\n",
       "      <th>4</th>\n",
       "      <td>F1 Score</td>\n",
       "      <td>&lt;function evaluation_scores at 0x000002825D446...</td>\n",
       "    </tr>\n",
       "  </tbody>\n",
       "</table>\n",
       "</div>"
      ],
      "text/plain": [
       "              Metrics                                      RF Base Model\n",
       "0            Accuracy  <function evaluation_scores at 0x000002825D446...\n",
       "1  Sensitivity/Recall  <function evaluation_scores at 0x000002825D446...\n",
       "2         Specificity  <function evaluation_scores at 0x000002825D446...\n",
       "3           Precision  <function evaluation_scores at 0x000002825D446...\n",
       "4            F1 Score  <function evaluation_scores at 0x000002825D446..."
      ]
     },
     "execution_count": 95,
     "metadata": {},
     "output_type": "execute_result"
    }
   ],
   "source": [
    "# Printing the scores of the base model as reference\n",
    "df_rfb_metrics = pd.DataFrame({'Metrics': ['Accuracy','Sensitivity/Recall','Specificity','Precision','F1 Score'], 'RF Base Model': rf_metrics},\n",
    "                             columns = ['Metrics', 'RF Base Model']\n",
    "                             )\n",
    "df_rfb_metrics"
   ]
  },
  {
   "cell_type": "markdown",
   "metadata": {
    "id": "Vox_DzHelnLx"
   },
   "source": [
    "Sensitivity and Accuracy are high but Specificity and Precision are low. Let's perform hyperparameter tuning and see if we can improve the scores."
   ]
  },
  {
   "cell_type": "markdown",
   "metadata": {
    "id": "AfJksQ7smLMM"
   },
   "source": [
    "### HyperParameter Tuning"
   ]
  },
  {
   "cell_type": "code",
   "execution_count": 96,
   "metadata": {
    "ExecuteTime": {
     "end_time": "2022-04-06T05:49:48.999839Z",
     "start_time": "2022-04-06T05:46:27.233Z"
    },
    "executionInfo": {
     "elapsed": 12,
     "status": "ok",
     "timestamp": 1649225235665,
     "user": {
      "displayName": "Venkatasubramanian S",
      "userId": "06029493893713790610"
     },
     "user_tz": 420
    },
    "id": "tPOlanthmCaI"
   },
   "outputs": [],
   "source": [
    "rf_grid = {\"n_estimators\": np.arange(10, 100, 2),#25\n",
    "           \"max_depth\": np.arange(10, 50, 5),\n",
    "           \"min_samples_split\": np.arange(15, 500, 15),\n",
    "           \"min_samples_leaf\": np.arange(5, 50, 5)}"
   ]
  },
  {
   "cell_type": "code",
   "execution_count": 97,
   "metadata": {
    "ExecuteTime": {
     "end_time": "2022-04-06T05:49:49.000840Z",
     "start_time": "2022-04-06T05:46:27.242Z"
    },
    "colab": {
     "base_uri": "https://localhost:8080/"
    },
    "executionInfo": {
     "elapsed": 576863,
     "status": "ok",
     "timestamp": 1649225812518,
     "user": {
      "displayName": "Venkatasubramanian S",
      "userId": "06029493893713790610"
     },
     "user_tz": 420
    },
    "id": "QHvlDa3-mPe_",
    "outputId": "fefe58d5-6510-4f6d-e973-204022cdabfa"
   },
   "outputs": [
    {
     "name": "stdout",
     "output_type": "stream",
     "text": [
      "Fitting 5 folds for each of 10 candidates, totalling 50 fits\n"
     ]
    }
   ],
   "source": [
    "# Setup random hyperparameter search for Random Forest Classifier\n",
    "rf_hpt = RandomizedSearchCV(RandomForestClassifier(random_state=42),\n",
    "                                param_distributions=rf_grid,\n",
    "                                cv=5,\n",
    "                                verbose=True,\n",
    "                                n_jobs=-1,\n",
    "                                scoring='f1')\n",
    "\n",
    "# Fit random hyperparameter search model\n",
    "rf_hpt.fit(X_train_sm, y_train_sm);"
   ]
  },
  {
   "cell_type": "code",
   "execution_count": 98,
   "metadata": {
    "ExecuteTime": {
     "end_time": "2022-04-06T05:49:49.001834Z",
     "start_time": "2022-04-06T05:46:27.249Z"
    },
    "colab": {
     "base_uri": "https://localhost:8080/"
    },
    "executionInfo": {
     "elapsed": 41,
     "status": "ok",
     "timestamp": 1649225812519,
     "user": {
      "displayName": "Venkatasubramanian S",
      "userId": "06029493893713790610"
     },
     "user_tz": 420
    },
    "id": "RBLxu5H_mbWU",
    "outputId": "adc615ac-8dd5-4d94-9389-94f09cb268d4"
   },
   "outputs": [
    {
     "data": {
      "text/plain": [
       "{'n_estimators': 38,\n",
       " 'min_samples_split': 180,\n",
       " 'min_samples_leaf': 5,\n",
       " 'max_depth': 30}"
      ]
     },
     "execution_count": 98,
     "metadata": {},
     "output_type": "execute_result"
    }
   ],
   "source": [
    "# Check best parameters\n",
    "rf_hpt.best_params_"
   ]
  },
  {
   "cell_type": "code",
   "execution_count": 99,
   "metadata": {
    "ExecuteTime": {
     "end_time": "2022-04-06T05:49:49.003007Z",
     "start_time": "2022-04-06T05:46:27.255Z"
    },
    "colab": {
     "base_uri": "https://localhost:8080/",
     "height": 822
    },
    "executionInfo": {
     "elapsed": 570,
     "status": "ok",
     "timestamp": 1649225813059,
     "user": {
      "displayName": "Venkatasubramanian S",
      "userId": "06029493893713790610"
     },
     "user_tz": 420
    },
    "id": "Pas0aLAcn06R",
    "outputId": "177d738b-e13e-4d82-e914-1a94226511e3"
   },
   "outputs": [
    {
     "data": {
      "image/png": "[encoded data removed]",
      "text/plain": [
       "<Figure size 800x600 with 1 Axes>"
      ]
     },
     "metadata": {},
     "output_type": "display_data"
    },
    {
     "name": "stdout",
     "output_type": "stream",
     "text": [
      "Evaluation Metrics:\n",
      "--------------------\n",
      "Accuracy: 0.85\n",
      "Sensitivity/Recall: 0.88\n",
      "Specificity: 0.58\n",
      "Precision: 0.94\n",
      "F1 Score: 0.91\n"
     ]
    },
    {
     "data": {
      "text/plain": [
       "<function __main__.evaluation_scores(classifier, X_test, y_test)>"
      ]
     },
     "execution_count": 99,
     "metadata": {},
     "output_type": "execute_result"
    }
   ],
   "source": [
    "evaluation_scores(rf_hpt, X_test, y_test)"
   ]
  },
  {
   "cell_type": "markdown",
   "metadata": {
    "id": "8cvnaldQowCj"
   },
   "source": [
    "Sensitivity, Precision and F1 Score have improved a little bit with Random Search CV. We will strive to improve this further by doing fine hyperparameter tuning using Grid Search CV."
   ]
  },
  {
   "cell_type": "code",
   "execution_count": 100,
   "metadata": {
    "ExecuteTime": {
     "end_time": "2022-04-06T05:49:49.003839Z",
     "start_time": "2022-04-06T05:46:27.264Z"
    },
    "executionInfo": {
     "elapsed": 11,
     "status": "ok",
     "timestamp": 1649225813061,
     "user": {
      "displayName": "Venkatasubramanian S",
      "userId": "06029493893713790610"
     },
     "user_tz": 420
    },
    "id": "wcYT6lXbo_Y9"
   },
   "outputs": [],
   "source": [
    "# Fine tuning using Grid Search CV\n",
    "rf_grid = {\"n_estimators\": [510],\n",
    "           \"max_depth\": [20],\n",
    "           \"min_samples_split\": [350, 400],\n",
    "           \"min_samples_leaf\": [45, 50]}"
   ]
  },
  {
   "cell_type": "code",
   "execution_count": 101,
   "metadata": {
    "ExecuteTime": {
     "end_time": "2022-04-06T05:49:49.005839Z",
     "start_time": "2022-04-06T05:46:27.271Z"
    },
    "colab": {
     "base_uri": "https://localhost:8080/"
    },
    "executionInfo": {
     "elapsed": 189301,
     "status": "ok",
     "timestamp": 1649226002353,
     "user": {
      "displayName": "Venkatasubramanian S",
      "userId": "06029493893713790610"
     },
     "user_tz": 420
    },
    "id": "8QTX01HsoNwX",
    "outputId": "b29b2285-5ff8-44fb-ba92-84169ea6a692"
   },
   "outputs": [
    {
     "name": "stdout",
     "output_type": "stream",
     "text": [
      "Fitting 5 folds for each of 4 candidates, totalling 20 fits\n"
     ]
    }
   ],
   "source": [
    "# Setup random hyperparameter search for Random Forest Classifier\n",
    "rf_hpt = GridSearchCV(RandomForestClassifier(random_state=42),\n",
    "                                param_grid=rf_grid,\n",
    "                                cv=5,\n",
    "                                verbose=True,\n",
    "                                n_jobs=-1,\n",
    "                                scoring='f1')\n",
    "\n",
    "# Fit random hyperparameter search model\n",
    "rf_hpt.fit(X_train_sm, y_train_sm);"
   ]
  },
  {
   "cell_type": "markdown",
   "metadata": {
    "id": "YSWOoQdm8wN4"
   },
   "source": [
    "### HyperParameter tuned model"
   ]
  },
  {
   "cell_type": "code",
   "execution_count": 102,
   "metadata": {
    "ExecuteTime": {
     "end_time": "2022-04-06T05:49:49.006841Z",
     "start_time": "2022-04-06T05:46:27.279Z"
    },
    "colab": {
     "base_uri": "https://localhost:8080/",
     "height": 805
    },
    "executionInfo": {
     "elapsed": 1221,
     "status": "ok",
     "timestamp": 1649226003485,
     "user": {
      "displayName": "Venkatasubramanian S",
      "userId": "06029493893713790610"
     },
     "user_tz": 420
    },
    "id": "SGao-yVA8yev",
    "outputId": "fb7ad800-d6be-4b4c-ba9d-aed8b897271d"
   },
   "outputs": [
    {
     "data": {
      "image/png": "[encoded data removed]",
      "text/plain": [
       "<Figure size 800x600 with 1 Axes>"
      ]
     },
     "metadata": {},
     "output_type": "display_data"
    },
    {
     "name": "stdout",
     "output_type": "stream",
     "text": [
      "Evaluation Metrics:\n",
      "--------------------\n",
      "Accuracy: 0.83\n",
      "Sensitivity/Recall: 0.86\n",
      "Specificity: 0.60\n",
      "Precision: 0.95\n",
      "F1 Score: 0.90\n"
     ]
    }
   ],
   "source": [
    "# Getting the scores of the tuned model\n",
    "rf_tuned_metrics = evaluation_scores(rf_hpt, X_test, y_test)"
   ]
  },
  {
   "cell_type": "code",
   "execution_count": 103,
   "metadata": {
    "ExecuteTime": {
     "end_time": "2022-04-06T05:49:49.007892Z",
     "start_time": "2022-04-06T05:46:27.287Z"
    },
    "colab": {
     "base_uri": "https://localhost:8080/",
     "height": 206
    },
    "executionInfo": {
     "elapsed": 24,
     "status": "ok",
     "timestamp": 1649226003486,
     "user": {
      "displayName": "Venkatasubramanian S",
      "userId": "06029493893713790610"
     },
     "user_tz": 420
    },
    "id": "lpIbE-iG814Y",
    "outputId": "465d311d-0f9e-462d-ab52-0f0e3687f69d"
   },
   "outputs": [
    {
     "data": {
      "text/html": [
       "<div>\n",
       "<style scoped>\n",
       "    .dataframe tbody tr th:only-of-type {\n",
       "        vertical-align: middle;\n",
       "    }\n",
       "\n",
       "    .dataframe tbody tr th {\n",
       "        vertical-align: top;\n",
       "    }\n",
       "\n",
       "    .dataframe thead th {\n",
       "        text-align: right;\n",
       "    }\n",
       "</style>\n",
       "<table border=\"1\" class=\"dataframe\">\n",
       "  <thead>\n",
       "    <tr style=\"text-align: right;\">\n",
       "      <th></th>\n",
       "      <th>Metrics</th>\n",
       "      <th>RF Base Model</th>\n",
       "      <th>RF Tuned Model</th>\n",
       "    </tr>\n",
       "  </thead>\n",
       "  <tbody>\n",
       "    <tr>\n",
       "      <th>0</th>\n",
       "      <td>Accuracy</td>\n",
       "      <td>&lt;function evaluation_scores at 0x000002825D446...</td>\n",
       "      <td>&lt;function evaluation_scores at 0x000002825D446...</td>\n",
       "    </tr>\n",
       "    <tr>\n",
       "      <th>1</th>\n",
       "      <td>Sensitivity/Recall</td>\n",
       "      <td>&lt;function evaluation_scores at 0x000002825D446...</td>\n",
       "      <td>&lt;function evaluation_scores at 0x000002825D446...</td>\n",
       "    </tr>\n",
       "    <tr>\n",
       "      <th>2</th>\n",
       "      <td>Specificity</td>\n",
       "      <td>&lt;function evaluation_scores at 0x000002825D446...</td>\n",
       "      <td>&lt;function evaluation_scores at 0x000002825D446...</td>\n",
       "    </tr>\n",
       "    <tr>\n",
       "      <th>3</th>\n",
       "      <td>Precision</td>\n",
       "      <td>&lt;function evaluation_scores at 0x000002825D446...</td>\n",
       "      <td>&lt;function evaluation_scores at 0x000002825D446...</td>\n",
       "    </tr>\n",
       "    <tr>\n",
       "      <th>4</th>\n",
       "      <td>F1 Score</td>\n",
       "      <td>&lt;function evaluation_scores at 0x000002825D446...</td>\n",
       "      <td>&lt;function evaluation_scores at 0x000002825D446...</td>\n",
       "    </tr>\n",
       "  </tbody>\n",
       "</table>\n",
       "</div>"
      ],
      "text/plain": [
       "              Metrics                                      RF Base Model  \\\n",
       "0            Accuracy  <function evaluation_scores at 0x000002825D446...   \n",
       "1  Sensitivity/Recall  <function evaluation_scores at 0x000002825D446...   \n",
       "2         Specificity  <function evaluation_scores at 0x000002825D446...   \n",
       "3           Precision  <function evaluation_scores at 0x000002825D446...   \n",
       "4            F1 Score  <function evaluation_scores at 0x000002825D446...   \n",
       "\n",
       "                                      RF Tuned Model  \n",
       "0  <function evaluation_scores at 0x000002825D446...  \n",
       "1  <function evaluation_scores at 0x000002825D446...  \n",
       "2  <function evaluation_scores at 0x000002825D446...  \n",
       "3  <function evaluation_scores at 0x000002825D446...  \n",
       "4  <function evaluation_scores at 0x000002825D446...  "
      ]
     },
     "execution_count": 103,
     "metadata": {},
     "output_type": "execute_result"
    }
   ],
   "source": [
    "# Printing the scores of the base and tuned Random Forest model as reference\n",
    "dict_rf_bt_metrics = {'Metrics': ['Accuracy','Sensitivity/Recall','Specificity','Precision','F1 Score'], \n",
    "                               'RF Base Model': rf_metrics,\n",
    "                               'RF Tuned Model': rf_tuned_metrics}\n",
    "\n",
    "df_rf_bt_metrics = pd.DataFrame(dict_rf_bt_metrics, columns = ['Metrics', 'RF Base Model', 'RF Tuned Model'])\n",
    "df_rf_bt_metrics"
   ]
  },
  {
   "cell_type": "code",
   "execution_count": null,
   "metadata": {},
   "outputs": [],
   "source": []
  },
  {
   "cell_type": "markdown",
   "metadata": {
    "id": "iqcO8gBU1HFc"
   },
   "source": [
    "### Saving the base and tuned models"
   ]
  },
  {
   "cell_type": "code",
   "execution_count": 104,
   "metadata": {
    "ExecuteTime": {
     "end_time": "2022-04-06T05:49:49.008841Z",
     "start_time": "2022-04-06T05:46:27.295Z"
    },
    "executionInfo": {
     "elapsed": 21,
     "status": "ok",
     "timestamp": 1649226003487,
     "user": {
      "displayName": "Venkatasubramanian S",
      "userId": "06029493893713790610"
     },
     "user_tz": 420
    },
    "id": "HxnyVIMQ1C3c"
   },
   "outputs": [],
   "source": [
    "rf_base_model = pickle.dump(rf, open('./pickle/rf_base_model.pkl', 'wb'))"
   ]
  },
  {
   "cell_type": "code",
   "execution_count": 105,
   "metadata": {
    "ExecuteTime": {
     "end_time": "2022-04-06T05:49:49.010843Z",
     "start_time": "2022-04-06T05:46:27.302Z"
    },
    "executionInfo": {
     "elapsed": 21,
     "status": "ok",
     "timestamp": 1649226003488,
     "user": {
      "displayName": "Venkatasubramanian S",
      "userId": "06029493893713790610"
     },
     "user_tz": 420
    },
    "id": "2evB5mE51C3d"
   },
   "outputs": [],
   "source": [
    "rf_tuned_model = pickle.dump(rf_hpt, open('./pickle/rf_tuned_model.pkl', 'wb'))"
   ]
  },
  {
   "cell_type": "markdown",
   "metadata": {
    "id": "Cy7Bxiyl9Xfk"
   },
   "source": [
    "**Conclusion:**\n",
    "\n",
    "For Random Forest, Tuned Model is performing better than the base model as F1 Score is better.\n",
    "We will consider the Tuned Model for evaluation purpose when we are doing model comparison."
   ]
  },
  {
   "cell_type": "markdown",
   "metadata": {
    "id": "Puy38wDf9qKR"
   },
   "source": [
    "# XGBoost Classifier"
   ]
  },
  {
   "cell_type": "code",
   "execution_count": 106,
   "metadata": {},
   "outputs": [],
   "source": [
    "import xgboost as xgb\n",
    "from sklearn.preprocessing import LabelEncoder\n",
    "from sklearn.metrics import accuracy_score, recall_score, precision_score, f1_score\n",
    "import pandas as pd\n",
    "\n",
    "# Initialize LabelEncoder\n",
    "label_encoder = LabelEncoder()\n",
    "\n",
    "# Fit and transform the target variable to encode class labels as integers\n",
    "y_train_encoded = label_encoder.fit_transform(y_train_sm)\n",
    "\n",
    "# Initialize and fit the XGBoost classifier\n",
    "xg = xgb.XGBClassifier(random_state=42)\n",
    "xg.fit(X_train_sm, y_train_encoded)\n",
    "\n",
    "# Predict the labels for the test set\n",
    "y_pred_xg = xg.predict(X_test)\n",
    "\n",
    "# Inverse transform the predicted labels to get back the original class labels\n",
    "y_pred_original_xg = label_encoder.inverse_transform(y_pred_xg)\n",
    "\n",
    "\n",
    "\n"
   ]
  },
  {
   "cell_type": "markdown",
   "metadata": {
    "id": "w_JITa1o-otG"
   },
   "source": [
    "### Base Model"
   ]
  },
  {
   "cell_type": "code",
   "execution_count": 107,
   "metadata": {
    "ExecuteTime": {
     "end_time": "2022-04-06T05:49:49.012843Z",
     "start_time": "2022-04-06T05:46:27.320Z"
    },
    "colab": {
     "base_uri": "https://localhost:8080/",
     "height": 805
    },
    "executionInfo": {
     "elapsed": 257,
     "status": "ok",
     "timestamp": 1649226020402,
     "user": {
      "displayName": "Venkatasubramanian S",
      "userId": "06029493893713790610"
     },
     "user_tz": 420
    },
    "id": "e-BBg11l-pqi",
    "outputId": "638964a6-c04a-4de9-8748-455002916487"
   },
   "outputs": [],
   "source": [
    "# Getting the score of the base model\n",
    "#xg_metrics = evaluation_scores(xg, X_test, y_test)"
   ]
  },
  {
   "cell_type": "code",
   "execution_count": 108,
   "metadata": {},
   "outputs": [],
   "source": [
    "# Calculate evaluation metrics for the XGBoost model\n",
    "accuracy_xg = accuracy_score(y_test, y_pred_original_xg)\n",
    "recall_xg = recall_score(y_test, y_pred_original_xg, pos_label='Positive')\n",
    "precision_xg = precision_score(y_test, y_pred_original_xg, pos_label='Positive')\n",
    "f1_xg = f1_score(y_test, y_pred_original_xg, pos_label='Positive')"
   ]
  },
  {
   "cell_type": "code",
   "execution_count": 109,
   "metadata": {},
   "outputs": [
    {
     "name": "stdout",
     "output_type": "stream",
     "text": [
      "              Metrics  XGBoost Base Model\n",
      "0            Accuracy            0.884362\n",
      "1  Sensitivity/Recall            0.922137\n",
      "2           Precision            0.946708\n",
      "3            F1 Score            0.934261\n"
     ]
    }
   ],
   "source": [
    "# Create a DataFrame to store the evaluation metrics,\n",
    "# Printing the scores of the base model as reference\n",
    "df_xg_metrics = pd.DataFrame({\n",
    "    'Metrics': ['Accuracy', 'Sensitivity/Recall', 'Precision', 'F1 Score'],\n",
    "    'XGBoost Base Model': [accuracy_xg, recall_xg, precision_xg, f1_xg]\n",
    "})\n",
    "\n",
    "# Print the evaluation metrics\n",
    "print(df_xg_metrics)\n"
   ]
  },
  {
   "cell_type": "code",
   "execution_count": null,
   "metadata": {},
   "outputs": [],
   "source": []
  },
  {
   "cell_type": "code",
   "execution_count": null,
   "metadata": {},
   "outputs": [],
   "source": []
  },
  {
   "cell_type": "code",
   "execution_count": null,
   "metadata": {},
   "outputs": [],
   "source": []
  },
  {
   "cell_type": "code",
   "execution_count": null,
   "metadata": {
    "ExecuteTime": {
     "end_time": "2022-04-06T05:49:49.013844Z",
     "start_time": "2022-04-06T05:46:27.327Z"
    },
    "colab": {
     "base_uri": "https://localhost:8080/",
     "height": 206
    },
    "executionInfo": {
     "elapsed": 11,
     "status": "ok",
     "timestamp": 1649226020403,
     "user": {
      "displayName": "Venkatasubramanian S",
      "userId": "06029493893713790610"
     },
     "user_tz": 420
    },
    "id": "ddwC23RI-yLA",
    "outputId": "e2fc794d-5969-47a3-fce3-65c58006b0a5"
   },
   "outputs": [],
   "source": [
    "\n",
    "import numpy as np\n",
    "\n",
    "# Define hyperparameter grid for XGBoost\n",
    "xg_grid = {\n",
    "    \"learning_rate\": np.arange(0.05, 1, 0.1),\n",
    "    \"max_depth\": np.arange(5, 20, 5)\n",
    "}\n",
    "\n",
    "# Setup random hyperparameter search for XGBoost Classifier\n",
    "xg_hpt = RandomizedSearchCV(\n",
    "    XGBClassifier(random_state=42),\n",
    "    param_distributions=xg_grid,\n",
    "    cv=4,\n",
    "    verbose=True,\n",
    "    n_jobs=-1,\n",
    "    scoring='f1'\n",
    ")\n",
    "\n",
    "# Fit random hyperparameter search model\n",
    "xg_hpt.fit(X_train_sm, y_train_encoded)\n"
   ]
  },
  {
   "cell_type": "markdown",
   "metadata": {
    "id": "1lQsM88CDANY"
   },
   "source": [
    "### HyperParameter Tuning"
   ]
  },
  {
   "cell_type": "code",
   "execution_count": null,
   "metadata": {
    "ExecuteTime": {
     "end_time": "2022-04-06T05:49:49.014841Z",
     "start_time": "2022-04-06T05:46:27.336Z"
    },
    "executionInfo": {
     "elapsed": 9,
     "status": "ok",
     "timestamp": 1649226020404,
     "user": {
      "displayName": "Venkatasubramanian S",
      "userId": "06029493893713790610"
     },
     "user_tz": 420
    },
    "id": "SD0o9kZNDKZs"
   },
   "outputs": [],
   "source": [
    "from sklearn.model_selection import RandomizedSearchCV\n",
    "from xgboost import XGBClassifier\n",
    "xg_grid = {\"learning_rate\": np.arange(0.05, 1, 0.1),\n",
    "           \"max_depth\": np.arange(5, 20, 5)\n",
    "           }\n",
    "\n"
   ]
  },
  {
   "cell_type": "code",
   "execution_count": null,
   "metadata": {
    "ExecuteTime": {
     "end_time": "2022-04-06T05:49:49.015842Z",
     "start_time": "2022-04-06T05:46:27.343Z"
    },
    "colab": {
     "base_uri": "https://localhost:8080/"
    },
    "executionInfo": {
     "elapsed": 1369721,
     "status": "ok",
     "timestamp": 1649227390117,
     "user": {
      "displayName": "Venkatasubramanian S",
      "userId": "06029493893713790610"
     },
     "user_tz": 420
    },
    "id": "rmVaCW77DKZu",
    "outputId": "9277ec8d-3a40-44b0-ed44-e600f9de9a9c"
   },
   "outputs": [],
   "source": [
    "# Setup random hyperparameter search for Random Forest Classifier\n",
    "from sklearn.model_selection import RandomizedSearchCV\n",
    "xg_hpt = RandomizedSearchCV(XGBClassifier(random_state=42),\n",
    "                                param_distributions=xg_grid,\n",
    "                                cv=4,\n",
    "                                verbose=True,\n",
    "                                n_jobs=-1,\n",
    "                                scoring='f1')\n",
    "\n",
    "# Fit random hyperparameter search model\n",
    "#xg_hpt.fit(X_train_sm, y_train_sm);\n",
    "xg_hpt.fit(X_train_sm, y_train_encoded)"
   ]
  },
  {
   "cell_type": "code",
   "execution_count": null,
   "metadata": {
    "ExecuteTime": {
     "end_time": "2022-04-06T05:49:49.016841Z",
     "start_time": "2022-04-06T05:46:27.350Z"
    },
    "colab": {
     "base_uri": "https://localhost:8080/"
    },
    "executionInfo": {
     "elapsed": 48,
     "status": "ok",
     "timestamp": 1649227390118,
     "user": {
      "displayName": "Venkatasubramanian S",
      "userId": "06029493893713790610"
     },
     "user_tz": 420
    },
    "id": "ZGUljIIDDKZv",
    "outputId": "2d52d0e5-73b8-410b-d809-c9f82669fa0d"
   },
   "outputs": [],
   "source": [
    "# Check best parameters\n",
    "xg_hpt.best_params_"
   ]
  },
  {
   "cell_type": "code",
   "execution_count": null,
   "metadata": {
    "ExecuteTime": {
     "end_time": "2022-04-06T05:49:49.018840Z",
     "start_time": "2022-04-06T05:46:27.357Z"
    },
    "colab": {
     "base_uri": "https://localhost:8080/",
     "height": 822
    },
    "executionInfo": {
     "elapsed": 615,
     "status": "ok",
     "timestamp": 1649227390711,
     "user": {
      "displayName": "Venkatasubramanian S",
      "userId": "06029493893713790610"
     },
     "user_tz": 420
    },
    "id": "rUMnU4a99kZx",
    "outputId": "441da25e-ebce-42a4-f635-ceebb3e66cc0"
   },
   "outputs": [],
   "source": [
    "evaluation_scores(xg_hpt, X_test, y_test)"
   ]
  },
  {
   "cell_type": "markdown",
   "metadata": {
    "id": "GrwRxHu7MQ6I"
   },
   "source": [
    "We will perform further fine tuning with Grid Search CV"
   ]
  },
  {
   "cell_type": "code",
   "execution_count": null,
   "metadata": {
    "ExecuteTime": {
     "end_time": "2022-04-06T05:49:49.019841Z",
     "start_time": "2022-04-06T05:46:27.367Z"
    },
    "executionInfo": {
     "elapsed": 12,
     "status": "ok",
     "timestamp": 1649227390712,
     "user": {
      "displayName": "Venkatasubramanian S",
      "userId": "06029493893713790610"
     },
     "user_tz": 420
    },
    "id": "6uO1cmrQMUfB"
   },
   "outputs": [],
   "source": [
    "# Fine tuning with Grid Search CV\n",
    "xg_grid = {\"learning_rate\": [0.45, 0.15],\n",
    "           \"max_depth\": [5, 10]\n",
    "           }"
   ]
  },
  {
   "cell_type": "code",
   "execution_count": null,
   "metadata": {
    "ExecuteTime": {
     "end_time": "2022-04-06T05:49:49.020844Z",
     "start_time": "2022-04-06T05:46:27.374Z"
    },
    "colab": {
     "base_uri": "https://localhost:8080/"
    },
    "executionInfo": {
     "elapsed": 583973,
     "status": "ok",
     "timestamp": 1649227974676,
     "user": {
      "displayName": "Venkatasubramanian S",
      "userId": "06029493893713790610"
     },
     "user_tz": 420
    },
    "id": "Ia_CXF5J9gmR",
    "outputId": "0dd3d3fd-e679-4294-aecc-11d90525462a"
   },
   "outputs": [],
   "source": [
    "# Setup random hyperparameter search for Random Forest Classifier\n",
    "xg_hpt = GridSearchCV(XGBClassifier(random_state=42),\n",
    "                                param_grid=xg_grid,\n",
    "                                cv=5,\n",
    "                                verbose=True,\n",
    "                                n_jobs=-1,\n",
    "                                scoring='f1')\n",
    "\n",
    "# Fit random hyperparameter search model\n",
    "xg_hpt.fit(X_train_sm, y_train_sm);"
   ]
  },
  {
   "cell_type": "code",
   "execution_count": null,
   "metadata": {
    "ExecuteTime": {
     "end_time": "2022-04-06T05:49:49.021835Z",
     "start_time": "2022-04-06T05:46:27.381Z"
    },
    "colab": {
     "base_uri": "https://localhost:8080/"
    },
    "executionInfo": {
     "elapsed": 31,
     "status": "ok",
     "timestamp": 1649227974677,
     "user": {
      "displayName": "Venkatasubramanian S",
      "userId": "06029493893713790610"
     },
     "user_tz": 420
    },
    "id": "OAD0ZTDkRFmO",
    "outputId": "2f9f73bd-947e-4272-b3be-3eb247e4b19c"
   },
   "outputs": [],
   "source": [
    "# Check best parameters\n",
    "xg_hpt.best_params_"
   ]
  },
  {
   "cell_type": "markdown",
   "metadata": {
    "id": "Ev2RSW6YPLtt"
   },
   "source": [
    "### HyperParameter tuned model"
   ]
  },
  {
   "cell_type": "code",
   "execution_count": null,
   "metadata": {
    "ExecuteTime": {
     "end_time": "2022-04-06T05:49:49.022840Z",
     "start_time": "2022-04-06T05:46:27.391Z"
    },
    "colab": {
     "base_uri": "https://localhost:8080/",
     "height": 805
    },
    "executionInfo": {
     "elapsed": 339,
     "status": "ok",
     "timestamp": 1649227974997,
     "user": {
      "displayName": "Venkatasubramanian S",
      "userId": "06029493893713790610"
     },
     "user_tz": 420
    },
    "id": "FNBaCGeXPPP0",
    "outputId": "20af7152-7f1b-45ee-876d-d5cd9e17a7a1"
   },
   "outputs": [],
   "source": [
    "# Getting the scores of the tuned model\n",
    "xg_tuned_metrics = evaluation_scores(xg_hpt, X_test, y_test)"
   ]
  },
  {
   "cell_type": "code",
   "execution_count": null,
   "metadata": {
    "ExecuteTime": {
     "end_time": "2022-04-06T05:49:49.023840Z",
     "start_time": "2022-04-06T05:46:27.399Z"
    },
    "colab": {
     "base_uri": "https://localhost:8080/",
     "height": 206
    },
    "executionInfo": {
     "elapsed": 13,
     "status": "ok",
     "timestamp": 1649227974998,
     "user": {
      "displayName": "Venkatasubramanian S",
      "userId": "06029493893713790610"
     },
     "user_tz": 420
    },
    "id": "PF5jYOAMPTV8",
    "outputId": "57dcc143-892c-4c5d-b2f7-08dacea34d1a"
   },
   "outputs": [],
   "source": [
    "# Printing the scores of the base and tuned XGBoost model as reference\n",
    "dict_xg_bt_metrics = {'Metrics': ['Accuracy','Sensitivity/Recall','Specificity','Precision','F1 Score'], \n",
    "                               'XG Base Model': xg_metrics,\n",
    "                               'XG Tuned Model': xg_tuned_metrics}\n",
    "\n",
    "df_xg_bt_metrics = pd.DataFrame(dict_xg_bt_metrics, columns = ['Metrics', 'XG Base Model', 'XG Tuned Model'])\n",
    "df_xg_bt_metrics"
   ]
  },
  {
   "cell_type": "markdown",
   "metadata": {},
   "source": [
    "### Saving the base and tuned models"
   ]
  },
  {
   "cell_type": "code",
   "execution_count": null,
   "metadata": {},
   "outputs": [],
   "source": [
    "xg_base_model = pickle.dump(xg, open('./pickle/xg_base_model.pkl', 'wb'))\n"
   ]
  },
  {
   "cell_type": "code",
   "execution_count": null,
   "metadata": {},
   "outputs": [],
   "source": [
    "xg_tuned_model = pickle.dump(xg_hpt, open('./pickle/xg_tuned_model.pkl', 'wb'))"
   ]
  },
  {
   "cell_type": "raw",
   "metadata": {},
   "source": [
    "***Conclusion:***\n",
    "* For XG Boost model, Base Model is performing better than the tuned model.\n",
    "* We will consider the Base Model for evaluation purpose when we are doing model comparison."
   ]
  },
  {
   "cell_type": "code",
   "execution_count": null,
   "metadata": {},
   "outputs": [],
   "source": []
  },
  {
   "cell_type": "markdown",
   "metadata": {},
   "source": [
    "## KNN Model \n"
   ]
  },
  {
   "cell_type": "code",
   "execution_count": null,
   "metadata": {},
   "outputs": [],
   "source": [
    "import numpy as np\n",
    "import matplotlib.pyplot as plt\n",
    "import seaborn as sns\n",
    "from sklearn.model_selection import train_test_split\n",
    "from sklearn.neighbors import KNeighborsClassifier\n",
    "from sklearn.feature_extraction.text import TfidfVectorizer\n",
    "from sklearn.preprocessing import LabelEncoder\n",
    "from sklearn.metrics import confusion_matrix\n",
    "\n",
    "# Assuming you have a DataFrame df_sent containing your preprocessed text data\n",
    "\n",
    "# Encode target labels to numeric format\n",
    "label_encoder = LabelEncoder()\n",
    "y_encoded = label_encoder.fit_transform(df_sent['user_sentiment'])\n",
    "\n",
    "# Initialize the TF-IDF vectorizer\n",
    "tfidf = TfidfVectorizer()\n",
    "\n",
    "# Convert text data to TF-IDF features\n",
    "X = tfidf.fit_transform(df_sent['reviews_lemmatized'])\n",
    "\n",
    "# Split the dataset into training and testing sets\n",
    "X_train, X_test, y_train, y_test = train_test_split(X, y_encoded, random_state=42, test_size=0.25)\n",
    "\n",
    "# Instantiate the KNN classifier\n",
    "knn_classifier = KNeighborsClassifier(n_neighbors=5, weights='distance')\n",
    "\n",
    "# Fit the classifier to the training data\n",
    "knn_classifier.fit(X_train, y_train)\n",
    "\n",
    "# Predict on the test set\n",
    "y_pred = knn_classifier.predict(X_test)\n",
    "\n",
    "# Calculate confusion matrix\n",
    "conf_matrix = confusion_matrix(y_test, y_pred)\n",
    "\n",
    "# Visualize confusion matrix with heatmap and annotations\n",
    "plt.figure(figsize=(8, 6))\n",
    "sns.heatmap(conf_matrix, annot=True, fmt=\"d\", cmap=\"Blues\", cbar=False)\n",
    "plt.xlabel('Predicted labels')\n",
    "plt.ylabel('True labels')\n",
    "plt.title('Confusion Matrix')\n",
    "plt.show()\n",
    "\n",
    "# Calculate mode (most frequent class) of predictions\n",
    "mode_prediction = np.argmax(np.bincount(y_pred))\n",
    "\n",
    "# Calculate values of True Positives, True Negatives, False Positives, and False Negatives\n",
    "TP = conf_matrix[1, 1]\n",
    "TN = conf_matrix[0, 0]\n",
    "FP = conf_matrix[0, 1]\n",
    "FN = conf_matrix[1, 0]\n",
    "\n",
    "# Print values of True Positives, True Negatives, False Positives, and False Negatives\n",
    "print(\"Values of True Positives, True Negatives, False Positives, and False Negatives:\")\n",
    "print(\"True Positives:\", TP)\n",
    "print(\"True Negatives:\", TN)\n",
    "print(\"False Positives:\", FP)\n",
    "print(\"False Negatives:\", FN)\n",
    "\n",
    "# Print mode prediction\n",
    "print(\"Mode prediction:\", mode_prediction)\n",
    "\n",
    "\n",
    "# Calculate True Positives (TP), True Negatives (TN), False Positives (FP), and False Negatives (FN)\n",
    "TP = conf_matrix[1, 1]\n",
    "TN = conf_matrix[0, 0]\n",
    "FP = conf_matrix[0, 1]\n",
    "FN = conf_matrix[1, 0]\n",
    "\n",
    "# Calculate evaluation scores\n",
    "accuracy = (TP + TN) / (TP + TN + FP + FN)\n",
    "sensitivity_recall = TP / (TP + FN)\n",
    "specificity = TN / (TN + FP)\n",
    "precision = TP / (TP + FP)\n",
    "f1_score = 2 * (precision * sensitivity_recall) / (precision + sensitivity_recall)\n",
    "\n",
    "# Print evaluation score summary\n",
    "print(\"Evaluation Score Summary\")\n",
    "print(\"-\" * 50)\n",
    "print(f\"Accuracy Score: {accuracy:.2f}\")\n",
    "print(f\"Sensitivity/Recall Score: {sensitivity_recall:.2f}\")\n",
    "print(f\"Specificity Score: {specificity:.2f}\")\n",
    "print(f\"Precision: {precision:.2f}\")\n",
    "print(f\"F1 Score: {f1_score:.2f}\")\n",
    "print(\"-\" * 50)\n",
    "\n"
   ]
  },
  {
   "cell_type": "code",
   "execution_count": null,
   "metadata": {},
   "outputs": [],
   "source": [
    "from sklearn.neighbors import KNeighborsClassifier\n",
    "from sklearn.model_selection import GridSearchCV\n",
    "\n",
    "# Define parameter grid for GridSearchCV\n",
    "param_grid = {\n",
    "    'n_neighbors': [10, 15, 20],\n",
    "    'weights': ['uniform', 'distance'],\n",
    "    'algorithm': ['auto', 'ball_tree', 'kd_tree'],\n",
    "    'metric': ['euclidean', 'manhattan']\n",
    "}\n",
    "\n",
    "# Initialize kNN classifier\n",
    "knn = KNeighborsClassifier()\n",
    "\n",
    "# Initialize GridSearchCV\n",
    "grid_search = GridSearchCV(knn, param_grid, cv=5, scoring='accuracy')\n",
    "\n",
    "# Perform grid search\n",
    "grid_search.fit(X_train, y_train)\n",
    "\n",
    "# Print best parameters and corresponding accuracy\n",
    "print(\"Best Parameters:\", grid_search.best_params_)\n",
    "print(\"Best Accuracy:\", grid_search.best_score_)\n"
   ]
  },
  {
   "cell_type": "code",
   "execution_count": null,
   "metadata": {},
   "outputs": [],
   "source": []
  },
  {
   "cell_type": "code",
   "execution_count": null,
   "metadata": {},
   "outputs": [],
   "source": []
  },
  {
   "cell_type": "code",
   "execution_count": null,
   "metadata": {},
   "outputs": [],
   "source": []
  },
  {
   "cell_type": "markdown",
   "metadata": {
    "id": "W8GZfofLPyjN"
   },
   "source": []
  },
  {
   "cell_type": "markdown",
   "metadata": {
    "id": "Whj3gWbL_Sfu"
   },
   "source": [
    "### Saving the base and tuned models"
   ]
  },
  {
   "cell_type": "code",
   "execution_count": null,
   "metadata": {
    "ExecuteTime": {
     "end_time": "2022-04-06T05:49:49.024900Z",
     "start_time": "2022-04-06T05:46:27.410Z"
    },
    "executionInfo": {
     "elapsed": 12,
     "status": "ok",
     "timestamp": 1649227974999,
     "user": {
      "displayName": "Venkatasubramanian S",
      "userId": "06029493893713790610"
     },
     "user_tz": 420
    },
    "id": "ipCtlReP_Sfv"
   },
   "outputs": [],
   "source": [
    "xg_base_model = pickle.dump(xg, open('./pickle/xg_base_model.pkl', 'wb'))"
   ]
  },
  {
   "cell_type": "code",
   "execution_count": null,
   "metadata": {
    "ExecuteTime": {
     "end_time": "2022-04-06T05:49:49.025842Z",
     "start_time": "2022-04-06T05:46:27.420Z"
    },
    "executionInfo": {
     "elapsed": 12,
     "status": "ok",
     "timestamp": 1649227974999,
     "user": {
      "displayName": "Venkatasubramanian S",
      "userId": "06029493893713790610"
     },
     "user_tz": 420
    },
    "id": "LH_QhTlM_Sfw"
   },
   "outputs": [],
   "source": [
    "xg_base_model = pickle.dump(xg, open('./pickle/xg_base_model.pkl', 'wb'))\n",
    "xg_tuned_model = pickle.dump(xg_hpt, open('./pickle/xg_tuned_model.pkl', 'wb'))"
   ]
  },
  {
   "cell_type": "markdown",
   "metadata": {
    "id": "4fGPDBynP3_x"
   },
   "source": [
    "# Model Evaluation"
   ]
  },
  {
   "cell_type": "code",
   "execution_count": null,
   "metadata": {
    "ExecuteTime": {
     "end_time": "2022-04-06T05:49:49.026835Z",
     "start_time": "2022-04-06T05:46:27.430Z"
    },
    "colab": {
     "base_uri": "https://localhost:8080/",
     "height": 206
    },
    "executionInfo": {
     "elapsed": 534,
     "status": "ok",
     "timestamp": 1649227975522,
     "user": {
      "displayName": "Venkatasubramanian S",
      "userId": "06029493893713790610"
     },
     "user_tz": 420
    },
    "id": "yfYA2gGwP6GJ",
    "outputId": "90216d4c-f7d9-4052-a7ee-ccbdf386f99f"
   },
   "outputs": [],
   "source": [
    "# Printing the scores of all the 3 Models (Base and Tuned)\n",
    "dict_bt_metrics = {'Metrics': ['Accuracy','Sensitivity/Recall','Specificity','Precision','F1 Score'],\n",
    "                              'LR Base Model': lr_metrics, 'LR Tuned Model': lr_tuned_metrics,\n",
    "                              'RF Base Model': rf_metrics, 'RF Tuned Model': rf_tuned_metrics,\n",
    "                              'XG Base Model': xg_metrics, 'XG Tuned Model': xg_tuned_metrics\n",
    "                               \n",
    "                  \n",
    "                  }\n",
    "\n",
    "df_bt_metrics = pd.DataFrame(dict_bt_metrics, columns = ['Metrics', 'LR Base Model', 'LR Tuned Model', 'RF Base Model', 'RF Tuned Model', 'XG Base Model', 'XG Tuned Model'])\n",
    "df_bt_metrics"
   ]
  },
  {
   "cell_type": "markdown",
   "metadata": {
    "id": "GIH__RRZRCM4"
   },
   "source": [
    "Looking at the model evaluation metrics and focusing on Sensitivity, Specificity and F1 Score, we can conclude that the base Logistic Regression Model is the best model out of all of them.\n",
    "We will save this model for future usage."
   ]
  },
  {
   "cell_type": "code",
   "execution_count": null,
   "metadata": {
    "ExecuteTime": {
     "end_time": "2022-04-06T05:49:49.028838Z",
     "start_time": "2022-04-06T05:46:27.440Z"
    },
    "executionInfo": {
     "elapsed": 4,
     "status": "ok",
     "timestamp": 1649227975523,
     "user": {
      "displayName": "Venkatasubramanian S",
      "userId": "06029493893713790610"
     },
     "user_tz": 420
    },
    "id": "B-gvaLEfRpSb"
   },
   "outputs": [],
   "source": [
    "# Saving the base logistic regression model as the best sentiment model for future use \n",
    "best_sentiment_model = pickle.dump(logreg, open('./models/best_sentiment_model.pkl', 'wb'))"
   ]
  },
  {
   "cell_type": "markdown",
   "metadata": {
    "id": "03Io5LtiKyGh"
   },
   "source": [
    "# Building a Recommendation System\n",
    "\n",
    "We will build the below two recommendation systems\n",
    "1. User-based recommendation system\n",
    "2. Item-based recommendation system\n",
    "\n",
    "Once built, we will analyze the recommendation systems and select the one that is best suited in this case. \n",
    "Once we get the best-suited recommendation system, the next task will be to recommend 20 products that a user is most likely to purchase based on the ratings."
   ]
  },
  {
   "cell_type": "markdown",
   "metadata": {
    "id": "6cDrFIjcRbc8"
   },
   "source": [
    "## Import data"
   ]
  },
  {
   "cell_type": "code",
   "execution_count": null,
   "metadata": {
    "ExecuteTime": {
     "end_time": "2022-04-06T05:49:49.032431Z",
     "start_time": "2022-04-06T05:46:27.450Z"
    },
    "executionInfo": {
     "elapsed": 328,
     "status": "ok",
     "timestamp": 1649227975848,
     "user": {
      "displayName": "Venkatasubramanian S",
      "userId": "06029493893713790610"
     },
     "user_tz": 420
    },
    "id": "ZmruPEAqQ360"
   },
   "outputs": [],
   "source": [
    "df_reco = pd.read_csv(\"sample30.csv\")"
   ]
  },
  {
   "cell_type": "code",
   "execution_count": null,
   "metadata": {
    "ExecuteTime": {
     "end_time": "2022-04-06T05:49:49.033842Z",
     "start_time": "2022-04-06T05:46:27.457Z"
    },
    "colab": {
     "base_uri": "https://localhost:8080/"
    },
    "executionInfo": {
     "elapsed": 64,
     "status": "ok",
     "timestamp": 1649227975849,
     "user": {
      "displayName": "Venkatasubramanian S",
      "userId": "06029493893713790610"
     },
     "user_tz": 420
    },
    "id": "MRyhg4bnRHGL",
    "outputId": "b70b3cff-bc99-4b5b-af31-5cd9e35e5f66"
   },
   "outputs": [],
   "source": [
    "df_reco.shape"
   ]
  },
  {
   "cell_type": "code",
   "execution_count": null,
   "metadata": {
    "ExecuteTime": {
     "end_time": "2022-04-06T05:49:49.035838Z",
     "start_time": "2022-04-06T05:46:27.464Z"
    },
    "executionInfo": {
     "elapsed": 62,
     "status": "ok",
     "timestamp": 1649227975850,
     "user": {
      "displayName": "Venkatasubramanian S",
      "userId": "06029493893713790610"
     },
     "user_tz": 420
    },
    "id": "sYHvciqQLQqP"
   },
   "outputs": [],
   "source": [
    "# We need only the below columns for building a recommendation system\n",
    "df_reco = df_reco[[\"id\", \"name\", \"reviews_rating\", \"reviews_username\"]]"
   ]
  },
  {
   "cell_type": "code",
   "execution_count": null,
   "metadata": {
    "ExecuteTime": {
     "end_time": "2022-04-06T05:49:49.036837Z",
     "start_time": "2022-04-06T05:46:27.471Z"
    },
    "colab": {
     "base_uri": "https://localhost:8080/"
    },
    "executionInfo": {
     "elapsed": 63,
     "status": "ok",
     "timestamp": 1649227975851,
     "user": {
      "displayName": "Venkatasubramanian S",
      "userId": "06029493893713790610"
     },
     "user_tz": 420
    },
    "id": "oAmHKrf8MNy1",
    "outputId": "18487be8-b805-4ec3-cb89-eba03ccb3f0b"
   },
   "outputs": [],
   "source": [
    "df_reco.shape"
   ]
  },
  {
   "cell_type": "code",
   "execution_count": null,
   "metadata": {
    "ExecuteTime": {
     "end_time": "2022-04-06T05:49:49.037991Z",
     "start_time": "2022-04-06T05:46:27.479Z"
    },
    "colab": {
     "base_uri": "https://localhost:8080/",
     "height": 112
    },
    "executionInfo": {
     "elapsed": 59,
     "status": "ok",
     "timestamp": 1649227975852,
     "user": {
      "displayName": "Venkatasubramanian S",
      "userId": "06029493893713790610"
     },
     "user_tz": 420
    },
    "id": "gARCYyg_APRq",
    "outputId": "d2bead9d-10c5-4601-b467-8b93bb70ef42"
   },
   "outputs": [],
   "source": [
    "df_reco.head(2)"
   ]
  },
  {
   "cell_type": "markdown",
   "metadata": {
    "id": "-R3PHLxwRe1H"
   },
   "source": [
    "## Handling NULL values"
   ]
  },
  {
   "cell_type": "code",
   "execution_count": null,
   "metadata": {
    "ExecuteTime": {
     "end_time": "2022-04-06T05:49:49.039836Z",
     "start_time": "2022-04-06T05:46:27.488Z"
    },
    "colab": {
     "base_uri": "https://localhost:8080/",
     "height": 81
    },
    "executionInfo": {
     "elapsed": 59,
     "status": "ok",
     "timestamp": 1649227975853,
     "user": {
      "displayName": "Venkatasubramanian S",
      "userId": "06029493893713790610"
     },
     "user_tz": 420
    },
    "id": "374JVOIXP3Dl",
    "outputId": "deb88222-6c04-4de7-ebd4-179d037b3d59"
   },
   "outputs": [],
   "source": [
    "# Getting total number of NULL values and percentage of the columns\n",
    "null_count = df_reco[df_reco.columns[df_reco.isna().any()]].isna().sum().sort_values(ascending=False)\n",
    "null_perc = (df_reco[df_reco.columns[df_reco.isna().any()]].isna().sum() * 100 / df_reco.shape[0]).sort_values(ascending=False)\n",
    "null_data = pd.concat([null_count, null_perc], axis=1, keys=['Count', 'Percentage'])\n",
    "null_data"
   ]
  },
  {
   "cell_type": "code",
   "execution_count": null,
   "metadata": {
    "ExecuteTime": {
     "end_time": "2022-04-06T05:49:49.040837Z",
     "start_time": "2022-04-06T05:46:27.495Z"
    },
    "executionInfo": {
     "elapsed": 57,
     "status": "ok",
     "timestamp": 1649227975854,
     "user": {
      "displayName": "Venkatasubramanian S",
      "userId": "06029493893713790610"
     },
     "user_tz": 420
    },
    "id": "nfoSO1ZBRUno"
   },
   "outputs": [],
   "source": [
    "# Removing the rows where reviews_username is NULL\n",
    "df_reco = df_reco[~ df_reco.reviews_username.isna() ]"
   ]
  },
  {
   "cell_type": "code",
   "execution_count": null,
   "metadata": {
    "ExecuteTime": {
     "end_time": "2022-04-06T05:49:49.041835Z",
     "start_time": "2022-04-06T05:46:27.503Z"
    },
    "colab": {
     "base_uri": "https://localhost:8080/"
    },
    "executionInfo": {
     "elapsed": 58,
     "status": "ok",
     "timestamp": 1649227975855,
     "user": {
      "displayName": "Venkatasubramanian S",
      "userId": "06029493893713790610"
     },
     "user_tz": 420
    },
    "id": "PE5NdHkfRl2s",
    "outputId": "4bfcefb4-a1bd-40f8-abc0-bfcfb4081e93"
   },
   "outputs": [],
   "source": [
    "df_reco.shape"
   ]
  },
  {
   "cell_type": "code",
   "execution_count": null,
   "metadata": {
    "ExecuteTime": {
     "end_time": "2022-04-06T05:49:49.042838Z",
     "start_time": "2022-04-06T05:46:27.510Z"
    },
    "colab": {
     "base_uri": "https://localhost:8080/",
     "height": 49
    },
    "executionInfo": {
     "elapsed": 52,
     "status": "ok",
     "timestamp": 1649227975856,
     "user": {
      "displayName": "Venkatasubramanian S",
      "userId": "06029493893713790610"
     },
     "user_tz": 420
    },
    "id": "XUm2nb0QRn1P",
    "outputId": "a7e60984-d063-4f4e-d4dc-8ff2c36feaba"
   },
   "outputs": [],
   "source": [
    "# Check if any NULL values still exist in the dataset\n",
    "null_count = df_reco[df_reco.columns[df_reco.isna().any()]].isna().sum().sort_values(ascending=False)\n",
    "null_perc = (df_reco[df_reco.columns[df_reco.isna().any()]].isna().sum() * 100 / df_reco.shape[0]).sort_values(ascending=False)\n",
    "null_data = pd.concat([null_count, null_perc], axis=1, keys=['Count', 'Percentage'])\n",
    "null_data"
   ]
  },
  {
   "cell_type": "markdown",
   "metadata": {
    "id": "OqTKyvvdNbHa"
   },
   "source": [
    "## Train, Test Split"
   ]
  },
  {
   "cell_type": "code",
   "execution_count": null,
   "metadata": {
    "ExecuteTime": {
     "end_time": "2022-04-06T05:49:49.044837Z",
     "start_time": "2022-04-06T05:46:27.519Z"
    },
    "executionInfo": {
     "elapsed": 51,
     "status": "ok",
     "timestamp": 1649227975856,
     "user": {
      "displayName": "Venkatasubramanian S",
      "userId": "06029493893713790610"
     },
     "user_tz": 420
    },
    "id": "WB3u-rGXNcqc"
   },
   "outputs": [],
   "source": [
    "train, test = train_test_split(df_reco, test_size=0.30, random_state=42)"
   ]
  },
  {
   "cell_type": "code",
   "execution_count": null,
   "metadata": {
    "ExecuteTime": {
     "end_time": "2022-04-06T05:49:49.046837Z",
     "start_time": "2022-04-06T05:46:27.526Z"
    },
    "colab": {
     "base_uri": "https://localhost:8080/"
    },
    "executionInfo": {
     "elapsed": 51,
     "status": "ok",
     "timestamp": 1649227975857,
     "user": {
      "displayName": "Venkatasubramanian S",
      "userId": "06029493893713790610"
     },
     "user_tz": 420
    },
    "id": "oC56JQpqN1yX",
    "outputId": "d4032a06-f59a-4753-9ecc-d91c340b944c"
   },
   "outputs": [],
   "source": [
    "print(train.shape)\n",
    "print(test.shape)"
   ]
  },
  {
   "cell_type": "code",
   "execution_count": null,
   "metadata": {
    "ExecuteTime": {
     "end_time": "2022-04-06T05:49:49.047834Z",
     "start_time": "2022-04-06T05:46:27.533Z"
    },
    "colab": {
     "base_uri": "https://localhost:8080/",
     "height": 112
    },
    "executionInfo": {
     "elapsed": 44,
     "status": "ok",
     "timestamp": 1649227975860,
     "user": {
      "displayName": "Venkatasubramanian S",
      "userId": "06029493893713790610"
     },
     "user_tz": 420
    },
    "id": "ff5JnGQAOFH9",
    "outputId": "302eb3a2-6859-4dea-9b03-8554523deb3c"
   },
   "outputs": [],
   "source": [
    "train.head(2)"
   ]
  },
  {
   "cell_type": "code",
   "execution_count": null,
   "metadata": {
    "ExecuteTime": {
     "end_time": "2022-04-06T05:49:49.049836Z",
     "start_time": "2022-04-06T05:46:27.540Z"
    },
    "colab": {
     "base_uri": "https://localhost:8080/",
     "height": 303
    },
    "executionInfo": {
     "elapsed": 42,
     "status": "ok",
     "timestamp": 1649227975861,
     "user": {
      "displayName": "Venkatasubramanian S",
      "userId": "06029493893713790610"
     },
     "user_tz": 420
    },
    "id": "wPuL2Fx_N3ow",
    "outputId": "49ac6714-68e4-49c6-a99e-03201c545882"
   },
   "outputs": [],
   "source": [
    "# Pivot the train ratings' dataset into matrix format in which columns are Products and the rows are usernames.\n",
    "df_pivot = train.pivot_table(\n",
    "    index='reviews_username',\n",
    "    columns='id',\n",
    "    values='reviews_rating'\n",
    ").fillna(0)\n",
    "\n",
    "df_pivot.head(3)"
   ]
  },
  {
   "cell_type": "markdown",
   "metadata": {
    "id": "loMk_ZKnSXsq"
   },
   "source": [
    "## Creating dummy train & dummy test dataset\n",
    "\n",
    "- Dummy train will be used later for prediction of the movies which has not been rated by the user. To ignore the movies rated by the user, we will mark it as 0 during prediction. The movies not rated by user is marked as 1 for prediction in dummy train dataset. \n",
    "- Dummy test will be used for evaluation. To evaluate, we will only make prediction on the movies rated by the user. So, this is marked as 1. This is just opposite of dummy_train."
   ]
  },
  {
   "cell_type": "code",
   "execution_count": null,
   "metadata": {
    "ExecuteTime": {
     "end_time": "2022-04-06T05:49:49.050837Z",
     "start_time": "2022-04-06T05:46:27.550Z"
    },
    "executionInfo": {
     "elapsed": 40,
     "status": "ok",
     "timestamp": 1649227975862,
     "user": {
      "displayName": "Venkatasubramanian S",
      "userId": "06029493893713790610"
     },
     "user_tz": 420
    },
    "id": "6ibjmmQjSSgM"
   },
   "outputs": [],
   "source": [
    "# Copy the train dataset into dummy_train\n",
    "dummy_train = train.copy()"
   ]
  },
  {
   "cell_type": "code",
   "execution_count": null,
   "metadata": {
    "ExecuteTime": {
     "end_time": "2022-04-06T05:49:49.051834Z",
     "start_time": "2022-04-06T05:46:27.558Z"
    },
    "executionInfo": {
     "elapsed": 40,
     "status": "ok",
     "timestamp": 1649227975863,
     "user": {
      "displayName": "Venkatasubramanian S",
      "userId": "06029493893713790610"
     },
     "user_tz": 420
    },
    "id": "n-TUak8GTFUq"
   },
   "outputs": [],
   "source": [
    "# The products not rated by user is marked as 1 for prediction. \n",
    "dummy_train['reviews_rating'] = dummy_train['reviews_rating'].apply(lambda x: 0 if x>=1 else 1)"
   ]
  },
  {
   "cell_type": "code",
   "execution_count": null,
   "metadata": {
    "ExecuteTime": {
     "end_time": "2022-04-06T05:49:49.052836Z",
     "start_time": "2022-04-06T05:46:27.567Z"
    },
    "colab": {
     "base_uri": "https://localhost:8080/",
     "height": 303
    },
    "executionInfo": {
     "elapsed": 448,
     "status": "ok",
     "timestamp": 1649227976272,
     "user": {
      "displayName": "Venkatasubramanian S",
      "userId": "06029493893713790610"
     },
     "user_tz": 420
    },
    "id": "RlkOQ0mSTNeG",
    "outputId": "ee7eef1f-4915-4813-853e-493afadd99b7"
   },
   "outputs": [],
   "source": [
    "# Convert the dummy train dataset into matrix format\n",
    "dummy_train = dummy_train.pivot_table(\n",
    "    index='reviews_username',\n",
    "    columns='id',\n",
    "    values='reviews_rating'\n",
    ").fillna(1)\n",
    "\n",
    "dummy_train.head(3)"
   ]
  },
  {
   "cell_type": "code",
   "execution_count": null,
   "metadata": {
    "ExecuteTime": {
     "end_time": "2022-04-06T05:49:49.053837Z",
     "start_time": "2022-04-06T05:46:27.576Z"
    },
    "colab": {
     "base_uri": "https://localhost:8080/",
     "height": 272
    },
    "executionInfo": {
     "elapsed": 16,
     "status": "ok",
     "timestamp": 1649227976273,
     "user": {
      "displayName": "Venkatasubramanian S",
      "userId": "06029493893713790610"
     },
     "user_tz": 420
    },
    "id": "DCgEz_EFT6LW",
    "outputId": "02c8e08a-417b-40ba-f805-cb12c634c2b8"
   },
   "outputs": [],
   "source": [
    "dummy_train.head(2)"
   ]
  },
  {
   "cell_type": "markdown",
   "metadata": {
    "id": "MSWAUsssUiV1"
   },
   "source": [
    "**Cosine Similarity**\n",
    "\n",
    "Cosine Similarity is a measurement that quantifies the similarity between two vectors [Which is `reviews_rating` in this case] \n",
    "\n",
    "**Adjusted Cosine**\n",
    "\n",
    "Adjusted cosine similarity is a modified version of vector-based similarity where we incorporate the fact that different users have different ratings schemes. In other words, some users might rate items highly in general, and others might give items lower ratings as a preference. To handle this nature from rating given by user , we subtract average ratings for each user from each user's rating for different products.\n",
    "\n"
   ]
  },
  {
   "cell_type": "markdown",
   "metadata": {
    "id": "q1PIgoxTU9J-"
   },
   "source": [
    "## User Similarity Matrix (Using Adjusted Cosine)"
   ]
  },
  {
   "cell_type": "markdown",
   "metadata": {
    "id": "1MK_pFmyVELF"
   },
   "source": [
    "### Here, we are not removing the NaN values and calculating the mean only for the products rated by the user"
   ]
  },
  {
   "cell_type": "code",
   "execution_count": null,
   "metadata": {
    "ExecuteTime": {
     "end_time": "2022-04-06T05:49:49.054838Z",
     "start_time": "2022-04-06T05:46:27.587Z"
    },
    "executionInfo": {
     "elapsed": 382,
     "status": "ok",
     "timestamp": 1649227976642,
     "user": {
      "displayName": "Venkatasubramanian S",
      "userId": "06029493893713790610"
     },
     "user_tz": 420
    },
    "id": "6woToTQeVGTD"
   },
   "outputs": [],
   "source": [
    "# Pivot the train ratings' dataset into matrix format in which columns are Products and the rows are usernames.\n",
    "df_pivot = train.pivot_table(\n",
    "    index='reviews_username',\n",
    "    columns='id',\n",
    "    values='reviews_rating'\n",
    ")"
   ]
  },
  {
   "cell_type": "code",
   "execution_count": null,
   "metadata": {
    "ExecuteTime": {
     "end_time": "2022-04-06T05:49:49.056117Z",
     "start_time": "2022-04-06T05:46:27.594Z"
    },
    "colab": {
     "base_uri": "https://localhost:8080/",
     "height": 240
    },
    "executionInfo": {
     "elapsed": 11,
     "status": "ok",
     "timestamp": 1649227976643,
     "user": {
      "displayName": "Venkatasubramanian S",
      "userId": "06029493893713790610"
     },
     "user_tz": 420
    },
    "id": "6p_tCQSBVBF5",
    "outputId": "eb3f9ddd-e186-41e1-eae2-12ff84628694"
   },
   "outputs": [],
   "source": [
    "# For verification purpose, we do have cases where the rating is not NaN\n",
    "df_pivot[~df_pivot['AV13O1A8GV-KLJ3akUyj'].isna()]"
   ]
  },
  {
   "cell_type": "markdown",
   "metadata": {
    "id": "rvbxOD4bWI7O"
   },
   "source": [
    "### Normalising the rating of the product for each user around 0 mean"
   ]
  },
  {
   "cell_type": "code",
   "execution_count": null,
   "metadata": {
    "ExecuteTime": {
     "end_time": "2022-04-06T05:49:49.056836Z",
     "start_time": "2022-04-06T05:46:27.603Z"
    },
    "executionInfo": {
     "elapsed": 10,
     "status": "ok",
     "timestamp": 1649227976644,
     "user": {
      "displayName": "Venkatasubramanian S",
      "userId": "06029493893713790610"
     },
     "user_tz": 420
    },
    "id": "SCPLIVCOWLmZ"
   },
   "outputs": [],
   "source": [
    "mean = np.nanmean(df_pivot, axis=1)\n",
    "df_subtracted = (df_pivot.T-mean).T"
   ]
  },
  {
   "cell_type": "code",
   "execution_count": null,
   "metadata": {
    "ExecuteTime": {
     "end_time": "2022-04-06T05:49:49.057836Z",
     "start_time": "2022-04-06T05:46:27.610Z"
    },
    "colab": {
     "base_uri": "https://localhost:8080/",
     "height": 366
    },
    "executionInfo": {
     "elapsed": 10,
     "status": "ok",
     "timestamp": 1649227976645,
     "user": {
      "displayName": "Venkatasubramanian S",
      "userId": "06029493893713790610"
     },
     "user_tz": 420
    },
    "id": "0VwHBnYGWNX-",
    "outputId": "3ced5ac7-be23-448d-c417-19a9d8c27a19"
   },
   "outputs": [],
   "source": [
    "df_subtracted.head()"
   ]
  },
  {
   "cell_type": "markdown",
   "metadata": {
    "id": "xgP2T6upWUQv"
   },
   "source": [
    "### Finding cosine similarity"
   ]
  },
  {
   "cell_type": "code",
   "execution_count": null,
   "metadata": {
    "ExecuteTime": {
     "end_time": "2022-04-06T05:49:49.058838Z",
     "start_time": "2022-04-06T05:46:27.618Z"
    },
    "colab": {
     "base_uri": "https://localhost:8080/"
    },
    "executionInfo": {
     "elapsed": 8287,
     "status": "ok",
     "timestamp": 1649227984923,
     "user": {
      "displayName": "Venkatasubramanian S",
      "userId": "06029493893713790610"
     },
     "user_tz": 420
    },
    "id": "McTwHyTpWU0s",
    "outputId": "fff2e94f-f0f0-4519-d721-fde09d9be86e"
   },
   "outputs": [],
   "source": [
    "# Creating the User Similarity Matrix using pairwise_distance function.\n",
    "user_correlation = 1 - pairwise_distances(df_subtracted.fillna(0), metric='cosine')\n",
    "user_correlation[np.isnan(user_correlation)] = 0\n",
    "print(user_correlation)"
   ]
  },
  {
   "cell_type": "code",
   "execution_count": null,
   "metadata": {
    "ExecuteTime": {
     "end_time": "2022-04-06T05:49:49.060841Z",
     "start_time": "2022-04-06T05:46:27.627Z"
    },
    "colab": {
     "base_uri": "https://localhost:8080/"
    },
    "executionInfo": {
     "elapsed": 17,
     "status": "ok",
     "timestamp": 1649227984924,
     "user": {
      "displayName": "Venkatasubramanian S",
      "userId": "06029493893713790610"
     },
     "user_tz": 420
    },
    "id": "zCKSAfpVWb_K",
    "outputId": "bd3fca99-c469-4e86-ca70-ab3d18e38c7c"
   },
   "outputs": [],
   "source": [
    "user_correlation.shape"
   ]
  },
  {
   "cell_type": "markdown",
   "metadata": {
    "id": "mAdrOYiZWktX"
   },
   "source": [
    "## Prediction - User User"
   ]
  },
  {
   "cell_type": "markdown",
   "metadata": {
    "id": "k9jVB8zEWn-s"
   },
   "source": [
    "Doing the prediction for the users which are positively related with other users, and not the users which are negatively related as we are interested in the users which are more similar to the current users. So, we will be ignoring the correlation for values less than 0."
   ]
  },
  {
   "cell_type": "code",
   "execution_count": null,
   "metadata": {
    "ExecuteTime": {
     "end_time": "2022-04-06T05:49:49.061841Z",
     "start_time": "2022-04-06T05:46:27.637Z"
    },
    "colab": {
     "base_uri": "https://localhost:8080/"
    },
    "executionInfo": {
     "elapsed": 452,
     "status": "ok",
     "timestamp": 1649227985363,
     "user": {
      "displayName": "Venkatasubramanian S",
      "userId": "06029493893713790610"
     },
     "user_tz": 420
    },
    "id": "G-Fhx8FxWsQu",
    "outputId": "145b434c-fa18-450a-8b95-78945b47a3e5"
   },
   "outputs": [],
   "source": [
    "user_correlation[user_correlation<0]=0\n",
    "user_correlation"
   ]
  },
  {
   "cell_type": "markdown",
   "metadata": {
    "id": "MCUu0dXkWxcV"
   },
   "source": [
    "Rating predicted by the user (for products rated as well as not rated) is the weighted sum of correlation with the product rating (as present in the rating dataset)."
   ]
  },
  {
   "cell_type": "code",
   "execution_count": null,
   "metadata": {
    "ExecuteTime": {
     "end_time": "2022-04-06T05:49:49.062834Z",
     "start_time": "2022-04-06T05:46:27.646Z"
    },
    "colab": {
     "base_uri": "https://localhost:8080/"
    },
    "executionInfo": {
     "elapsed": 6217,
     "status": "ok",
     "timestamp": 1649227991575,
     "user": {
      "displayName": "Venkatasubramanian S",
      "userId": "06029493893713790610"
     },
     "user_tz": 420
    },
    "id": "DHIQ0yPTW1xo",
    "outputId": "b62834e1-e889-406e-c775-f1d878c82dfd"
   },
   "outputs": [],
   "source": [
    "user_predicted_ratings = np.dot(user_correlation, df_pivot.fillna(0))\n",
    "user_predicted_ratings"
   ]
  },
  {
   "cell_type": "code",
   "execution_count": null,
   "metadata": {
    "ExecuteTime": {
     "end_time": "2022-04-06T05:49:49.064839Z",
     "start_time": "2022-04-06T05:46:27.653Z"
    },
    "colab": {
     "base_uri": "https://localhost:8080/"
    },
    "executionInfo": {
     "elapsed": 31,
     "status": "ok",
     "timestamp": 1649227991576,
     "user": {
      "displayName": "Venkatasubramanian S",
      "userId": "06029493893713790610"
     },
     "user_tz": 420
    },
    "id": "igROSmFJW3pV",
    "outputId": "cf144365-d14d-4971-eb92-bffb86854451"
   },
   "outputs": [],
   "source": [
    "user_predicted_ratings.shape"
   ]
  },
  {
   "cell_type": "markdown",
   "metadata": {
    "id": "zDMJ8UkjW82B"
   },
   "source": [
    "Since we are interested only in the products not rated by the user, we will ignore the products rated by the user by making it zero."
   ]
  },
  {
   "cell_type": "code",
   "execution_count": null,
   "metadata": {
    "ExecuteTime": {
     "end_time": "2022-04-06T05:49:49.066840Z",
     "start_time": "2022-04-06T05:46:27.662Z"
    },
    "colab": {
     "base_uri": "https://localhost:8080/",
     "height": 366
    },
    "executionInfo": {
     "elapsed": 307,
     "status": "ok",
     "timestamp": 1649227991862,
     "user": {
      "displayName": "Venkatasubramanian S",
      "userId": "06029493893713790610"
     },
     "user_tz": 420
    },
    "id": "IBlDHV8sW_Gx",
    "outputId": "a26eb58b-ef62-442b-8456-dfa438b96aa4"
   },
   "outputs": [],
   "source": [
    "user_final_rating = np.multiply(user_predicted_ratings,dummy_train)\n",
    "user_final_rating.head()"
   ]
  },
  {
   "cell_type": "markdown",
   "metadata": {
    "id": "MqARNM3rXKQo"
   },
   "source": [
    "## Finding the Top 20 products that a user is most likely to purchase based on the ratings (user-user based recommendation)"
   ]
  },
  {
   "cell_type": "code",
   "execution_count": null,
   "metadata": {
    "ExecuteTime": {
     "end_time": "2022-04-06T05:49:49.067838Z",
     "start_time": "2022-04-06T05:46:27.671Z"
    },
    "executionInfo": {
     "elapsed": 36,
     "status": "ok",
     "timestamp": 1649227991863,
     "user": {
      "displayName": "Venkatasubramanian S",
      "userId": "06029493893713790610"
     },
     "user_tz": 420
    },
    "id": "4LZZ4nWvXR6p"
   },
   "outputs": [],
   "source": [
    "# Take a sample username as input.\n",
    "user_input = '00sab00'"
   ]
  },
  {
   "cell_type": "code",
   "execution_count": null,
   "metadata": {
    "ExecuteTime": {
     "end_time": "2022-04-06T05:49:49.068834Z",
     "start_time": "2022-04-06T05:46:27.678Z"
    },
    "colab": {
     "base_uri": "https://localhost:8080/",
     "height": 677
    },
    "executionInfo": {
     "elapsed": 33,
     "status": "ok",
     "timestamp": 1649227991864,
     "user": {
      "displayName": "Venkatasubramanian S",
      "userId": "06029493893713790610"
     },
     "user_tz": 420
    },
    "id": "eY67nO7QXw_a",
    "outputId": "0b63cc33-02cb-4473-a397-7bc1c7e32a35"
   },
   "outputs": [],
   "source": [
    "top20_recommendations = user_final_rating.loc[user_input].sort_values(ascending=False)[0:20]\n",
    "df_top20_recommendations = pd.DataFrame({'Product Id': top20_recommendations.index, 'cosine_similarity_score' : top20_recommendations})\n",
    "df_top20_recommendations.reset_index(drop=True, inplace=True)\n",
    "df_top20_recommendations"
   ]
  },
  {
   "cell_type": "code",
   "execution_count": null,
   "metadata": {
    "ExecuteTime": {
     "end_time": "2022-04-06T05:49:49.069834Z",
     "start_time": "2022-04-06T05:46:27.686Z"
    },
    "colab": {
     "base_uri": "https://localhost:8080/",
     "height": 677
    },
    "executionInfo": {
     "elapsed": 25,
     "status": "ok",
     "timestamp": 1649227991865,
     "user": {
      "displayName": "Venkatasubramanian S",
      "userId": "06029493893713790610"
     },
     "user_tz": 420
    },
    "id": "n_84JT1bZA2b",
    "outputId": "28c69d6f-8391-4d5a-bb15-018237e55d3e"
   },
   "outputs": [],
   "source": [
    "top20_rec = pd.merge(df_reco, df_top20_recommendations,left_on='id',right_on='Product Id', how = 'inner')[['Product Id', 'name', 'cosine_similarity_score']].drop_duplicates()\n",
    "top20_rec.reset_index(drop=True, inplace=True)\n",
    "top20_rec.sort_values(by='cosine_similarity_score', ascending=False)"
   ]
  },
  {
   "cell_type": "markdown",
   "metadata": {
    "id": "a2P366Zwb7wy"
   },
   "source": [
    "## Evaluation - User User"
   ]
  },
  {
   "cell_type": "markdown",
   "metadata": {
    "id": "z9nC0YJ0b_FQ"
   },
   "source": [
    "Evaluation will we same as you have seen above for the prediction. The only difference being, you will evaluate for the product already rated by the user insead of predicting it for the product not rated by the user."
   ]
  },
  {
   "cell_type": "code",
   "execution_count": null,
   "metadata": {
    "ExecuteTime": {
     "end_time": "2022-04-06T05:49:49.070948Z",
     "start_time": "2022-04-06T05:46:27.696Z"
    },
    "colab": {
     "base_uri": "https://localhost:8080/",
     "height": 112
    },
    "executionInfo": {
     "elapsed": 326,
     "status": "ok",
     "timestamp": 1649227992171,
     "user": {
      "displayName": "Venkatasubramanian S",
      "userId": "06029493893713790610"
     },
     "user_tz": 420
    },
    "id": "mrYKZ2sLcUv3",
    "outputId": "1f8c010e-121c-4e94-d397-69dcb00ef79e"
   },
   "outputs": [],
   "source": [
    "train.head(2)"
   ]
  },
  {
   "cell_type": "code",
   "execution_count": null,
   "metadata": {
    "ExecuteTime": {
     "end_time": "2022-04-06T05:49:49.071846Z",
     "start_time": "2022-04-06T05:46:27.703Z"
    },
    "colab": {
     "base_uri": "https://localhost:8080/"
    },
    "executionInfo": {
     "elapsed": 23,
     "status": "ok",
     "timestamp": 1649227992171,
     "user": {
      "displayName": "Venkatasubramanian S",
      "userId": "06029493893713790610"
     },
     "user_tz": 420
    },
    "id": "Zj-IRB7AcB0_",
    "outputId": "11ee460d-6ffe-4dfe-8ea7-7fb7781152b5"
   },
   "outputs": [],
   "source": [
    "# Find out the common users of test and train dataset.\n",
    "common = test[test.reviews_username.isin(train.reviews_username)]\n",
    "common.shape"
   ]
  },
  {
   "cell_type": "code",
   "execution_count": null,
   "metadata": {
    "ExecuteTime": {
     "end_time": "2022-04-06T05:49:49.072841Z",
     "start_time": "2022-04-06T05:46:27.711Z"
    },
    "colab": {
     "base_uri": "https://localhost:8080/",
     "height": 112
    },
    "executionInfo": {
     "elapsed": 14,
     "status": "ok",
     "timestamp": 1649227992172,
     "user": {
      "displayName": "Venkatasubramanian S",
      "userId": "06029493893713790610"
     },
     "user_tz": 420
    },
    "id": "SegqLKYYcY33",
    "outputId": "cfbd5287-1d19-47b5-84e8-53b88b56cd74"
   },
   "outputs": [],
   "source": [
    "common.head(2)"
   ]
  },
  {
   "cell_type": "code",
   "execution_count": null,
   "metadata": {
    "ExecuteTime": {
     "end_time": "2022-04-06T05:49:49.073843Z",
     "start_time": "2022-04-06T05:46:27.718Z"
    },
    "executionInfo": {
     "elapsed": 13,
     "status": "ok",
     "timestamp": 1649227992173,
     "user": {
      "displayName": "Venkatasubramanian S",
      "userId": "06029493893713790610"
     },
     "user_tz": 420
    },
    "id": "s3IyvhTycOYz"
   },
   "outputs": [],
   "source": [
    "# convert into the user-product matrix.\n",
    "common_user_based_matrix = common.pivot_table(index='reviews_username', columns='id', values='reviews_rating')"
   ]
  },
  {
   "cell_type": "code",
   "execution_count": null,
   "metadata": {
    "ExecuteTime": {
     "end_time": "2022-04-06T05:49:49.074841Z",
     "start_time": "2022-04-06T05:46:27.725Z"
    },
    "colab": {
     "base_uri": "https://localhost:8080/",
     "height": 272
    },
    "executionInfo": {
     "elapsed": 11,
     "status": "ok",
     "timestamp": 1649227992173,
     "user": {
      "displayName": "Venkatasubramanian S",
      "userId": "06029493893713790610"
     },
     "user_tz": 420
    },
    "id": "xpK6rPlucvPN",
    "outputId": "d959d9eb-716d-45e3-c3ac-997c1539a2b4"
   },
   "outputs": [],
   "source": [
    "common_user_based_matrix.head(2)"
   ]
  },
  {
   "cell_type": "code",
   "execution_count": null,
   "metadata": {
    "ExecuteTime": {
     "end_time": "2022-04-06T05:49:49.076837Z",
     "start_time": "2022-04-06T05:46:27.732Z"
    },
    "executionInfo": {
     "elapsed": 11,
     "status": "ok",
     "timestamp": 1649227992174,
     "user": {
      "displayName": "Venkatasubramanian S",
      "userId": "06029493893713790610"
     },
     "user_tz": 420
    },
    "id": "9gIKC5BFcn5f"
   },
   "outputs": [],
   "source": [
    "# Convert the user_correlation matrix into dataframe.\n",
    "user_correlation_df = pd.DataFrame(user_correlation)"
   ]
  },
  {
   "cell_type": "code",
   "execution_count": null,
   "metadata": {
    "ExecuteTime": {
     "end_time": "2022-04-06T05:49:49.077840Z",
     "start_time": "2022-04-06T05:46:27.738Z"
    },
    "colab": {
     "base_uri": "https://localhost:8080/",
     "height": 205
    },
    "executionInfo": {
     "elapsed": 502,
     "status": "ok",
     "timestamp": 1649227992666,
     "user": {
      "displayName": "Venkatasubramanian S",
      "userId": "06029493893713790610"
     },
     "user_tz": 420
    },
    "id": "pBP9yIYlcqcd",
    "outputId": "23fa060b-21ca-4913-958a-8a82cf60d528"
   },
   "outputs": [],
   "source": [
    "user_correlation_df.head(2)"
   ]
  },
  {
   "cell_type": "code",
   "execution_count": null,
   "metadata": {
    "ExecuteTime": {
     "end_time": "2022-04-06T05:49:49.078838Z",
     "start_time": "2022-04-06T05:46:27.745Z"
    },
    "colab": {
     "base_uri": "https://localhost:8080/",
     "height": 240
    },
    "executionInfo": {
     "elapsed": 52,
     "status": "ok",
     "timestamp": 1649227992668,
     "user": {
      "displayName": "Venkatasubramanian S",
      "userId": "06029493893713790610"
     },
     "user_tz": 420
    },
    "id": "G39MXXhfb9kN",
    "outputId": "041537f9-c667-4c91-90f6-b3dfb9fc332a"
   },
   "outputs": [],
   "source": [
    "df_subtracted.head(1)"
   ]
  },
  {
   "cell_type": "code",
   "execution_count": null,
   "metadata": {
    "ExecuteTime": {
     "end_time": "2022-04-06T05:49:49.079838Z",
     "start_time": "2022-04-06T05:46:27.752Z"
    },
    "colab": {
     "base_uri": "https://localhost:8080/",
     "height": 237
    },
    "executionInfo": {
     "elapsed": 51,
     "status": "ok",
     "timestamp": 1649227992669,
     "user": {
      "displayName": "Venkatasubramanian S",
      "userId": "06029493893713790610"
     },
     "user_tz": 420
    },
    "id": "y5WPIfF_c2dN",
    "outputId": "fbda0716-c3ab-4000-ceb0-efb6b420c7b8"
   },
   "outputs": [],
   "source": [
    "user_correlation_df['userId'] = df_subtracted.index\n",
    "user_correlation_df.set_index('userId',inplace=True)\n",
    "user_correlation_df.head(2)"
   ]
  },
  {
   "cell_type": "code",
   "execution_count": null,
   "metadata": {
    "ExecuteTime": {
     "end_time": "2022-04-06T05:49:49.080894Z",
     "start_time": "2022-04-06T05:46:27.758Z"
    },
    "colab": {
     "base_uri": "https://localhost:8080/",
     "height": 81
    },
    "executionInfo": {
     "elapsed": 47,
     "status": "ok",
     "timestamp": 1649227992671,
     "user": {
      "displayName": "Venkatasubramanian S",
      "userId": "06029493893713790610"
     },
     "user_tz": 420
    },
    "id": "EmC23ogZc72w",
    "outputId": "d847d791-157d-4597-99d1-a9fffb7a45a0"
   },
   "outputs": [],
   "source": [
    "common.head(1)"
   ]
  },
  {
   "cell_type": "code",
   "execution_count": null,
   "metadata": {
    "ExecuteTime": {
     "end_time": "2022-04-06T05:49:49.082836Z",
     "start_time": "2022-04-06T05:46:27.766Z"
    },
    "executionInfo": {
     "elapsed": 217,
     "status": "ok",
     "timestamp": 1649227992844,
     "user": {
      "displayName": "Venkatasubramanian S",
      "userId": "06029493893713790610"
     },
     "user_tz": 420
    },
    "id": "wDtwW8I2c9vI"
   },
   "outputs": [],
   "source": [
    "list_name = common.reviews_username.tolist()\n",
    "\n",
    "user_correlation_df.columns = df_pivot.index.tolist()\n",
    "user_correlation_df_1 =  user_correlation_df[user_correlation_df.index.isin(list_name)]"
   ]
  },
  {
   "cell_type": "code",
   "execution_count": null,
   "metadata": {
    "ExecuteTime": {
     "end_time": "2022-04-06T05:49:49.083896Z",
     "start_time": "2022-04-06T05:46:27.772Z"
    },
    "colab": {
     "base_uri": "https://localhost:8080/"
    },
    "executionInfo": {
     "elapsed": 14,
     "status": "ok",
     "timestamp": 1649227992845,
     "user": {
      "displayName": "Venkatasubramanian S",
      "userId": "06029493893713790610"
     },
     "user_tz": 420
    },
    "id": "i6GGSuoqdQUP",
    "outputId": "60bf382c-9173-43d8-924e-af9c63ec6622"
   },
   "outputs": [],
   "source": [
    "user_correlation_df_1.shape"
   ]
  },
  {
   "cell_type": "code",
   "execution_count": null,
   "metadata": {
    "ExecuteTime": {
     "end_time": "2022-04-06T05:49:49.084836Z",
     "start_time": "2022-04-06T05:46:27.779Z"
    },
    "executionInfo": {
     "elapsed": 176,
     "status": "ok",
     "timestamp": 1649227993013,
     "user": {
      "displayName": "Venkatasubramanian S",
      "userId": "06029493893713790610"
     },
     "user_tz": 420
    },
    "id": "wBrf5Fp8dT1u"
   },
   "outputs": [],
   "source": [
    "user_correlation_df_2 = user_correlation_df_1.T[user_correlation_df_1.T.index.isin(list_name)]"
   ]
  },
  {
   "cell_type": "code",
   "execution_count": null,
   "metadata": {
    "ExecuteTime": {
     "end_time": "2022-04-06T05:49:49.086837Z",
     "start_time": "2022-04-06T05:46:27.785Z"
    },
    "executionInfo": {
     "elapsed": 340,
     "status": "ok",
     "timestamp": 1649227993346,
     "user": {
      "displayName": "Venkatasubramanian S",
      "userId": "06029493893713790610"
     },
     "user_tz": 420
    },
    "id": "JilEPg_4dasV"
   },
   "outputs": [],
   "source": [
    "user_correlation_df_3 = user_correlation_df_2.T"
   ]
  },
  {
   "cell_type": "code",
   "execution_count": null,
   "metadata": {
    "ExecuteTime": {
     "end_time": "2022-04-06T05:49:49.087840Z",
     "start_time": "2022-04-06T05:46:27.792Z"
    },
    "colab": {
     "base_uri": "https://localhost:8080/",
     "height": 400
    },
    "executionInfo": {
     "elapsed": 58,
     "status": "ok",
     "timestamp": 1649227993347,
     "user": {
      "displayName": "Venkatasubramanian S",
      "userId": "06029493893713790610"
     },
     "user_tz": 420
    },
    "id": "hTAAfSzCdcNk",
    "outputId": "6649215d-95ab-4aaa-8c41-ef6667e595f9"
   },
   "outputs": [],
   "source": [
    "user_correlation_df_3.head()"
   ]
  },
  {
   "cell_type": "code",
   "execution_count": null,
   "metadata": {
    "ExecuteTime": {
     "end_time": "2022-04-06T05:49:49.088838Z",
     "start_time": "2022-04-06T05:46:27.799Z"
    },
    "colab": {
     "base_uri": "https://localhost:8080/"
    },
    "executionInfo": {
     "elapsed": 37,
     "status": "ok",
     "timestamp": 1649227993347,
     "user": {
      "displayName": "Venkatasubramanian S",
      "userId": "06029493893713790610"
     },
     "user_tz": 420
    },
    "id": "m0eR0uL5ddcF",
    "outputId": "3470c586-a744-4c93-c147-e24ef8d6d71a"
   },
   "outputs": [],
   "source": [
    "user_correlation_df_3.shape"
   ]
  },
  {
   "cell_type": "code",
   "execution_count": null,
   "metadata": {
    "ExecuteTime": {
     "end_time": "2022-04-06T05:49:49.090837Z",
     "start_time": "2022-04-06T05:46:27.805Z"
    },
    "colab": {
     "base_uri": "https://localhost:8080/"
    },
    "executionInfo": {
     "elapsed": 276,
     "status": "ok",
     "timestamp": 1649227993598,
     "user": {
      "displayName": "Venkatasubramanian S",
      "userId": "06029493893713790610"
     },
     "user_tz": 420
    },
    "id": "DxKL8fbtde_h",
    "outputId": "c93683e6-68bd-48a3-9a03-63cc984274ea"
   },
   "outputs": [],
   "source": [
    "user_correlation_df_3[user_correlation_df_3<0]=0\n",
    "\n",
    "common_user_predicted_ratings = np.dot(user_correlation_df_3, common_user_based_matrix.fillna(0))\n",
    "common_user_predicted_ratings"
   ]
  },
  {
   "cell_type": "code",
   "execution_count": null,
   "metadata": {
    "ExecuteTime": {
     "end_time": "2022-04-06T05:49:49.091835Z",
     "start_time": "2022-04-06T05:46:27.814Z"
    },
    "colab": {
     "base_uri": "https://localhost:8080/",
     "height": 112
    },
    "executionInfo": {
     "elapsed": 14,
     "status": "ok",
     "timestamp": 1649227993599,
     "user": {
      "displayName": "Venkatasubramanian S",
      "userId": "06029493893713790610"
     },
     "user_tz": 420
    },
    "id": "J0zxQXvIdvro",
    "outputId": "a9a31ce0-ec6b-4ea4-8c48-6822e0ec5bcf"
   },
   "outputs": [],
   "source": [
    "common.head(2)"
   ]
  },
  {
   "cell_type": "code",
   "execution_count": null,
   "metadata": {
    "ExecuteTime": {
     "end_time": "2022-04-06T05:49:49.093840Z",
     "start_time": "2022-04-06T05:46:27.821Z"
    },
    "executionInfo": {
     "elapsed": 13,
     "status": "ok",
     "timestamp": 1649227993599,
     "user": {
      "displayName": "Venkatasubramanian S",
      "userId": "06029493893713790610"
     },
     "user_tz": 420
    },
    "id": "mOtSB-TVdg6U"
   },
   "outputs": [],
   "source": [
    "# Creating dummy test dataframe\n",
    "dummy_test = common.copy()\n",
    "\n",
    "dummy_test['reviews_rating'] = dummy_test['reviews_rating'].apply(lambda x: 1 if x>=1 else 0)\n",
    "\n",
    "dummy_test = dummy_test.pivot_table(index='reviews_username', columns='id', values='reviews_rating').fillna(0)"
   ]
  },
  {
   "cell_type": "code",
   "execution_count": null,
   "metadata": {
    "ExecuteTime": {
     "end_time": "2022-04-06T05:49:49.094838Z",
     "start_time": "2022-04-06T05:46:27.827Z"
    },
    "colab": {
     "base_uri": "https://localhost:8080/"
    },
    "executionInfo": {
     "elapsed": 12,
     "status": "ok",
     "timestamp": 1649227993599,
     "user": {
      "displayName": "Venkatasubramanian S",
      "userId": "06029493893713790610"
     },
     "user_tz": 420
    },
    "id": "EZl4kjrRd7wQ",
    "outputId": "0b63d149-498a-43cd-d104-f8f01c590306"
   },
   "outputs": [],
   "source": [
    "dummy_test.shape"
   ]
  },
  {
   "cell_type": "code",
   "execution_count": null,
   "metadata": {
    "ExecuteTime": {
     "end_time": "2022-04-06T05:49:49.095834Z",
     "start_time": "2022-04-06T05:46:27.833Z"
    },
    "executionInfo": {
     "elapsed": 7,
     "status": "ok",
     "timestamp": 1649227993600,
     "user": {
      "displayName": "Venkatasubramanian S",
      "userId": "06029493893713790610"
     },
     "user_tz": 420
    },
    "id": "sSwzF5Zqd91X"
   },
   "outputs": [],
   "source": [
    "common_user_predicted_ratings = np.multiply(common_user_predicted_ratings,dummy_test)"
   ]
  },
  {
   "cell_type": "code",
   "execution_count": null,
   "metadata": {
    "ExecuteTime": {
     "end_time": "2022-04-06T05:49:49.097839Z",
     "start_time": "2022-04-06T05:46:27.839Z"
    },
    "colab": {
     "base_uri": "https://localhost:8080/",
     "height": 272
    },
    "executionInfo": {
     "elapsed": 590,
     "status": "ok",
     "timestamp": 1649227994183,
     "user": {
      "displayName": "Venkatasubramanian S",
      "userId": "06029493893713790610"
     },
     "user_tz": 420
    },
    "id": "o-JVn07Ld_Rl",
    "outputId": "c1a02975-246b-4bd1-92bc-357be90c09c1"
   },
   "outputs": [],
   "source": [
    "common_user_predicted_ratings.head(2)"
   ]
  },
  {
   "cell_type": "markdown",
   "metadata": {
    "id": "YKPVs_mPeDBp"
   },
   "source": [
    "* Calculating the RMSE for only the products rated by user.\n",
    "* For RMSE, normalising the rating to (1,5) range."
   ]
  },
  {
   "cell_type": "code",
   "execution_count": null,
   "metadata": {
    "ExecuteTime": {
     "end_time": "2022-04-06T05:49:49.098839Z",
     "start_time": "2022-04-06T05:46:27.845Z"
    },
    "colab": {
     "base_uri": "https://localhost:8080/"
    },
    "executionInfo": {
     "elapsed": 248,
     "status": "ok",
     "timestamp": 1649227994184,
     "user": {
      "displayName": "Venkatasubramanian S",
      "userId": "06029493893713790610"
     },
     "user_tz": 420
    },
    "id": "iud5d5oVeG3l",
    "outputId": "01f76d8c-5540-40f1-86b9-81b7ad6f78de"
   },
   "outputs": [],
   "source": [
    "from sklearn.preprocessing import MinMaxScaler\n",
    "from numpy import *\n",
    "\n",
    "X  = common_user_predicted_ratings.copy() \n",
    "X = X[X>0]\n",
    "\n",
    "scaler = MinMaxScaler(feature_range=(1, 5))\n",
    "print(scaler.fit(X))\n",
    "y = (scaler.transform(X))\n",
    "\n",
    "print(y)"
   ]
  },
  {
   "cell_type": "code",
   "execution_count": null,
   "metadata": {
    "ExecuteTime": {
     "end_time": "2022-04-06T05:49:49.100839Z",
     "start_time": "2022-04-06T05:46:27.851Z"
    },
    "executionInfo": {
     "elapsed": 31,
     "status": "ok",
     "timestamp": 1649227994185,
     "user": {
      "displayName": "Venkatasubramanian S",
      "userId": "06029493893713790610"
     },
     "user_tz": 420
    },
    "id": "q1gmy_urePCj"
   },
   "outputs": [],
   "source": [
    "common_ = common.pivot_table(index='reviews_username', columns='id', values='reviews_rating')"
   ]
  },
  {
   "cell_type": "code",
   "execution_count": null,
   "metadata": {
    "ExecuteTime": {
     "end_time": "2022-04-06T05:49:49.101840Z",
     "start_time": "2022-04-06T05:46:27.857Z"
    },
    "executionInfo": {
     "elapsed": 32,
     "status": "ok",
     "timestamp": 1649227994187,
     "user": {
      "displayName": "Venkatasubramanian S",
      "userId": "06029493893713790610"
     },
     "user_tz": 420
    },
    "id": "vs0hj-4eeWaJ"
   },
   "outputs": [],
   "source": [
    "# Finding total non-NaN value\n",
    "total_non_nan = np.count_nonzero(~np.isnan(y))"
   ]
  },
  {
   "cell_type": "markdown",
   "metadata": {
    "id": "1FiqzfxLeuuU"
   },
   "source": [
    "RMSE (Root Mean Square Error) for User-User recommendation system"
   ]
  },
  {
   "cell_type": "code",
   "execution_count": null,
   "metadata": {
    "ExecuteTime": {
     "end_time": "2022-04-06T05:49:49.102838Z",
     "start_time": "2022-04-06T05:46:27.865Z"
    },
    "colab": {
     "base_uri": "https://localhost:8080/"
    },
    "executionInfo": {
     "elapsed": 30,
     "status": "ok",
     "timestamp": 1649227994188,
     "user": {
      "displayName": "Venkatasubramanian S",
      "userId": "06029493893713790610"
     },
     "user_tz": 420
    },
    "id": "186hVwNPeX1Q",
    "outputId": "6a0cc360-368b-4f12-9eeb-4108a07e76f4"
   },
   "outputs": [],
   "source": [
    "rmse_user_user = (sum(sum((common_ - y )**2))/total_non_nan)**0.5\n",
    "print(rmse_user_user)"
   ]
  },
  {
   "cell_type": "markdown",
   "metadata": {
    "id": "Rg0NYi8qkovk"
   },
   "source": [
    "## Using Item Similarity"
   ]
  },
  {
   "cell_type": "markdown",
   "metadata": {
    "id": "reaL5f5xkuNU"
   },
   "source": [
    "### Item Based Similarity"
   ]
  },
  {
   "cell_type": "markdown",
   "metadata": {
    "id": "SBfjmbiekxmB"
   },
   "source": [
    "Taking the transpose of the rating matrix to normalize the rating around the mean for different Product ID. In the user based similarity, we had taken mean for each user instead of each product. "
   ]
  },
  {
   "cell_type": "code",
   "execution_count": null,
   "metadata": {
    "ExecuteTime": {
     "end_time": "2022-04-06T05:49:49.103839Z",
     "start_time": "2022-04-06T05:46:27.877Z"
    },
    "executionInfo": {
     "elapsed": 454,
     "status": "ok",
     "timestamp": 1649227994624,
     "user": {
      "displayName": "Venkatasubramanian S",
      "userId": "06029493893713790610"
     },
     "user_tz": 420
    },
    "id": "wtg0sBrvk3Dh"
   },
   "outputs": [],
   "source": [
    "df_pivot = train.pivot_table(\n",
    "    index='reviews_username',\n",
    "    columns='id',\n",
    "    values='reviews_rating'\n",
    ").T"
   ]
  },
  {
   "cell_type": "code",
   "execution_count": null,
   "metadata": {
    "ExecuteTime": {
     "end_time": "2022-04-06T05:49:49.104836Z",
     "start_time": "2022-04-06T05:46:27.884Z"
    },
    "colab": {
     "base_uri": "https://localhost:8080/",
     "height": 418
    },
    "executionInfo": {
     "elapsed": 11,
     "status": "ok",
     "timestamp": 1649227994625,
     "user": {
      "displayName": "Venkatasubramanian S",
      "userId": "06029493893713790610"
     },
     "user_tz": 420
    },
    "id": "qCJ8VubjlDPF",
    "outputId": "3d35a391-bbeb-4ecf-a525-d3585a580070"
   },
   "outputs": [],
   "source": [
    "df_pivot.head()"
   ]
  },
  {
   "cell_type": "markdown",
   "metadata": {
    "id": "1CNVEooSlMA9"
   },
   "source": [
    "Normalizing the product rating for each product for using the Adujsted Cosine"
   ]
  },
  {
   "cell_type": "code",
   "execution_count": null,
   "metadata": {
    "ExecuteTime": {
     "end_time": "2022-04-06T05:49:49.105838Z",
     "start_time": "2022-04-06T05:46:27.894Z"
    },
    "executionInfo": {
     "elapsed": 11,
     "status": "ok",
     "timestamp": 1649227994626,
     "user": {
      "displayName": "Venkatasubramanian S",
      "userId": "06029493893713790610"
     },
     "user_tz": 420
    },
    "id": "qzXzVPZflQYI"
   },
   "outputs": [],
   "source": [
    "mean = np.nanmean(df_pivot, axis=1)\n",
    "df_subtracted = (df_pivot.T-mean).T"
   ]
  },
  {
   "cell_type": "code",
   "execution_count": null,
   "metadata": {
    "ExecuteTime": {
     "end_time": "2022-04-06T05:49:49.107837Z",
     "start_time": "2022-04-06T05:46:27.900Z"
    },
    "colab": {
     "base_uri": "https://localhost:8080/",
     "height": 418
    },
    "executionInfo": {
     "elapsed": 11,
     "status": "ok",
     "timestamp": 1649227994627,
     "user": {
      "displayName": "Venkatasubramanian S",
      "userId": "06029493893713790610"
     },
     "user_tz": 420
    },
    "id": "lvUJBrQDlSJ7",
    "outputId": "a26104c0-aef7-4a0c-db5b-6863ffd95270"
   },
   "outputs": [],
   "source": [
    "df_subtracted.head()"
   ]
  },
  {
   "cell_type": "markdown",
   "metadata": {
    "id": "MvGVkbCFlVDo"
   },
   "source": [
    "Finding the cosine similarity using pairwise distances approach"
   ]
  },
  {
   "cell_type": "code",
   "execution_count": null,
   "metadata": {
    "ExecuteTime": {
     "end_time": "2022-04-06T05:49:49.109834Z",
     "start_time": "2022-04-06T05:46:27.908Z"
    },
    "colab": {
     "base_uri": "https://localhost:8080/"
    },
    "executionInfo": {
     "elapsed": 366,
     "status": "ok",
     "timestamp": 1649227994983,
     "user": {
      "displayName": "Venkatasubramanian S",
      "userId": "06029493893713790610"
     },
     "user_tz": 420
    },
    "id": "N6obUhFJlVbd",
    "outputId": "84e4ec77-521f-4979-e5cb-69fb8714f28c"
   },
   "outputs": [],
   "source": [
    "# Item Similarity Matrix\n",
    "item_correlation = 1 - pairwise_distances(df_subtracted.fillna(0), metric='cosine')\n",
    "item_correlation[np.isnan(item_correlation)] = 0\n",
    "print(item_correlation)"
   ]
  },
  {
   "cell_type": "markdown",
   "metadata": {
    "id": "BA8r7olTlZxM"
   },
   "source": [
    "Filtering the correlation only for which the value is greater than 0. (Positively correlated)"
   ]
  },
  {
   "cell_type": "code",
   "execution_count": null,
   "metadata": {
    "ExecuteTime": {
     "end_time": "2022-04-06T05:49:49.110836Z",
     "start_time": "2022-04-06T05:46:27.915Z"
    },
    "colab": {
     "base_uri": "https://localhost:8080/"
    },
    "executionInfo": {
     "elapsed": 12,
     "status": "ok",
     "timestamp": 1649227994984,
     "user": {
      "displayName": "Venkatasubramanian S",
      "userId": "06029493893713790610"
     },
     "user_tz": 420
    },
    "id": "Igha-QoqlaOO",
    "outputId": "b53089e8-0a4f-4834-bcac-bd6e702609ea"
   },
   "outputs": [],
   "source": [
    "item_correlation[item_correlation<0]=0\n",
    "item_correlation"
   ]
  },
  {
   "cell_type": "markdown",
   "metadata": {
    "id": "Zs9YHrFqldlb"
   },
   "source": [
    "## Prediction - Item Item"
   ]
  },
  {
   "cell_type": "code",
   "execution_count": null,
   "metadata": {
    "ExecuteTime": {
     "end_time": "2022-04-06T05:49:49.112840Z",
     "start_time": "2022-04-06T05:46:27.923Z"
    },
    "colab": {
     "base_uri": "https://localhost:8080/"
    },
    "executionInfo": {
     "elapsed": 256,
     "status": "ok",
     "timestamp": 1649227995236,
     "user": {
      "displayName": "Venkatasubramanian S",
      "userId": "06029493893713790610"
     },
     "user_tz": 420
    },
    "id": "QkAWERtmlfVq",
    "outputId": "54115315-e0fa-4c5e-d08d-be26d942ebca"
   },
   "outputs": [],
   "source": [
    "item_predicted_ratings = np.dot((df_pivot.fillna(0).T),item_correlation)\n",
    "item_predicted_ratings"
   ]
  },
  {
   "cell_type": "code",
   "execution_count": null,
   "metadata": {
    "ExecuteTime": {
     "end_time": "2022-04-06T05:49:49.114834Z",
     "start_time": "2022-04-06T05:46:27.929Z"
    },
    "colab": {
     "base_uri": "https://localhost:8080/"
    },
    "executionInfo": {
     "elapsed": 49,
     "status": "ok",
     "timestamp": 1649227995237,
     "user": {
      "displayName": "Venkatasubramanian S",
      "userId": "06029493893713790610"
     },
     "user_tz": 420
    },
    "id": "F5WfcfrhlhFt",
    "outputId": "d7c8e5d1-1e90-4278-ec48-dee41f4266a6"
   },
   "outputs": [],
   "source": [
    "item_predicted_ratings.shape"
   ]
  },
  {
   "cell_type": "code",
   "execution_count": null,
   "metadata": {
    "ExecuteTime": {
     "end_time": "2022-04-06T05:49:49.115833Z",
     "start_time": "2022-04-06T05:46:27.937Z"
    },
    "colab": {
     "base_uri": "https://localhost:8080/"
    },
    "executionInfo": {
     "elapsed": 44,
     "status": "ok",
     "timestamp": 1649227995238,
     "user": {
      "displayName": "Venkatasubramanian S",
      "userId": "06029493893713790610"
     },
     "user_tz": 420
    },
    "id": "4lWVCC1LlibJ",
    "outputId": "7ef6ad50-d1d7-43c3-a024-9dd62357a331"
   },
   "outputs": [],
   "source": [
    "dummy_train.shape"
   ]
  },
  {
   "cell_type": "markdown",
   "metadata": {
    "id": "fWS1msgilmS8"
   },
   "source": [
    "### Filtering the rating only for the products not rated by the user for recommendation"
   ]
  },
  {
   "cell_type": "code",
   "execution_count": null,
   "metadata": {
    "ExecuteTime": {
     "end_time": "2022-04-06T05:49:49.117834Z",
     "start_time": "2022-04-06T05:46:27.944Z"
    },
    "colab": {
     "base_uri": "https://localhost:8080/",
     "height": 366
    },
    "executionInfo": {
     "elapsed": 37,
     "status": "ok",
     "timestamp": 1649227995238,
     "user": {
      "displayName": "Venkatasubramanian S",
      "userId": "06029493893713790610"
     },
     "user_tz": 420
    },
    "id": "v1XSg58bloQX",
    "outputId": "cf21d4e4-d346-4ec5-a080-818fa77fdee7"
   },
   "outputs": [],
   "source": [
    "item_final_rating = np.multiply(item_predicted_ratings,dummy_train)\n",
    "item_final_rating.head()"
   ]
  },
  {
   "cell_type": "code",
   "execution_count": null,
   "metadata": {
    "ExecuteTime": {
     "end_time": "2022-04-06T05:49:49.118834Z",
     "start_time": "2022-04-06T05:46:27.951Z"
    },
    "executionInfo": {
     "elapsed": 36,
     "status": "ok",
     "timestamp": 1649227995239,
     "user": {
      "displayName": "Venkatasubramanian S",
      "userId": "06029493893713790610"
     },
     "user_tz": 420
    },
    "id": "0iGAO_y9lpUB"
   },
   "outputs": [],
   "source": [
    "# Take a sample username as input.\n",
    "user_input = '00sab00'"
   ]
  },
  {
   "cell_type": "code",
   "execution_count": null,
   "metadata": {
    "ExecuteTime": {
     "end_time": "2022-04-06T05:49:49.120836Z",
     "start_time": "2022-04-06T05:46:27.958Z"
    },
    "colab": {
     "base_uri": "https://localhost:8080/",
     "height": 272
    },
    "executionInfo": {
     "elapsed": 35,
     "status": "ok",
     "timestamp": 1649227995240,
     "user": {
      "displayName": "Venkatasubramanian S",
      "userId": "06029493893713790610"
     },
     "user_tz": 420
    },
    "id": "qhCaFcCJl6D_",
    "outputId": "b97b2994-c4da-48a0-db83-23e7f9e131cf"
   },
   "outputs": [],
   "source": [
    "item_final_rating.head(2)"
   ]
  },
  {
   "cell_type": "code",
   "execution_count": null,
   "metadata": {
    "ExecuteTime": {
     "end_time": "2022-04-06T05:49:49.121835Z",
     "start_time": "2022-04-06T05:46:27.965Z"
    },
    "colab": {
     "base_uri": "https://localhost:8080/",
     "height": 677
    },
    "executionInfo": {
     "elapsed": 31,
     "status": "ok",
     "timestamp": 1649227995240,
     "user": {
      "displayName": "Venkatasubramanian S",
      "userId": "06029493893713790610"
     },
     "user_tz": 420
    },
    "id": "g_Hv4aNclydc",
    "outputId": "a811ed48-11c4-489e-9bc0-f2eb31daa1d6"
   },
   "outputs": [],
   "source": [
    "top20_item_recommendations = item_final_rating.loc[user_input].sort_values(ascending=False)[0:20]\n",
    "df_top20_item_recommendations = pd.DataFrame({'Product Id': top20_item_recommendations.index, 'cosine_similarity_score' : top20_item_recommendations})\n",
    "df_top20_item_recommendations.reset_index(drop=True, inplace=True)\n",
    "df_top20_item_recommendations"
   ]
  },
  {
   "cell_type": "markdown",
   "metadata": {
    "id": "BEOFoGghrxCo"
   },
   "source": [
    "## Finding the Top 20 products that a user is most likely to purchase based on the ratings (item-item based recommendation)"
   ]
  },
  {
   "cell_type": "code",
   "execution_count": null,
   "metadata": {
    "ExecuteTime": {
     "end_time": "2022-04-06T05:49:49.122838Z",
     "start_time": "2022-04-06T05:46:27.972Z"
    },
    "colab": {
     "base_uri": "https://localhost:8080/",
     "height": 677
    },
    "executionInfo": {
     "elapsed": 547,
     "status": "ok",
     "timestamp": 1649227995757,
     "user": {
      "displayName": "Venkatasubramanian S",
      "userId": "06029493893713790610"
     },
     "user_tz": 420
    },
    "id": "Mv9gwDZomOlR",
    "outputId": "a8970201-a5d9-49b1-f5f4-5c36b7696060"
   },
   "outputs": [],
   "source": [
    "top20_item_rec = pd.merge(df_reco, df_top20_item_recommendations,left_on='id',right_on='Product Id', how = 'inner')[['Product Id', 'name', 'cosine_similarity_score']].drop_duplicates()\n",
    "top20_item_rec.reset_index(drop=True, inplace=True)\n",
    "top20_item_rec.sort_values(by='cosine_similarity_score', ascending=False)"
   ]
  },
  {
   "cell_type": "markdown",
   "metadata": {
    "id": "xYw96r_jm5u9"
   },
   "source": [
    "## Evaluation - Item Item"
   ]
  },
  {
   "cell_type": "markdown",
   "metadata": {
    "id": "opehqeW0m8nx"
   },
   "source": [
    "Evaluation will we same as we have seen above for the prediction. The only difference being, we will evaluate for the product already rated by the user insead of predicting it for the product not rated by the user."
   ]
  },
  {
   "cell_type": "code",
   "execution_count": null,
   "metadata": {
    "ExecuteTime": {
     "end_time": "2022-04-06T05:49:49.123835Z",
     "start_time": "2022-04-06T05:46:27.983Z"
    },
    "colab": {
     "base_uri": "https://localhost:8080/"
    },
    "executionInfo": {
     "elapsed": 35,
     "status": "ok",
     "timestamp": 1649227995762,
     "user": {
      "displayName": "Venkatasubramanian S",
      "userId": "06029493893713790610"
     },
     "user_tz": 420
    },
    "id": "cmR4ZppwnA8Z",
    "outputId": "5e55bb6a-30c4-4941-cac7-fd2c07530215"
   },
   "outputs": [],
   "source": [
    "test.columns"
   ]
  },
  {
   "cell_type": "code",
   "execution_count": null,
   "metadata": {
    "ExecuteTime": {
     "end_time": "2022-04-06T05:49:49.125839Z",
     "start_time": "2022-04-06T05:46:27.990Z"
    },
    "colab": {
     "base_uri": "https://localhost:8080/"
    },
    "executionInfo": {
     "elapsed": 34,
     "status": "ok",
     "timestamp": 1649227995763,
     "user": {
      "displayName": "Venkatasubramanian S",
      "userId": "06029493893713790610"
     },
     "user_tz": 420
    },
    "id": "FO-I8cC_nCSa",
    "outputId": "f6d386b7-5624-4e13-bb08-409df3d76900"
   },
   "outputs": [],
   "source": [
    "# Find out the common products of test and train dataset.\n",
    "common = test[test.id.isin(train.id)]\n",
    "common.shape"
   ]
  },
  {
   "cell_type": "code",
   "execution_count": null,
   "metadata": {
    "ExecuteTime": {
     "end_time": "2022-04-06T05:49:49.126836Z",
     "start_time": "2022-04-06T05:46:27.998Z"
    },
    "colab": {
     "base_uri": "https://localhost:8080/",
     "height": 112
    },
    "executionInfo": {
     "elapsed": 27,
     "status": "ok",
     "timestamp": 1649227995764,
     "user": {
      "displayName": "Venkatasubramanian S",
      "userId": "06029493893713790610"
     },
     "user_tz": 420
    },
    "id": "eAoKrtcKnLrY",
    "outputId": "17697af7-1612-4db6-de74-14a24d25ba1f"
   },
   "outputs": [],
   "source": [
    "common.head(2)"
   ]
  },
  {
   "cell_type": "code",
   "execution_count": null,
   "metadata": {
    "ExecuteTime": {
     "end_time": "2022-04-06T05:49:49.127842Z",
     "start_time": "2022-04-06T05:46:28.004Z"
    },
    "executionInfo": {
     "elapsed": 26,
     "status": "ok",
     "timestamp": 1649227995764,
     "user": {
      "displayName": "Venkatasubramanian S",
      "userId": "06029493893713790610"
     },
     "user_tz": 420
    },
    "id": "vRI2RZzFnQ8A"
   },
   "outputs": [],
   "source": [
    "common_item_based_matrix = common.pivot_table(index='reviews_username', columns='id', values='reviews_rating').T"
   ]
  },
  {
   "cell_type": "code",
   "execution_count": null,
   "metadata": {
    "ExecuteTime": {
     "end_time": "2022-04-06T05:49:49.129035Z",
     "start_time": "2022-04-06T05:46:28.010Z"
    },
    "colab": {
     "base_uri": "https://localhost:8080/"
    },
    "executionInfo": {
     "elapsed": 24,
     "status": "ok",
     "timestamp": 1649227995765,
     "user": {
      "displayName": "Venkatasubramanian S",
      "userId": "06029493893713790610"
     },
     "user_tz": 420
    },
    "id": "VoHN1psjnYGQ",
    "outputId": "7d0b9623-2ddb-431e-faf5-6f13ee698cef"
   },
   "outputs": [],
   "source": [
    "common_item_based_matrix.shape"
   ]
  },
  {
   "cell_type": "code",
   "execution_count": null,
   "metadata": {
    "ExecuteTime": {
     "end_time": "2022-04-06T05:49:49.129839Z",
     "start_time": "2022-04-06T05:46:28.016Z"
    },
    "executionInfo": {
     "elapsed": 16,
     "status": "ok",
     "timestamp": 1649227995765,
     "user": {
      "displayName": "Venkatasubramanian S",
      "userId": "06029493893713790610"
     },
     "user_tz": 420
    },
    "id": "vRMLr9VhnZj7"
   },
   "outputs": [],
   "source": [
    "item_correlation_df = pd.DataFrame(item_correlation)"
   ]
  },
  {
   "cell_type": "code",
   "execution_count": null,
   "metadata": {
    "ExecuteTime": {
     "end_time": "2022-04-06T05:49:49.130838Z",
     "start_time": "2022-04-06T05:46:28.022Z"
    },
    "colab": {
     "base_uri": "https://localhost:8080/",
     "height": 205
    },
    "executionInfo": {
     "elapsed": 16,
     "status": "ok",
     "timestamp": 1649227995766,
     "user": {
      "displayName": "Venkatasubramanian S",
      "userId": "06029493893713790610"
     },
     "user_tz": 420
    },
    "id": "gwOMMJEonbAl",
    "outputId": "b9a8c007-7b3f-4bf7-e7fe-7f2afc302a72"
   },
   "outputs": [],
   "source": [
    "item_correlation_df.head(2)"
   ]
  },
  {
   "cell_type": "code",
   "execution_count": null,
   "metadata": {
    "ExecuteTime": {
     "end_time": "2022-04-06T05:49:49.133836Z",
     "start_time": "2022-04-06T05:46:28.029Z"
    },
    "colab": {
     "base_uri": "https://localhost:8080/",
     "height": 418
    },
    "executionInfo": {
     "elapsed": 195,
     "status": "ok",
     "timestamp": 1649227995947,
     "user": {
      "displayName": "Venkatasubramanian S",
      "userId": "06029493893713790610"
     },
     "user_tz": 420
    },
    "id": "i3MtHLovnc5n",
    "outputId": "97e02521-8df9-4efe-e8b5-ecc01d257bc4"
   },
   "outputs": [],
   "source": [
    "item_correlation_df['movieId'] = df_subtracted.index\n",
    "item_correlation_df.set_index('movieId',inplace=True)\n",
    "item_correlation_df.head()"
   ]
  },
  {
   "cell_type": "code",
   "execution_count": null,
   "metadata": {
    "ExecuteTime": {
     "end_time": "2022-04-06T05:49:49.134834Z",
     "start_time": "2022-04-06T05:46:28.035Z"
    },
    "executionInfo": {
     "elapsed": 39,
     "status": "ok",
     "timestamp": 1649227995948,
     "user": {
      "displayName": "Venkatasubramanian S",
      "userId": "06029493893713790610"
     },
     "user_tz": 420
    },
    "id": "QvP0s7VFnecZ"
   },
   "outputs": [],
   "source": [
    "list_name = common.id.tolist()"
   ]
  },
  {
   "cell_type": "code",
   "execution_count": null,
   "metadata": {
    "ExecuteTime": {
     "end_time": "2022-04-06T05:49:49.135840Z",
     "start_time": "2022-04-06T05:46:28.042Z"
    },
    "executionInfo": {
     "elapsed": 41,
     "status": "ok",
     "timestamp": 1649227995950,
     "user": {
      "displayName": "Venkatasubramanian S",
      "userId": "06029493893713790610"
     },
     "user_tz": 420
    },
    "id": "UWwgM3P2njh0"
   },
   "outputs": [],
   "source": [
    "item_correlation_df.columns = df_subtracted.index.tolist()\n",
    "\n",
    "item_correlation_df_1 =  item_correlation_df[item_correlation_df.index.isin(list_name)]"
   ]
  },
  {
   "cell_type": "code",
   "execution_count": null,
   "metadata": {
    "ExecuteTime": {
     "end_time": "2022-04-06T05:49:49.136839Z",
     "start_time": "2022-04-06T05:46:28.050Z"
    },
    "executionInfo": {
     "elapsed": 41,
     "status": "ok",
     "timestamp": 1649227995951,
     "user": {
      "displayName": "Venkatasubramanian S",
      "userId": "06029493893713790610"
     },
     "user_tz": 420
    },
    "id": "rn8fuk6LnmQn"
   },
   "outputs": [],
   "source": [
    "item_correlation_df_2 = item_correlation_df_1.T[item_correlation_df_1.T.index.isin(list_name)]\n",
    "\n",
    "item_correlation_df_3 = item_correlation_df_2.T"
   ]
  },
  {
   "cell_type": "code",
   "execution_count": null,
   "metadata": {
    "ExecuteTime": {
     "end_time": "2022-04-06T05:49:49.138836Z",
     "start_time": "2022-04-06T05:46:28.058Z"
    },
    "colab": {
     "base_uri": "https://localhost:8080/",
     "height": 306
    },
    "executionInfo": {
     "elapsed": 40,
     "status": "ok",
     "timestamp": 1649227995951,
     "user": {
      "displayName": "Venkatasubramanian S",
      "userId": "06029493893713790610"
     },
     "user_tz": 420
    },
    "id": "7pPuontSnndS",
    "outputId": "d3f73dba-c2d5-4899-81a1-b8b00e4d1b03"
   },
   "outputs": [],
   "source": [
    "item_correlation_df_3.head(2)"
   ]
  },
  {
   "cell_type": "code",
   "execution_count": null,
   "metadata": {
    "ExecuteTime": {
     "end_time": "2022-04-06T05:49:49.139834Z",
     "start_time": "2022-04-06T05:46:28.067Z"
    },
    "colab": {
     "base_uri": "https://localhost:8080/"
    },
    "executionInfo": {
     "elapsed": 39,
     "status": "ok",
     "timestamp": 1649227995952,
     "user": {
      "displayName": "Venkatasubramanian S",
      "userId": "06029493893713790610"
     },
     "user_tz": 420
    },
    "id": "RP9DwHJbnqYU",
    "outputId": "844295dc-6b96-47bc-a948-a62398919dd0"
   },
   "outputs": [],
   "source": [
    "item_correlation_df_3[item_correlation_df_3<0]=0\n",
    "\n",
    "common_item_predicted_ratings = np.dot(item_correlation_df_3, common_item_based_matrix.fillna(0))\n",
    "common_item_predicted_ratings"
   ]
  },
  {
   "cell_type": "code",
   "execution_count": null,
   "metadata": {
    "ExecuteTime": {
     "end_time": "2022-04-06T05:49:49.140835Z",
     "start_time": "2022-04-06T05:46:28.076Z"
    },
    "colab": {
     "base_uri": "https://localhost:8080/"
    },
    "executionInfo": {
     "elapsed": 28,
     "status": "ok",
     "timestamp": 1649227995952,
     "user": {
      "displayName": "Venkatasubramanian S",
      "userId": "06029493893713790610"
     },
     "user_tz": 420
    },
    "id": "3bV6H7OynsaQ",
    "outputId": "58493189-55cb-4159-bb96-e50d6d710f68"
   },
   "outputs": [],
   "source": [
    "common_item_predicted_ratings.shape"
   ]
  },
  {
   "cell_type": "code",
   "execution_count": null,
   "metadata": {
    "ExecuteTime": {
     "end_time": "2022-04-06T05:49:49.141974Z",
     "start_time": "2022-04-06T05:46:28.084Z"
    },
    "colab": {
     "base_uri": "https://localhost:8080/",
     "height": 112
    },
    "executionInfo": {
     "elapsed": 19,
     "status": "ok",
     "timestamp": 1649227995953,
     "user": {
      "displayName": "Venkatasubramanian S",
      "userId": "06029493893713790610"
     },
     "user_tz": 420
    },
    "id": "oj1E1v9on8YQ",
    "outputId": "1841b1d9-326a-4b55-e36d-313ac6c9fa58"
   },
   "outputs": [],
   "source": [
    "common.head(2)"
   ]
  },
  {
   "cell_type": "code",
   "execution_count": null,
   "metadata": {
    "ExecuteTime": {
     "end_time": "2022-04-06T05:49:49.143833Z",
     "start_time": "2022-04-06T05:46:28.093Z"
    },
    "executionInfo": {
     "elapsed": 17,
     "status": "ok",
     "timestamp": 1649227995953,
     "user": {
      "displayName": "Venkatasubramanian S",
      "userId": "06029493893713790610"
     },
     "user_tz": 420
    },
    "id": "ZZC1V5r4nuu7"
   },
   "outputs": [],
   "source": [
    "# Dummy test will be used for evaluation\n",
    "dummy_test = common.copy()\n",
    "\n",
    "dummy_test['reviews_rating'] = dummy_test['reviews_rating'].apply(lambda x: 1 if x>=1 else 0)\n",
    "\n",
    "dummy_test = dummy_test.pivot_table(index='reviews_username', columns='id', values='reviews_rating').T.fillna(0)\n",
    "\n",
    "common_item_predicted_ratings = np.multiply(common_item_predicted_ratings,dummy_test)"
   ]
  },
  {
   "cell_type": "markdown",
   "metadata": {
    "id": "C9D0-6jCoMRi"
   },
   "source": [
    "The products not rated are marked as 0 for evaluation"
   ]
  },
  {
   "cell_type": "code",
   "execution_count": null,
   "metadata": {
    "ExecuteTime": {
     "end_time": "2022-04-06T05:49:49.144833Z",
     "start_time": "2022-04-06T05:46:28.103Z"
    },
    "executionInfo": {
     "elapsed": 490,
     "status": "ok",
     "timestamp": 1649227996427,
     "user": {
      "displayName": "Venkatasubramanian S",
      "userId": "06029493893713790610"
     },
     "user_tz": 420
    },
    "id": "_IFAorP7oPdZ"
   },
   "outputs": [],
   "source": [
    "common_ = common.pivot_table(index='reviews_username', columns='id', values='reviews_rating').T"
   ]
  },
  {
   "cell_type": "code",
   "execution_count": null,
   "metadata": {
    "ExecuteTime": {
     "end_time": "2022-04-06T05:49:49.145834Z",
     "start_time": "2022-04-06T05:46:28.111Z"
    },
    "colab": {
     "base_uri": "https://localhost:8080/"
    },
    "executionInfo": {
     "elapsed": 312,
     "status": "ok",
     "timestamp": 1649227996737,
     "user": {
      "displayName": "Venkatasubramanian S",
      "userId": "06029493893713790610"
     },
     "user_tz": 420
    },
    "id": "fbTsHTANobtn",
    "outputId": "db605b2a-8541-45e9-8ac6-1381357b2d62"
   },
   "outputs": [],
   "source": [
    "from sklearn.preprocessing import MinMaxScaler\n",
    "from numpy import *\n",
    "\n",
    "X  = common_item_predicted_ratings.copy() \n",
    "X = X[X>0]\n",
    "\n",
    "scaler = MinMaxScaler(feature_range=(1, 5))\n",
    "print(scaler.fit(X))\n",
    "y = (scaler.transform(X))\n",
    "\n",
    "print(y)"
   ]
  },
  {
   "cell_type": "code",
   "execution_count": null,
   "metadata": {
    "ExecuteTime": {
     "end_time": "2022-04-06T05:49:49.147835Z",
     "start_time": "2022-04-06T05:46:28.121Z"
    },
    "executionInfo": {
     "elapsed": 32,
     "status": "ok",
     "timestamp": 1649227996738,
     "user": {
      "displayName": "Venkatasubramanian S",
      "userId": "06029493893713790610"
     },
     "user_tz": 420
    },
    "id": "rCqfA8vDoi0p"
   },
   "outputs": [],
   "source": [
    "# Finding total non-NaN value\n",
    "total_non_nan = np.count_nonzero(~np.isnan(y))"
   ]
  },
  {
   "cell_type": "markdown",
   "metadata": {
    "id": "Y7yA81W0oq7g"
   },
   "source": [
    "RMSE (Root Mean Square Error) for Item-Item recommendation system"
   ]
  },
  {
   "cell_type": "code",
   "execution_count": null,
   "metadata": {
    "ExecuteTime": {
     "end_time": "2022-04-06T05:49:49.149833Z",
     "start_time": "2022-04-06T05:46:28.129Z"
    },
    "colab": {
     "base_uri": "https://localhost:8080/"
    },
    "executionInfo": {
     "elapsed": 33,
     "status": "ok",
     "timestamp": 1649227996739,
     "user": {
      "displayName": "Venkatasubramanian S",
      "userId": "06029493893713790610"
     },
     "user_tz": 420
    },
    "id": "SpmH39OYoq7h",
    "outputId": "baf0f893-39b2-467a-a469-d7a8e5ee1d29"
   },
   "outputs": [],
   "source": [
    "rmse_item_item = (sum(sum((common_ - y )**2))/total_non_nan)**0.5\n",
    "print(rmse_item_item)"
   ]
  },
  {
   "cell_type": "markdown",
   "metadata": {
    "id": "HB9sM1wypCWP"
   },
   "source": [
    "# Best-suited Recommendation model"
   ]
  },
  {
   "cell_type": "markdown",
   "metadata": {
    "id": "D-dB35DkpaKs"
   },
   "source": [
    "* To get the best recommendation model, we will use RMSE (Root Mean Square Error) scores for both user-user and item-item based recommendation systems and do a comparison of the values.\n",
    "* The recommendation model with the least RMSE will be selected as the best recommendation model."
   ]
  },
  {
   "cell_type": "code",
   "execution_count": null,
   "metadata": {
    "ExecuteTime": {
     "end_time": "2022-04-06T05:49:49.150834Z",
     "start_time": "2022-04-06T05:46:28.141Z"
    },
    "colab": {
     "base_uri": "https://localhost:8080/"
    },
    "executionInfo": {
     "elapsed": 27,
     "status": "ok",
     "timestamp": 1649227996740,
     "user": {
      "displayName": "Venkatasubramanian S",
      "userId": "06029493893713790610"
     },
     "user_tz": 420
    },
    "id": "ut1vPF-OptwH",
    "outputId": "1062bc3c-4021-43f6-b49a-65b3c9a36247"
   },
   "outputs": [],
   "source": [
    "# Recommended model evaluation\n",
    "if rmse_user_user < rmse_item_item:\n",
    "  print(\"Best-fit model is user-user recommendation system\")\n",
    "else:\n",
    "  print(\"Best-fit model is item-item recommendation system\")"
   ]
  },
  {
   "cell_type": "markdown",
   "metadata": {
    "id": "ViQ8Iq7XqaxH"
   },
   "source": [
    "# Top 20 Product recommendations to the user by the best recommendation model (user-user based recommendation system)"
   ]
  },
  {
   "cell_type": "code",
   "execution_count": null,
   "metadata": {
    "ExecuteTime": {
     "end_time": "2022-04-06T05:49:49.151833Z",
     "start_time": "2022-04-06T05:46:28.150Z"
    },
    "executionInfo": {
     "elapsed": 23,
     "status": "ok",
     "timestamp": 1649227996741,
     "user": {
      "displayName": "Venkatasubramanian S",
      "userId": "06029493893713790610"
     },
     "user_tz": 420
    },
    "id": "UqfNS5o-2xPg"
   },
   "outputs": [],
   "source": [
    "# Take a sample username as input\n",
    "user_input = 'evrydayhustla420'"
   ]
  },
  {
   "cell_type": "code",
   "execution_count": null,
   "metadata": {
    "ExecuteTime": {
     "end_time": "2022-04-06T05:49:49.153834Z",
     "start_time": "2022-04-06T05:46:28.156Z"
    },
    "colab": {
     "base_uri": "https://localhost:8080/",
     "height": 677
    },
    "executionInfo": {
     "elapsed": 22,
     "status": "ok",
     "timestamp": 1649227996741,
     "user": {
      "displayName": "Venkatasubramanian S",
      "userId": "06029493893713790610"
     },
     "user_tz": 420
    },
    "id": "bhKVigPP2xPi",
    "outputId": "b6797a88-08f2-450a-af7c-b11762417fdf"
   },
   "outputs": [],
   "source": [
    "top20_recommendations = user_final_rating.loc[user_input].sort_values(ascending=False)[0:20]\n",
    "df_top20_recommendations = pd.DataFrame({'Product Id': top20_recommendations.index, 'cosine_similarity_score' : top20_recommendations})\n",
    "df_top20_recommendations.reset_index(drop=True, inplace=True)\n",
    "df_top20_recommendations"
   ]
  },
  {
   "cell_type": "code",
   "execution_count": null,
   "metadata": {
    "ExecuteTime": {
     "end_time": "2022-04-06T05:49:49.154835Z",
     "start_time": "2022-04-06T05:46:28.163Z"
    },
    "colab": {
     "base_uri": "https://localhost:8080/",
     "height": 677
    },
    "executionInfo": {
     "elapsed": 22,
     "status": "ok",
     "timestamp": 1649227996742,
     "user": {
      "displayName": "Venkatasubramanian S",
      "userId": "06029493893713790610"
     },
     "user_tz": 420
    },
    "id": "5lYAOHhI2xPj",
    "outputId": "2c077aad-dd0c-4f87-a336-568002440d08"
   },
   "outputs": [],
   "source": [
    "top20_rec = pd.merge(df_reco, df_top20_recommendations,left_on='id',right_on='Product Id', how = 'inner')[['Product Id', 'name', 'cosine_similarity_score']].drop_duplicates()\n",
    "top20_rec.reset_index(drop=True, inplace=True)\n",
    "top20_rec.sort_values(by='cosine_similarity_score', ascending=False)"
   ]
  },
  {
   "cell_type": "markdown",
   "metadata": {
    "id": "baYZuxSsrjcj"
   },
   "source": [
    "# Saving the best recommendation model"
   ]
  },
  {
   "cell_type": "code",
   "execution_count": null,
   "metadata": {
    "ExecuteTime": {
     "end_time": "2022-04-06T05:49:49.156836Z",
     "start_time": "2022-04-06T05:46:28.172Z"
    },
    "colab": {
     "base_uri": "https://localhost:8080/"
    },
    "executionInfo": {
     "elapsed": 21,
     "status": "ok",
     "timestamp": 1649227996742,
     "user": {
      "displayName": "Venkatasubramanian S",
      "userId": "06029493893713790610"
     },
     "user_tz": 420
    },
    "id": "8TzvB1AosAkO",
    "outputId": "0a01d0af-c861-4d4c-f92b-02cba986473f"
   },
   "outputs": [],
   "source": [
    "user_final_rating.shape"
   ]
  },
  {
   "cell_type": "code",
   "execution_count": null,
   "metadata": {
    "ExecuteTime": {
     "end_time": "2022-04-06T05:49:49.159833Z",
     "start_time": "2022-04-06T05:46:28.180Z"
    },
    "colab": {
     "base_uri": "https://localhost:8080/",
     "height": 272
    },
    "executionInfo": {
     "elapsed": 16,
     "status": "ok",
     "timestamp": 1649227996743,
     "user": {
      "displayName": "Venkatasubramanian S",
      "userId": "06029493893713790610"
     },
     "user_tz": 420
    },
    "id": "TR_0n2XYsBbE",
    "outputId": "fe63b973-5e1a-432f-be62-c9e8cf8fa019"
   },
   "outputs": [],
   "source": [
    "user_final_rating.head(2)"
   ]
  },
  {
   "cell_type": "code",
   "execution_count": null,
   "metadata": {
    "ExecuteTime": {
     "end_time": "2022-04-06T05:49:49.160834Z",
     "start_time": "2022-04-06T05:46:28.187Z"
    },
    "executionInfo": {
     "elapsed": 183,
     "status": "ok",
     "timestamp": 1649227996911,
     "user": {
      "displayName": "Venkatasubramanian S",
      "userId": "06029493893713790610"
     },
     "user_tz": 420
    },
    "id": "7kcteDiIrljW"
   },
   "outputs": [],
   "source": [
    "best_recommendation_model = pickle.dump(user_final_rating.astype('float32'), open('./models/best_recommendation_model.pkl', 'wb'))"
   ]
  },
  {
   "cell_type": "markdown",
   "metadata": {
    "id": "YZrOOAXPq8Ku"
   },
   "source": [
    "# Fine-Tuning the Recommendation System and Recommendation of Top 5 Products"
   ]
  },
  {
   "cell_type": "code",
   "execution_count": null,
   "metadata": {
    "ExecuteTime": {
     "end_time": "2022-04-06T05:49:49.162835Z",
     "start_time": "2022-04-06T05:46:28.195Z"
    },
    "executionInfo": {
     "elapsed": 3,
     "status": "ok",
     "timestamp": 1649227996911,
     "user": {
      "displayName": "Venkatasubramanian S",
      "userId": "06029493893713790610"
     },
     "user_tz": 420
    },
    "id": "_v5Os-nDOVHz"
   },
   "outputs": [],
   "source": [
    "# Create function to recommend top 5 products to any user\n",
    "def product_recommendations_user(user_name):\n",
    "  if user_name not in user_final_rating.index:\n",
    "    print(f\"The User {user_name} does not exist. Please provide a valid user name\")\n",
    "  else:\n",
    "    # Get top 20 recommended products from the best recommendation model\n",
    "    top20_recommended_products = list(user_final_rating.loc[user_name].sort_values(ascending=False)[0:20].index)\n",
    "    # Get only the recommended products from the prepared dataframe \"df_sent\"\n",
    "    df_top20_products = df_sent[df_sent.id.isin(top20_recommended_products)]\n",
    "    # For these 20 products, get their user reviews and pass them through TF-IDF vectorizer to convert the data into suitable format for modeling\n",
    "    X = tfidf.transform(df_top20_products[\"reviews_lemmatized\"].values.astype(str))\n",
    "    # Use the best sentiment model to predict the sentiment for these user reviews\n",
    "    df_top20_products['predicted_sentiment'] = logreg.predict(X)\n",
    "    # Create a new column to map Positive sentiment to 1 and Negative sentiment to 0. This will allow us to easily summarize the data\n",
    "    df_top20_products['positive_sentiment'] = df_top20_products['predicted_sentiment'].apply(lambda x: 1 if x==\"Positive\" else 0)\n",
    "    # Create a new dataframe \"pred_df\" to store the count of positive user sentiments\n",
    "    pred_df = df_top20_products.groupby(by='name').sum()\n",
    "    pred_df.columns=['pos_sent_count']\n",
    "    # Create a column to measure the total sentiment count\n",
    "    pred_df['total_sent_count'] = df_top20_products.groupby(by='name')['predicted_sentiment'].count()\n",
    "    # Create a column that measures the % of positive user sentiment for each product review\n",
    "    pred_df['post_sent_percentage'] = np.round(pred_df['pos_sent_count']/pred_df['total_sent_count']*100,2)\n",
    "    # Return top 5 recommended products to the user\n",
    "    result = pred_df.sort_values(by='post_sent_percentage', ascending=False)[:5]\n",
    "    return result"
   ]
  },
  {
   "cell_type": "markdown",
   "metadata": {
    "id": "CkdSuLuBg-jI"
   },
   "source": [
    "# Top 5 Products Recommendation"
   ]
  },
  {
   "cell_type": "code",
   "execution_count": null,
   "metadata": {
    "ExecuteTime": {
     "end_time": "2022-04-06T05:49:49.164837Z",
     "start_time": "2022-04-06T05:46:28.202Z"
    },
    "colab": {
     "base_uri": "https://localhost:8080/",
     "height": 290
    },
    "executionInfo": {
     "elapsed": 1549,
     "status": "ok",
     "timestamp": 1649227998457,
     "user": {
      "displayName": "Venkatasubramanian S",
      "userId": "06029493893713790610"
     },
     "user_tz": 420
    },
    "id": "khbT8A14eaTF",
    "outputId": "e9dce216-273d-4da6-993d-f57d3935c378"
   },
   "outputs": [],
   "source": [
    "# Take a sample username as input\n",
    "user_input = 'charlie'\n",
    "# 'Venkat'\n",
    "# 'debb'\n",
    "# 'evrydayhustla420'\n",
    "print(f\"Printing the top 5 recommended products for the user: {user_input} along with each product's positive sentiment count, overall review count and positive sentiment %\")\n",
    "print(\"\\n\")\n",
    "top5_reco_sent_reco_user = product_recommendations_user(user_input)\n",
    "top5_reco_sent_reco_user"
   ]
  },
  {
   "cell_type": "code",
   "execution_count": null,
   "metadata": {
    "ExecuteTime": {
     "end_time": "2022-04-06T05:49:49.165835Z",
     "start_time": "2022-04-06T05:46:28.210Z"
    },
    "colab": {
     "base_uri": "https://localhost:8080/"
    },
    "executionInfo": {
     "elapsed": 32,
     "status": "ok",
     "timestamp": 1649227998459,
     "user": {
      "displayName": "Venkatasubramanian S",
      "userId": "06029493893713790610"
     },
     "user_tz": 420
    },
    "id": "HdiYHojBgQS1",
    "outputId": "82ed2068-cc56-4cf9-b3f9-da69906d7222"
   },
   "outputs": [],
   "source": [
    "# Showing only the top 5 Product Names for the user\n",
    "print(f\"Printing the top 5 recommended products list for the user: {user_input}\")\n",
    "print(list(top5_reco_sent_reco_user.index))"
   ]
  }
 ],
 "metadata": {
  "colab": {
   "collapsed_sections": [],
   "name": "Sentiment Based Product Recommendation System.ipynb",
   "provenance": [],
   "toc_visible": true
  },
  "kernelspec": {
   "display_name": "Python 3 (ipykernel)",
   "language": "python",
   "name": "python3"
  },
  "language_info": {
   "codemirror_mode": {
    "name": "ipython",
    "version": 3
   },
   "file_extension": ".py",
   "mimetype": "text/x-python",
   "name": "python",
   "nbconvert_exporter": "python",
   "pygments_lexer": "ipython3",
   "version": "3.11.5"
  },
  "toc": {
   "base_numbering": 1,
   "nav_menu": {},
   "number_sections": true,
   "sideBar": true,
   "skip_h1_title": false,
   "title_cell": "Table of Contents",
   "title_sidebar": "Contents",
   "toc_cell": false,
   "toc_position": {},
   "toc_section_display": true,
   "toc_window_display": true
  }
 },
 "nbformat": 4,
 "nbformat_minor": 1
}
